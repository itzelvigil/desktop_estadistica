{
 "cells": [
  {
   "cell_type": "code",
   "execution_count": 285,
   "id": "assumed-cycle",
   "metadata": {},
   "outputs": [],
   "source": [
    "import numpy as np\n",
    "import pandas as pd\n",
    "pd.set_option(\"display.max_columns\",None)\n",
    "import geopandas as gpd\n",
    "import matplotlib as mpl\n",
    "import matplotlib.pyplot as plt\n",
    "from matplotlib import cm\n",
    "from mpl_toolkits.axes_grid1 import make_axes_locatable\n",
    "from sklearn.metrics import mean_squared_error\n",
    "from scipy import stats\n",
    "import os"
   ]
  },
  {
   "cell_type": "code",
   "execution_count": 286,
   "id": "present-klein",
   "metadata": {},
   "outputs": [],
   "source": [
    "# file = pd.read_excel(\"Files/Data/ComputoGobernador2015_Casilla (1).xlsx\", sheet_name = \"POR CASILLA\", skiprows=1,skipfooter=1) # Alexis\n",
    "file = pd.read_csv(\"Files/Data/ComputoGobernador2015_Casilla (1).csv\")\n",
    "muestra_actual = pd.read_csv(\"Files/Exports/PAQUETES.csv\")"
   ]
  },
  {
   "cell_type": "code",
   "execution_count": 287,
   "id": "matched-providence",
   "metadata": {},
   "outputs": [
    {
     "data": {
      "text/html": [
       "<div>\n",
       "<style scoped>\n",
       "    .dataframe tbody tr th:only-of-type {\n",
       "        vertical-align: middle;\n",
       "    }\n",
       "\n",
       "    .dataframe tbody tr th {\n",
       "        vertical-align: top;\n",
       "    }\n",
       "\n",
       "    .dataframe thead th {\n",
       "        text-align: right;\n",
       "    }\n",
       "</style>\n",
       "<table border=\"1\" class=\"dataframe\">\n",
       "  <thead>\n",
       "    <tr style=\"text-align: right;\">\n",
       "      <th></th>\n",
       "      <th>LLEGADA</th>\n",
       "      <th>DISTRITO.LOCAL</th>\n",
       "      <th>MUNICIPIO</th>\n",
       "      <th>SECCION</th>\n",
       "      <th>CASILLA</th>\n",
       "      <th>PAN</th>\n",
       "      <th>PRI</th>\n",
       "      <th>PRD</th>\n",
       "      <th>PVEM</th>\n",
       "      <th>PT</th>\n",
       "      <th>PANAL</th>\n",
       "      <th>MORENA</th>\n",
       "      <th>HUMANISTA</th>\n",
       "      <th>ENCUENTRO.SOCIAL</th>\n",
       "      <th>PRI.PVEM.PANAL</th>\n",
       "      <th>PRI.PVEM</th>\n",
       "      <th>PRI.PANAL</th>\n",
       "      <th>PVEM.PANAL</th>\n",
       "      <th>COALICION</th>\n",
       "      <th>CANDIDATO.NO.REGISTRADO</th>\n",
       "      <th>VOTOS.NULOS</th>\n",
       "      <th>TOTAL.VOTOS.VALIDOS</th>\n",
       "      <th>VOTACION.TOTAL.EMITIDA</th>\n",
       "    </tr>\n",
       "  </thead>\n",
       "  <tbody>\n",
       "    <tr>\n",
       "      <th>0</th>\n",
       "      <td>216.0</td>\n",
       "      <td>OBREGON CENTRO XVII</td>\n",
       "      <td>CAJEME</td>\n",
       "      <td>961.0</td>\n",
       "      <td>BASICA</td>\n",
       "      <td>195.0</td>\n",
       "      <td>150.0</td>\n",
       "      <td>1.0</td>\n",
       "      <td>1.0</td>\n",
       "      <td>3.0</td>\n",
       "      <td>1.0</td>\n",
       "      <td>11.0</td>\n",
       "      <td>0.0</td>\n",
       "      <td>0.0</td>\n",
       "      <td>0.0</td>\n",
       "      <td>8.0</td>\n",
       "      <td>0.0</td>\n",
       "      <td>0.0</td>\n",
       "      <td>160.0</td>\n",
       "      <td>0.0</td>\n",
       "      <td>3.0</td>\n",
       "      <td>370.0</td>\n",
       "      <td>373.0</td>\n",
       "    </tr>\n",
       "    <tr>\n",
       "      <th>1</th>\n",
       "      <td>228.0</td>\n",
       "      <td>HERMOSILLO NORESTE X</td>\n",
       "      <td>HERMOSILLO</td>\n",
       "      <td>361.0</td>\n",
       "      <td>CONTIGUA 1</td>\n",
       "      <td>120.0</td>\n",
       "      <td>97.0</td>\n",
       "      <td>6.0</td>\n",
       "      <td>4.0</td>\n",
       "      <td>2.0</td>\n",
       "      <td>1.0</td>\n",
       "      <td>7.0</td>\n",
       "      <td>1.0</td>\n",
       "      <td>0.0</td>\n",
       "      <td>1.0</td>\n",
       "      <td>1.0</td>\n",
       "      <td>0.0</td>\n",
       "      <td>0.0</td>\n",
       "      <td>104.0</td>\n",
       "      <td>0.0</td>\n",
       "      <td>7.0</td>\n",
       "      <td>240.0</td>\n",
       "      <td>247.0</td>\n",
       "    </tr>\n",
       "    <tr>\n",
       "      <th>2</th>\n",
       "      <td>145.0</td>\n",
       "      <td>NAVOJOA NORTE XIX</td>\n",
       "      <td>QUIRIEGO</td>\n",
       "      <td>1307.0</td>\n",
       "      <td>BASICA</td>\n",
       "      <td>248.0</td>\n",
       "      <td>182.0</td>\n",
       "      <td>4.0</td>\n",
       "      <td>1.0</td>\n",
       "      <td>4.0</td>\n",
       "      <td>1.0</td>\n",
       "      <td>0.0</td>\n",
       "      <td>0.0</td>\n",
       "      <td>1.0</td>\n",
       "      <td>3.0</td>\n",
       "      <td>1.0</td>\n",
       "      <td>1.0</td>\n",
       "      <td>0.0</td>\n",
       "      <td>189.0</td>\n",
       "      <td>0.0</td>\n",
       "      <td>1.0</td>\n",
       "      <td>446.0</td>\n",
       "      <td>447.0</td>\n",
       "    </tr>\n",
       "    <tr>\n",
       "      <th>3</th>\n",
       "      <td>39.0</td>\n",
       "      <td>OBREGON NORTE XVIII</td>\n",
       "      <td>CAJEME</td>\n",
       "      <td>952.0</td>\n",
       "      <td>EXTRAORDINARIA 1</td>\n",
       "      <td>78.0</td>\n",
       "      <td>78.0</td>\n",
       "      <td>5.0</td>\n",
       "      <td>1.0</td>\n",
       "      <td>4.0</td>\n",
       "      <td>9.0</td>\n",
       "      <td>7.0</td>\n",
       "      <td>0.0</td>\n",
       "      <td>1.0</td>\n",
       "      <td>0.0</td>\n",
       "      <td>3.0</td>\n",
       "      <td>1.0</td>\n",
       "      <td>0.0</td>\n",
       "      <td>92.0</td>\n",
       "      <td>0.0</td>\n",
       "      <td>8.0</td>\n",
       "      <td>187.0</td>\n",
       "      <td>195.0</td>\n",
       "    </tr>\n",
       "    <tr>\n",
       "      <th>4</th>\n",
       "      <td>88.0</td>\n",
       "      <td>CABORCA III</td>\n",
       "      <td>CABORCA</td>\n",
       "      <td>314.0</td>\n",
       "      <td>CONTIGUA 2</td>\n",
       "      <td>145.0</td>\n",
       "      <td>202.0</td>\n",
       "      <td>5.0</td>\n",
       "      <td>3.0</td>\n",
       "      <td>9.0</td>\n",
       "      <td>6.0</td>\n",
       "      <td>22.0</td>\n",
       "      <td>2.0</td>\n",
       "      <td>6.0</td>\n",
       "      <td>2.0</td>\n",
       "      <td>0.0</td>\n",
       "      <td>0.0</td>\n",
       "      <td>0.0</td>\n",
       "      <td>213.0</td>\n",
       "      <td>0.0</td>\n",
       "      <td>9.0</td>\n",
       "      <td>402.0</td>\n",
       "      <td>411.0</td>\n",
       "    </tr>\n",
       "    <tr>\n",
       "      <th>...</th>\n",
       "      <td>...</td>\n",
       "      <td>...</td>\n",
       "      <td>...</td>\n",
       "      <td>...</td>\n",
       "      <td>...</td>\n",
       "      <td>...</td>\n",
       "      <td>...</td>\n",
       "      <td>...</td>\n",
       "      <td>...</td>\n",
       "      <td>...</td>\n",
       "      <td>...</td>\n",
       "      <td>...</td>\n",
       "      <td>...</td>\n",
       "      <td>...</td>\n",
       "      <td>...</td>\n",
       "      <td>...</td>\n",
       "      <td>...</td>\n",
       "      <td>...</td>\n",
       "      <td>...</td>\n",
       "      <td>...</td>\n",
       "      <td>...</td>\n",
       "      <td>...</td>\n",
       "      <td>...</td>\n",
       "    </tr>\n",
       "    <tr>\n",
       "      <th>300</th>\n",
       "      <td>147.0</td>\n",
       "      <td>SAN LUIS RIO COLORADO I</td>\n",
       "      <td>SAN LUIS RIO COLORADO</td>\n",
       "      <td>658.0</td>\n",
       "      <td>BASICA</td>\n",
       "      <td>94.0</td>\n",
       "      <td>59.0</td>\n",
       "      <td>2.0</td>\n",
       "      <td>5.0</td>\n",
       "      <td>0.0</td>\n",
       "      <td>6.0</td>\n",
       "      <td>7.0</td>\n",
       "      <td>0.0</td>\n",
       "      <td>3.0</td>\n",
       "      <td>0.0</td>\n",
       "      <td>0.0</td>\n",
       "      <td>1.0</td>\n",
       "      <td>0.0</td>\n",
       "      <td>71.0</td>\n",
       "      <td>0.0</td>\n",
       "      <td>3.0</td>\n",
       "      <td>177.0</td>\n",
       "      <td>180.0</td>\n",
       "    </tr>\n",
       "    <tr>\n",
       "      <th>301</th>\n",
       "      <td>251.0</td>\n",
       "      <td>HERMOSILLO COSTA XI</td>\n",
       "      <td>HERMOSILLO</td>\n",
       "      <td>1500.0</td>\n",
       "      <td>BASICA</td>\n",
       "      <td>94.0</td>\n",
       "      <td>93.0</td>\n",
       "      <td>12.0</td>\n",
       "      <td>1.0</td>\n",
       "      <td>3.0</td>\n",
       "      <td>6.0</td>\n",
       "      <td>6.0</td>\n",
       "      <td>3.0</td>\n",
       "      <td>3.0</td>\n",
       "      <td>0.0</td>\n",
       "      <td>2.0</td>\n",
       "      <td>0.0</td>\n",
       "      <td>0.0</td>\n",
       "      <td>102.0</td>\n",
       "      <td>0.0</td>\n",
       "      <td>4.0</td>\n",
       "      <td>223.0</td>\n",
       "      <td>227.0</td>\n",
       "    </tr>\n",
       "    <tr>\n",
       "      <th>302</th>\n",
       "      <td>48.0</td>\n",
       "      <td>GUAYMAS XIII</td>\n",
       "      <td>GUAYMAS</td>\n",
       "      <td>1059.0</td>\n",
       "      <td>CONTIGUA 1</td>\n",
       "      <td>161.0</td>\n",
       "      <td>101.0</td>\n",
       "      <td>6.0</td>\n",
       "      <td>4.0</td>\n",
       "      <td>19.0</td>\n",
       "      <td>5.0</td>\n",
       "      <td>21.0</td>\n",
       "      <td>4.0</td>\n",
       "      <td>3.0</td>\n",
       "      <td>2.0</td>\n",
       "      <td>0.0</td>\n",
       "      <td>0.0</td>\n",
       "      <td>0.0</td>\n",
       "      <td>112.0</td>\n",
       "      <td>0.0</td>\n",
       "      <td>3.0</td>\n",
       "      <td>326.0</td>\n",
       "      <td>329.0</td>\n",
       "    </tr>\n",
       "    <tr>\n",
       "      <th>303</th>\n",
       "      <td>309.0</td>\n",
       "      <td>AGUA PRIETA VII</td>\n",
       "      <td>AGUA PRIETA</td>\n",
       "      <td>30.0</td>\n",
       "      <td>BASICA</td>\n",
       "      <td>53.0</td>\n",
       "      <td>57.0</td>\n",
       "      <td>0.0</td>\n",
       "      <td>3.0</td>\n",
       "      <td>0.0</td>\n",
       "      <td>29.0</td>\n",
       "      <td>0.0</td>\n",
       "      <td>0.0</td>\n",
       "      <td>0.0</td>\n",
       "      <td>4.0</td>\n",
       "      <td>1.0</td>\n",
       "      <td>8.0</td>\n",
       "      <td>0.0</td>\n",
       "      <td>102.0</td>\n",
       "      <td>0.0</td>\n",
       "      <td>1.0</td>\n",
       "      <td>155.0</td>\n",
       "      <td>156.0</td>\n",
       "    </tr>\n",
       "    <tr>\n",
       "      <th>304</th>\n",
       "      <td>134.0</td>\n",
       "      <td>OBREGON CENTRO XVII</td>\n",
       "      <td>CAJEME</td>\n",
       "      <td>776.0</td>\n",
       "      <td>BASICA</td>\n",
       "      <td>113.0</td>\n",
       "      <td>278.0</td>\n",
       "      <td>10.0</td>\n",
       "      <td>4.0</td>\n",
       "      <td>6.0</td>\n",
       "      <td>0.0</td>\n",
       "      <td>10.0</td>\n",
       "      <td>8.0</td>\n",
       "      <td>1.0</td>\n",
       "      <td>3.0</td>\n",
       "      <td>1.0</td>\n",
       "      <td>0.0</td>\n",
       "      <td>0.0</td>\n",
       "      <td>286.0</td>\n",
       "      <td>0.0</td>\n",
       "      <td>15.0</td>\n",
       "      <td>434.0</td>\n",
       "      <td>449.0</td>\n",
       "    </tr>\n",
       "  </tbody>\n",
       "</table>\n",
       "<p>305 rows × 23 columns</p>\n",
       "</div>"
      ],
      "text/plain": [
       "     LLEGADA               DISTRITO.LOCAL              MUNICIPIO  SECCION  \\\n",
       "0      216.0         OBREGON CENTRO XVII                  CAJEME    961.0   \n",
       "1      228.0     HERMOSILLO NORESTE X                 HERMOSILLO    361.0   \n",
       "2      145.0          NAVOJOA NORTE XIX                 QUIRIEGO   1307.0   \n",
       "3       39.0          OBREGON NORTE XVIII                 CAJEME    952.0   \n",
       "4       88.0                CABORCA III                  CABORCA    314.0   \n",
       "..       ...                          ...                    ...      ...   \n",
       "300    147.0  SAN LUIS RIO COLORADO I      SAN LUIS RIO COLORADO    658.0   \n",
       "301    251.0       HERMOSILLO COSTA XI                HERMOSILLO   1500.0   \n",
       "302     48.0                GUAYMAS XIII                 GUAYMAS   1059.0   \n",
       "303    309.0            AGUA PRIETA VII              AGUA PRIETA     30.0   \n",
       "304    134.0         OBREGON CENTRO XVII                  CAJEME    776.0   \n",
       "\n",
       "              CASILLA    PAN    PRI   PRD  PVEM    PT  PANAL  MORENA  \\\n",
       "0              BASICA  195.0  150.0   1.0   1.0   3.0    1.0    11.0   \n",
       "1          CONTIGUA 1  120.0   97.0   6.0   4.0   2.0    1.0     7.0   \n",
       "2              BASICA  248.0  182.0   4.0   1.0   4.0    1.0     0.0   \n",
       "3    EXTRAORDINARIA 1   78.0   78.0   5.0   1.0   4.0    9.0     7.0   \n",
       "4          CONTIGUA 2  145.0  202.0   5.0   3.0   9.0    6.0    22.0   \n",
       "..                ...    ...    ...   ...   ...   ...    ...     ...   \n",
       "300            BASICA   94.0   59.0   2.0   5.0   0.0    6.0     7.0   \n",
       "301            BASICA   94.0   93.0  12.0   1.0   3.0    6.0     6.0   \n",
       "302        CONTIGUA 1  161.0  101.0   6.0   4.0  19.0    5.0    21.0   \n",
       "303            BASICA   53.0   57.0   0.0   3.0   0.0   29.0     0.0   \n",
       "304            BASICA  113.0  278.0  10.0   4.0   6.0    0.0    10.0   \n",
       "\n",
       "     HUMANISTA  ENCUENTRO.SOCIAL  PRI.PVEM.PANAL  PRI.PVEM  PRI.PANAL  \\\n",
       "0          0.0               0.0             0.0       8.0        0.0   \n",
       "1          1.0               0.0             1.0       1.0        0.0   \n",
       "2          0.0               1.0             3.0       1.0        1.0   \n",
       "3          0.0               1.0             0.0       3.0        1.0   \n",
       "4          2.0               6.0             2.0       0.0        0.0   \n",
       "..         ...               ...             ...       ...        ...   \n",
       "300        0.0               3.0             0.0       0.0        1.0   \n",
       "301        3.0               3.0             0.0       2.0        0.0   \n",
       "302        4.0               3.0             2.0       0.0        0.0   \n",
       "303        0.0               0.0             4.0       1.0        8.0   \n",
       "304        8.0               1.0             3.0       1.0        0.0   \n",
       "\n",
       "     PVEM.PANAL  COALICION  CANDIDATO.NO.REGISTRADO  VOTOS.NULOS  \\\n",
       "0           0.0      160.0                      0.0          3.0   \n",
       "1           0.0      104.0                      0.0          7.0   \n",
       "2           0.0      189.0                      0.0          1.0   \n",
       "3           0.0       92.0                      0.0          8.0   \n",
       "4           0.0      213.0                      0.0          9.0   \n",
       "..          ...        ...                      ...          ...   \n",
       "300         0.0       71.0                      0.0          3.0   \n",
       "301         0.0      102.0                      0.0          4.0   \n",
       "302         0.0      112.0                      0.0          3.0   \n",
       "303         0.0      102.0                      0.0          1.0   \n",
       "304         0.0      286.0                      0.0         15.0   \n",
       "\n",
       "     TOTAL.VOTOS.VALIDOS  VOTACION.TOTAL.EMITIDA  \n",
       "0                  370.0                   373.0  \n",
       "1                  240.0                   247.0  \n",
       "2                  446.0                   447.0  \n",
       "3                  187.0                   195.0  \n",
       "4                  402.0                   411.0  \n",
       "..                   ...                     ...  \n",
       "300                177.0                   180.0  \n",
       "301                223.0                   227.0  \n",
       "302                326.0                   329.0  \n",
       "303                155.0                   156.0  \n",
       "304                434.0                   449.0  \n",
       "\n",
       "[305 rows x 23 columns]"
      ]
     },
     "execution_count": 287,
     "metadata": {},
     "output_type": "execute_result"
    }
   ],
   "source": [
    "muestra_actual"
   ]
  },
  {
   "cell_type": "code",
   "execution_count": 288,
   "id": "ultimate-johnson",
   "metadata": {},
   "outputs": [
    {
     "data": {
      "text/html": [
       "<div>\n",
       "<style scoped>\n",
       "    .dataframe tbody tr th:only-of-type {\n",
       "        vertical-align: middle;\n",
       "    }\n",
       "\n",
       "    .dataframe tbody tr th {\n",
       "        vertical-align: top;\n",
       "    }\n",
       "\n",
       "    .dataframe thead th {\n",
       "        text-align: right;\n",
       "    }\n",
       "</style>\n",
       "<table border=\"1\" class=\"dataframe\">\n",
       "  <thead>\n",
       "    <tr style=\"text-align: right;\">\n",
       "      <th></th>\n",
       "      <th>DISTRITO.LOCAL</th>\n",
       "      <th>TOTAL</th>\n",
       "    </tr>\n",
       "  </thead>\n",
       "  <tbody>\n",
       "    <tr>\n",
       "      <th>0</th>\n",
       "      <td>AGUA PRIETA VII</td>\n",
       "      <td>15</td>\n",
       "    </tr>\n",
       "    <tr>\n",
       "      <th>1</th>\n",
       "      <td>CABORCA III</td>\n",
       "      <td>14</td>\n",
       "    </tr>\n",
       "    <tr>\n",
       "      <th>2</th>\n",
       "      <td>CANANEA VI</td>\n",
       "      <td>13</td>\n",
       "    </tr>\n",
       "    <tr>\n",
       "      <th>3</th>\n",
       "      <td>EMPALME XIV</td>\n",
       "      <td>12</td>\n",
       "    </tr>\n",
       "    <tr>\n",
       "      <th>4</th>\n",
       "      <td>ETCHOJOA XX</td>\n",
       "      <td>15</td>\n",
       "    </tr>\n",
       "    <tr>\n",
       "      <th>5</th>\n",
       "      <td>GUAYMAS XIII</td>\n",
       "      <td>14</td>\n",
       "    </tr>\n",
       "    <tr>\n",
       "      <th>6</th>\n",
       "      <td>HERMOSILLO CENTRO IX</td>\n",
       "      <td>15</td>\n",
       "    </tr>\n",
       "    <tr>\n",
       "      <th>7</th>\n",
       "      <td>HERMOSILLO COSTA XI</td>\n",
       "      <td>17</td>\n",
       "    </tr>\n",
       "    <tr>\n",
       "      <th>8</th>\n",
       "      <td>HERMOSILLO NORESTE X</td>\n",
       "      <td>16</td>\n",
       "    </tr>\n",
       "    <tr>\n",
       "      <th>9</th>\n",
       "      <td>HERMOSILLO NOROESTE VIII</td>\n",
       "      <td>19</td>\n",
       "    </tr>\n",
       "    <tr>\n",
       "      <th>10</th>\n",
       "      <td>HERMOSILLO SUR XII</td>\n",
       "      <td>16</td>\n",
       "    </tr>\n",
       "    <tr>\n",
       "      <th>11</th>\n",
       "      <td>HUATABAMPO XXI</td>\n",
       "      <td>11</td>\n",
       "    </tr>\n",
       "    <tr>\n",
       "      <th>12</th>\n",
       "      <td>NAVOJOA NORTE XIX</td>\n",
       "      <td>13</td>\n",
       "    </tr>\n",
       "    <tr>\n",
       "      <th>13</th>\n",
       "      <td>NOGALES NORTE IV</td>\n",
       "      <td>9</td>\n",
       "    </tr>\n",
       "    <tr>\n",
       "      <th>14</th>\n",
       "      <td>NOGALES SUR V</td>\n",
       "      <td>19</td>\n",
       "    </tr>\n",
       "    <tr>\n",
       "      <th>15</th>\n",
       "      <td>OBREGON CENTRO XVII</td>\n",
       "      <td>15</td>\n",
       "    </tr>\n",
       "    <tr>\n",
       "      <th>16</th>\n",
       "      <td>OBREGON NORTE XVIII</td>\n",
       "      <td>14</td>\n",
       "    </tr>\n",
       "    <tr>\n",
       "      <th>17</th>\n",
       "      <td>OBREGON SUR XV</td>\n",
       "      <td>13</td>\n",
       "    </tr>\n",
       "    <tr>\n",
       "      <th>18</th>\n",
       "      <td>OBREGON SURESTE XVI</td>\n",
       "      <td>14</td>\n",
       "    </tr>\n",
       "    <tr>\n",
       "      <th>19</th>\n",
       "      <td>PUERTO PEÑASCO II</td>\n",
       "      <td>18</td>\n",
       "    </tr>\n",
       "    <tr>\n",
       "      <th>20</th>\n",
       "      <td>SAN LUIS RIO COLORADO I</td>\n",
       "      <td>13</td>\n",
       "    </tr>\n",
       "  </tbody>\n",
       "</table>\n",
       "</div>"
      ],
      "text/plain": [
       "                 DISTRITO.LOCAL  TOTAL\n",
       "0             AGUA PRIETA VII       15\n",
       "1                 CABORCA III       14\n",
       "2                 CANANEA VI        13\n",
       "3                 EMPALME XIV       12\n",
       "4                ETCHOJOA XX        15\n",
       "5                 GUAYMAS XIII      14\n",
       "6       HERMOSILLO CENTRO IX        15\n",
       "7        HERMOSILLO COSTA XI        17\n",
       "8      HERMOSILLO NORESTE X         16\n",
       "9     HERMOSILLO NOROESTE VIII      19\n",
       "10         HERMOSILLO SUR XII       16\n",
       "11             HUATABAMPO XXI       11\n",
       "12          NAVOJOA NORTE XIX       13\n",
       "13          NOGALES NORTE IV         9\n",
       "14            NOGALES SUR V         19\n",
       "15         OBREGON CENTRO XVII      15\n",
       "16          OBREGON NORTE XVIII     14\n",
       "17            OBREGON SUR XV        13\n",
       "18        OBREGON SURESTE XVI       14\n",
       "19         PUERTO PEÑASCO II        18\n",
       "20  SAN LUIS RIO COLORADO I         13"
      ]
     },
     "execution_count": 288,
     "metadata": {},
     "output_type": "execute_result"
    }
   ],
   "source": [
    "df_dic = muestra_actual.groupby(\"DISTRITO.LOCAL\").agg({\"PAN\":\"count\"}).reset_index().rename(columns={\"PAN\" : \"TOTAL\"})\n",
    "df_dic"
   ]
  },
  {
   "cell_type": "code",
   "execution_count": 289,
   "id": "honey-center",
   "metadata": {},
   "outputs": [],
   "source": [
    "sim = pd.DataFrame()\n",
    "# Declara el DataFrame de varianzas\n",
    "varianzas = pd.DataFrame()\n",
    "# Crear dataframe muestra\n",
    "muestra = pd.DataFrame()\n",
    "# Crear dataframe muestra distritos\n",
    "muestra_distritos = pd.DataFrame()\n",
    "for index,row in df_dic.iterrows():\n",
    "    total_distrito = file[file[\"DISTRITO LOCAL\"] == row[0]].iloc[:,:]\n",
    "    # obtener muestra por distrito\n",
    "    muestra_dis = muestra_actual[muestra_actual[\"DISTRITO.LOCAL\"] == row[0]]\n",
    "    m1 = muestra_dis.iloc[:, 5:]\n",
    "    cociente = len(total_distrito)/len(m1)\n",
    "    suma_dis = cociente*(m1.sum())\n",
    "    # agregamos a nuestros dataframes de la simulacion actual\n",
    "    muestra_distritos = muestra_distritos.append(suma_dis, ignore_index = True)\n",
    "    # agregamos la muestra con todos los datos\n",
    "    muestra = muestra.append(muestra_dis, ignore_index = True)\n",
    "\n",
    "# calculamos la proporcion de la simulacion\n",
    "X_gorro = muestra_distritos.sum()[\"VOTACION.TOTAL.EMITIDA\"]\n",
    "# Una Y__gorro por partido\n",
    "Y_gorros = muestra_distritos.sum()\n",
    "suma = Y_gorros / X_gorro\n",
    "sim = sim.append(suma, ignore_index = True)\n",
    "\n",
    "# Calculamos la varianza\n",
    "varianza_distritos = pd.DataFrame()\n",
    "for index,row in df_dic.iterrows():\n",
    "    total_distrito = file[file[\"DISTRITO LOCAL\"] == row[0]].iloc[:,:]\n",
    "    tmp_dis_varianza = muestra[muestra[\"DISTRITO.LOCAL\"] == row[0]].iloc[:,5:]\n",
    "    Nh = len(total_distrito)\n",
    "    nh = row[1]\n",
    "\n",
    "    tmp_var = pd.DataFrame()\n",
    "    for index, row_var in tmp_dis_varianza.iterrows():\n",
    "        G_hi = (row_var - (suma * row_var[\"VOTACION.TOTAL.EMITIDA\"])) / X_gorro\n",
    "        tmp_var = tmp_var.append(G_hi, ignore_index = True)\n",
    "\n",
    "    # Calculamos las Gh\n",
    "    G_h = tmp_var.sum()/nh\n",
    "    # Data frame para guardar la resta al cuadrado de las (Ghi - Gh)^2\n",
    "    tmp_var_square = pd.DataFrame()\n",
    "    for index, row_var in tmp_var.iterrows():\n",
    "        sub_square_tmp = (row_var - G_h) ** 2\n",
    "        tmp_var_square = tmp_var_square.append(sub_square_tmp, ignore_index = True)\n",
    "\n",
    "    var_Ghi = tmp_var_square.sum()/(row[1] - 1)\n",
    "    var_distrito = (Nh ** 2) * ((1/nh) - (1/Nh)) * var_Ghi\n",
    "    varianza_distritos = varianza_distritos.append(var_distrito, ignore_index = True)\n",
    "\n",
    "varianzas = varianzas.append(varianza_distritos.sum(), ignore_index = True)"
   ]
  },
  {
   "cell_type": "code",
   "execution_count": 290,
   "id": "abstract-cement",
   "metadata": {},
   "outputs": [
    {
     "data": {
      "text/html": [
       "<div>\n",
       "<style scoped>\n",
       "    .dataframe tbody tr th:only-of-type {\n",
       "        vertical-align: middle;\n",
       "    }\n",
       "\n",
       "    .dataframe tbody tr th {\n",
       "        vertical-align: top;\n",
       "    }\n",
       "\n",
       "    .dataframe thead th {\n",
       "        text-align: right;\n",
       "    }\n",
       "</style>\n",
       "<table border=\"1\" class=\"dataframe\">\n",
       "  <thead>\n",
       "    <tr style=\"text-align: right;\">\n",
       "      <th></th>\n",
       "      <th>CANDIDATO.NO.REGISTRADO</th>\n",
       "      <th>COALICION</th>\n",
       "      <th>ENCUENTRO.SOCIAL</th>\n",
       "      <th>HUMANISTA</th>\n",
       "      <th>MORENA</th>\n",
       "      <th>PAN</th>\n",
       "      <th>PANAL</th>\n",
       "      <th>PRD</th>\n",
       "      <th>PRI</th>\n",
       "      <th>PRI.PANAL</th>\n",
       "      <th>PRI.PVEM</th>\n",
       "      <th>PRI.PVEM.PANAL</th>\n",
       "      <th>PT</th>\n",
       "      <th>PVEM</th>\n",
       "      <th>PVEM.PANAL</th>\n",
       "      <th>TOTAL.VOTOS.VALIDOS</th>\n",
       "      <th>VOTACION.TOTAL.EMITIDA</th>\n",
       "      <th>VOTOS.NULOS</th>\n",
       "    </tr>\n",
       "  </thead>\n",
       "  <tbody>\n",
       "    <tr>\n",
       "      <th>0</th>\n",
       "      <td>0.000622</td>\n",
       "      <td>0.475442</td>\n",
       "      <td>0.010034</td>\n",
       "      <td>0.007395</td>\n",
       "      <td>0.029216</td>\n",
       "      <td>0.403218</td>\n",
       "      <td>0.014667</td>\n",
       "      <td>0.035306</td>\n",
       "      <td>0.432081</td>\n",
       "      <td>0.003062</td>\n",
       "      <td>0.006879</td>\n",
       "      <td>0.007593</td>\n",
       "      <td>0.015169</td>\n",
       "      <td>0.010924</td>\n",
       "      <td>0.000236</td>\n",
       "      <td>0.975781</td>\n",
       "      <td>1.0</td>\n",
       "      <td>0.023597</td>\n",
       "    </tr>\n",
       "  </tbody>\n",
       "</table>\n",
       "</div>"
      ],
      "text/plain": [
       "   CANDIDATO.NO.REGISTRADO  COALICION  ENCUENTRO.SOCIAL  HUMANISTA    MORENA  \\\n",
       "0                 0.000622   0.475442          0.010034   0.007395  0.029216   \n",
       "\n",
       "        PAN     PANAL       PRD       PRI  PRI.PANAL  PRI.PVEM  \\\n",
       "0  0.403218  0.014667  0.035306  0.432081   0.003062  0.006879   \n",
       "\n",
       "   PRI.PVEM.PANAL        PT      PVEM  PVEM.PANAL  TOTAL.VOTOS.VALIDOS  \\\n",
       "0        0.007593  0.015169  0.010924    0.000236             0.975781   \n",
       "\n",
       "   VOTACION.TOTAL.EMITIDA  VOTOS.NULOS  \n",
       "0                     1.0     0.023597  "
      ]
     },
     "execution_count": 290,
     "metadata": {},
     "output_type": "execute_result"
    }
   ],
   "source": [
    "sim"
   ]
  },
  {
   "cell_type": "code",
   "execution_count": 291,
   "id": "insured-matthew",
   "metadata": {},
   "outputs": [
    {
     "data": {
      "text/html": [
       "<div>\n",
       "<style scoped>\n",
       "    .dataframe tbody tr th:only-of-type {\n",
       "        vertical-align: middle;\n",
       "    }\n",
       "\n",
       "    .dataframe tbody tr th {\n",
       "        vertical-align: top;\n",
       "    }\n",
       "\n",
       "    .dataframe thead th {\n",
       "        text-align: right;\n",
       "    }\n",
       "</style>\n",
       "<table border=\"1\" class=\"dataframe\">\n",
       "  <thead>\n",
       "    <tr style=\"text-align: right;\">\n",
       "      <th></th>\n",
       "      <th>CANDIDATO.NO.REGISTRADO</th>\n",
       "      <th>COALICION</th>\n",
       "      <th>ENCUENTRO.SOCIAL</th>\n",
       "      <th>HUMANISTA</th>\n",
       "      <th>MORENA</th>\n",
       "      <th>PAN</th>\n",
       "      <th>PANAL</th>\n",
       "      <th>PRD</th>\n",
       "      <th>PRI</th>\n",
       "      <th>PRI.PANAL</th>\n",
       "      <th>PRI.PVEM</th>\n",
       "      <th>PRI.PVEM.PANAL</th>\n",
       "      <th>PT</th>\n",
       "      <th>PVEM</th>\n",
       "      <th>PVEM.PANAL</th>\n",
       "      <th>TOTAL.VOTOS.VALIDOS</th>\n",
       "      <th>VOTACION.TOTAL.EMITIDA</th>\n",
       "      <th>VOTOS.NULOS</th>\n",
       "    </tr>\n",
       "  </thead>\n",
       "  <tbody>\n",
       "    <tr>\n",
       "      <th>0</th>\n",
       "      <td>1.198970e-08</td>\n",
       "      <td>0.000022</td>\n",
       "      <td>1.979481e-07</td>\n",
       "      <td>1.142639e-07</td>\n",
       "      <td>9.662938e-07</td>\n",
       "      <td>0.000022</td>\n",
       "      <td>8.797401e-07</td>\n",
       "      <td>0.000005</td>\n",
       "      <td>0.000021</td>\n",
       "      <td>7.086650e-07</td>\n",
       "      <td>7.778184e-07</td>\n",
       "      <td>9.073765e-07</td>\n",
       "      <td>3.641503e-07</td>\n",
       "      <td>3.998728e-07</td>\n",
       "      <td>9.283462e-09</td>\n",
       "      <td>4.302399e-07</td>\n",
       "      <td>0.0</td>\n",
       "      <td>4.297959e-07</td>\n",
       "    </tr>\n",
       "  </tbody>\n",
       "</table>\n",
       "</div>"
      ],
      "text/plain": [
       "   CANDIDATO.NO.REGISTRADO  COALICION  ENCUENTRO.SOCIAL     HUMANISTA  \\\n",
       "0             1.198970e-08   0.000022      1.979481e-07  1.142639e-07   \n",
       "\n",
       "         MORENA       PAN         PANAL       PRD       PRI     PRI.PANAL  \\\n",
       "0  9.662938e-07  0.000022  8.797401e-07  0.000005  0.000021  7.086650e-07   \n",
       "\n",
       "       PRI.PVEM  PRI.PVEM.PANAL            PT          PVEM    PVEM.PANAL  \\\n",
       "0  7.778184e-07    9.073765e-07  3.641503e-07  3.998728e-07  9.283462e-09   \n",
       "\n",
       "   TOTAL.VOTOS.VALIDOS  VOTACION.TOTAL.EMITIDA   VOTOS.NULOS  \n",
       "0         4.302399e-07                     0.0  4.297959e-07  "
      ]
     },
     "execution_count": 291,
     "metadata": {},
     "output_type": "execute_result"
    }
   ],
   "source": [
    "varianzas"
   ]
  },
  {
   "cell_type": "code",
   "execution_count": 292,
   "id": "satisfactory-ferry",
   "metadata": {},
   "outputs": [
    {
     "data": {
      "text/html": [
       "<div>\n",
       "<style scoped>\n",
       "    .dataframe tbody tr th:only-of-type {\n",
       "        vertical-align: middle;\n",
       "    }\n",
       "\n",
       "    .dataframe tbody tr th {\n",
       "        vertical-align: top;\n",
       "    }\n",
       "\n",
       "    .dataframe thead th {\n",
       "        text-align: right;\n",
       "    }\n",
       "</style>\n",
       "<table border=\"1\" class=\"dataframe\">\n",
       "  <thead>\n",
       "    <tr style=\"text-align: right;\">\n",
       "      <th></th>\n",
       "      <th>CANDIDATO.NO.REGISTRADO</th>\n",
       "      <th>COALICION</th>\n",
       "      <th>ENCUENTRO.SOCIAL</th>\n",
       "      <th>HUMANISTA</th>\n",
       "      <th>MORENA</th>\n",
       "      <th>PAN</th>\n",
       "      <th>PANAL</th>\n",
       "      <th>PRD</th>\n",
       "      <th>PRI</th>\n",
       "      <th>PRI.PANAL</th>\n",
       "      <th>PRI.PVEM</th>\n",
       "      <th>PRI.PVEM.PANAL</th>\n",
       "      <th>PT</th>\n",
       "      <th>PVEM</th>\n",
       "      <th>PVEM.PANAL</th>\n",
       "      <th>TOTAL.VOTOS.VALIDOS</th>\n",
       "      <th>VOTACION.TOTAL.EMITIDA</th>\n",
       "      <th>VOTOS.NULOS</th>\n",
       "    </tr>\n",
       "  </thead>\n",
       "  <tbody>\n",
       "    <tr>\n",
       "      <th>0</th>\n",
       "      <td>0.000282</td>\n",
       "      <td>0.012025</td>\n",
       "      <td>0.001146</td>\n",
       "      <td>0.00087</td>\n",
       "      <td>0.002531</td>\n",
       "      <td>0.012059</td>\n",
       "      <td>0.002415</td>\n",
       "      <td>0.005618</td>\n",
       "      <td>0.011925</td>\n",
       "      <td>0.002168</td>\n",
       "      <td>0.002271</td>\n",
       "      <td>0.002453</td>\n",
       "      <td>0.001554</td>\n",
       "      <td>0.001628</td>\n",
       "      <td>0.000248</td>\n",
       "      <td>0.001689</td>\n",
       "      <td>0.0</td>\n",
       "      <td>0.001688</td>\n",
       "    </tr>\n",
       "  </tbody>\n",
       "</table>\n",
       "</div>"
      ],
      "text/plain": [
       "   CANDIDATO.NO.REGISTRADO  COALICION  ENCUENTRO.SOCIAL  HUMANISTA    MORENA  \\\n",
       "0                 0.000282   0.012025          0.001146    0.00087  0.002531   \n",
       "\n",
       "        PAN     PANAL       PRD       PRI  PRI.PANAL  PRI.PVEM  \\\n",
       "0  0.012059  0.002415  0.005618  0.011925   0.002168  0.002271   \n",
       "\n",
       "   PRI.PVEM.PANAL        PT      PVEM  PVEM.PANAL  TOTAL.VOTOS.VALIDOS  \\\n",
       "0        0.002453  0.001554  0.001628    0.000248             0.001689   \n",
       "\n",
       "   VOTACION.TOTAL.EMITIDA  VOTOS.NULOS  \n",
       "0                     0.0     0.001688  "
      ]
     },
     "execution_count": 292,
     "metadata": {},
     "output_type": "execute_result"
    }
   ],
   "source": [
    "delta = 2.575 * (varianzas ** (1/2))\n",
    "delta"
   ]
  },
  {
   "cell_type": "code",
   "execution_count": null,
   "id": "hearing-viking",
   "metadata": {},
   "outputs": [],
   "source": []
  },
  {
   "cell_type": "code",
   "execution_count": 293,
   "id": "banner-potato",
   "metadata": {},
   "outputs": [
    {
     "name": "stdout",
     "output_type": "stream",
     "text": [
      "305\n"
     ]
    },
    {
     "data": {
      "text/plain": [
       "305"
      ]
     },
     "execution_count": 293,
     "metadata": {},
     "output_type": "execute_result"
    }
   ],
   "source": [
    "# --- INTERVALOS ---\n",
    "intervalo_PAN = pd.DataFrame({\"estimacion\": sim[\"PAN\"][:].array, \"delta\": delta[\"PAN\"].array})\n",
    "intervalo_PAN[\"minimo\"] = intervalo_PAN[\"estimacion\"] - intervalo_PAN[\"delta\"]\n",
    "intervalo_PAN[\"maximo\"] = intervalo_PAN[\"estimacion\"] + intervalo_PAN[\"delta\"]\n",
    "intervalo_PAN[\"muestra\"] = len(muestra_actual)\n",
    "print(intervalo_PAN.muestra[0])\n",
    "\n",
    "intervalo_COALICION = pd.DataFrame({\"estimacion\": sim[\"COALICION\"][:].array, \"delta\": delta[\"COALICION\"].array})\n",
    "intervalo_COALICION[\"minimo\"] = intervalo_COALICION[\"estimacion\"] - intervalo_COALICION[\"delta\"]\n",
    "intervalo_COALICION[\"maximo\"] = intervalo_COALICION[\"estimacion\"] + intervalo_COALICION[\"delta\"]\n",
    "intervalo_COALICION[\"muestra\"] = len(muestra_actual)\n",
    "intervalo_COALICION.muestra[0]"
   ]
  },
  {
   "cell_type": "code",
   "execution_count": 294,
   "id": "inclusive-stage",
   "metadata": {},
   "outputs": [
    {
     "data": {
      "text/html": [
       "<div>\n",
       "<style scoped>\n",
       "    .dataframe tbody tr th:only-of-type {\n",
       "        vertical-align: middle;\n",
       "    }\n",
       "\n",
       "    .dataframe tbody tr th {\n",
       "        vertical-align: top;\n",
       "    }\n",
       "\n",
       "    .dataframe thead th {\n",
       "        text-align: right;\n",
       "    }\n",
       "</style>\n",
       "<table border=\"1\" class=\"dataframe\">\n",
       "  <thead>\n",
       "    <tr style=\"text-align: right;\">\n",
       "      <th></th>\n",
       "      <th>estimacion</th>\n",
       "      <th>delta</th>\n",
       "      <th>minimo</th>\n",
       "      <th>maximo</th>\n",
       "      <th>muestra</th>\n",
       "    </tr>\n",
       "  </thead>\n",
       "  <tbody>\n",
       "    <tr>\n",
       "      <th>0</th>\n",
       "      <td>0.409903</td>\n",
       "      <td>0.019345</td>\n",
       "      <td>0.390558</td>\n",
       "      <td>0.429248</td>\n",
       "      <td>92</td>\n",
       "    </tr>\n",
       "    <tr>\n",
       "      <th>1</th>\n",
       "      <td>0.412208</td>\n",
       "      <td>0.016295</td>\n",
       "      <td>0.395913</td>\n",
       "      <td>0.428503</td>\n",
       "      <td>116</td>\n",
       "    </tr>\n",
       "    <tr>\n",
       "      <th>2</th>\n",
       "      <td>0.406500</td>\n",
       "      <td>0.013875</td>\n",
       "      <td>0.392625</td>\n",
       "      <td>0.420375</td>\n",
       "      <td>205</td>\n",
       "    </tr>\n",
       "    <tr>\n",
       "      <th>3</th>\n",
       "      <td>0.403218</td>\n",
       "      <td>0.012059</td>\n",
       "      <td>0.391159</td>\n",
       "      <td>0.415277</td>\n",
       "      <td>305</td>\n",
       "    </tr>\n",
       "  </tbody>\n",
       "</table>\n",
       "</div>"
      ],
      "text/plain": [
       "   estimacion     delta    minimo    maximo  muestra\n",
       "0    0.409903  0.019345  0.390558  0.429248       92\n",
       "1    0.412208  0.016295  0.395913  0.428503      116\n",
       "2    0.406500  0.013875  0.392625  0.420375      205\n",
       "3    0.403218  0.012059  0.391159  0.415277      305"
      ]
     },
     "execution_count": 294,
     "metadata": {},
     "output_type": "execute_result"
    }
   ],
   "source": [
    "path = \"Files/Exports/Res_PAN.csv\"\n",
    "historial_PAN = pd.DataFrame()\n",
    "if os.path.exists(path):\n",
    "    historial_PAN = pd.read_csv(path)\n",
    "    if intervalo_PAN.muestra[0] not in historial_PAN.muestra.values:\n",
    "        historial_PAN = historial_PAN.append(intervalo_PAN, ignore_index=True)\n",
    "else :\n",
    "    historial_PAN = historial_PAN.append(intervalo_PAN, ignore_index=True)\n",
    "\n",
    "historial_PAN.to_csv(path, index=False)\n",
    "historial_PAN"
   ]
  },
  {
   "cell_type": "code",
   "execution_count": 295,
   "id": "collect-identification",
   "metadata": {},
   "outputs": [
    {
     "data": {
      "text/html": [
       "<div>\n",
       "<style scoped>\n",
       "    .dataframe tbody tr th:only-of-type {\n",
       "        vertical-align: middle;\n",
       "    }\n",
       "\n",
       "    .dataframe tbody tr th {\n",
       "        vertical-align: top;\n",
       "    }\n",
       "\n",
       "    .dataframe thead th {\n",
       "        text-align: right;\n",
       "    }\n",
       "</style>\n",
       "<table border=\"1\" class=\"dataframe\">\n",
       "  <thead>\n",
       "    <tr style=\"text-align: right;\">\n",
       "      <th></th>\n",
       "      <th>estimacion</th>\n",
       "      <th>delta</th>\n",
       "      <th>minimo</th>\n",
       "      <th>maximo</th>\n",
       "      <th>muestra</th>\n",
       "    </tr>\n",
       "  </thead>\n",
       "  <tbody>\n",
       "    <tr>\n",
       "      <th>0</th>\n",
       "      <td>0.468434</td>\n",
       "      <td>0.017712</td>\n",
       "      <td>0.450722</td>\n",
       "      <td>0.486145</td>\n",
       "      <td>92</td>\n",
       "    </tr>\n",
       "    <tr>\n",
       "      <th>1</th>\n",
       "      <td>0.468289</td>\n",
       "      <td>0.014206</td>\n",
       "      <td>0.454083</td>\n",
       "      <td>0.482496</td>\n",
       "      <td>116</td>\n",
       "    </tr>\n",
       "    <tr>\n",
       "      <th>2</th>\n",
       "      <td>0.477249</td>\n",
       "      <td>0.014915</td>\n",
       "      <td>0.462334</td>\n",
       "      <td>0.492164</td>\n",
       "      <td>205</td>\n",
       "    </tr>\n",
       "    <tr>\n",
       "      <th>3</th>\n",
       "      <td>0.475442</td>\n",
       "      <td>0.012025</td>\n",
       "      <td>0.463418</td>\n",
       "      <td>0.487467</td>\n",
       "      <td>305</td>\n",
       "    </tr>\n",
       "  </tbody>\n",
       "</table>\n",
       "</div>"
      ],
      "text/plain": [
       "   estimacion     delta    minimo    maximo  muestra\n",
       "0    0.468434  0.017712  0.450722  0.486145       92\n",
       "1    0.468289  0.014206  0.454083  0.482496      116\n",
       "2    0.477249  0.014915  0.462334  0.492164      205\n",
       "3    0.475442  0.012025  0.463418  0.487467      305"
      ]
     },
     "execution_count": 295,
     "metadata": {},
     "output_type": "execute_result"
    }
   ],
   "source": [
    "path = \"Files/Exports/Res_COALICION.csv\"\n",
    "historial_COALICION = pd.DataFrame()\n",
    "if os.path.exists(path):\n",
    "    historial_COALICION = pd.read_csv(path)\n",
    "    if intervalo_COALICION.muestra[0] not in historial_COALICION.muestra.values:\n",
    "        historial_COALICION = historial_COALICION.append(intervalo_COALICION, ignore_index=True)\n",
    "else :\n",
    "    historial_COALICION = historial_COALICION.append(intervalo_COALICION, ignore_index=True)\n",
    "historial_COALICION.to_csv(path, index=False)\n",
    "historial_COALICION"
   ]
  },
  {
   "cell_type": "code",
   "execution_count": null,
   "id": "greek-rally",
   "metadata": {},
   "outputs": [],
   "source": []
  },
  {
   "cell_type": "code",
   "execution_count": null,
   "id": "worldwide-machine",
   "metadata": {},
   "outputs": [],
   "source": []
  },
  {
   "cell_type": "code",
   "execution_count": 296,
   "id": "numerical-honolulu",
   "metadata": {},
   "outputs": [
    {
     "data": {
      "text/html": [
       "<div>\n",
       "<style scoped>\n",
       "    .dataframe tbody tr th:only-of-type {\n",
       "        vertical-align: middle;\n",
       "    }\n",
       "\n",
       "    .dataframe tbody tr th {\n",
       "        vertical-align: top;\n",
       "    }\n",
       "\n",
       "    .dataframe thead th {\n",
       "        text-align: right;\n",
       "    }\n",
       "</style>\n",
       "<table border=\"1\" class=\"dataframe\">\n",
       "  <thead>\n",
       "    <tr style=\"text-align: right;\">\n",
       "      <th></th>\n",
       "      <th>NOMBRE</th>\n",
       "      <th>CODIGO</th>\n",
       "      <th>MUESTRA</th>\n",
       "    </tr>\n",
       "  </thead>\n",
       "  <tbody>\n",
       "    <tr>\n",
       "      <th>0</th>\n",
       "      <td>SAN LUIS RIO COLORADO I</td>\n",
       "      <td>D01</td>\n",
       "      <td>14</td>\n",
       "    </tr>\n",
       "    <tr>\n",
       "      <th>1</th>\n",
       "      <td>PUERTO PEÑASCO II</td>\n",
       "      <td>D02</td>\n",
       "      <td>22</td>\n",
       "    </tr>\n",
       "    <tr>\n",
       "      <th>2</th>\n",
       "      <td>CABORCA III</td>\n",
       "      <td>D03</td>\n",
       "      <td>17</td>\n",
       "    </tr>\n",
       "    <tr>\n",
       "      <th>3</th>\n",
       "      <td>NOGALES NORTE IV</td>\n",
       "      <td>D04</td>\n",
       "      <td>12</td>\n",
       "    </tr>\n",
       "    <tr>\n",
       "      <th>4</th>\n",
       "      <td>NOGALES SUR V</td>\n",
       "      <td>D05</td>\n",
       "      <td>23</td>\n",
       "    </tr>\n",
       "    <tr>\n",
       "      <th>5</th>\n",
       "      <td>CANANEA VI</td>\n",
       "      <td>D06</td>\n",
       "      <td>17</td>\n",
       "    </tr>\n",
       "    <tr>\n",
       "      <th>6</th>\n",
       "      <td>AGUA PRIETA VII</td>\n",
       "      <td>D07</td>\n",
       "      <td>17</td>\n",
       "    </tr>\n",
       "    <tr>\n",
       "      <th>7</th>\n",
       "      <td>HERMOSILLO NOROESTE VIII</td>\n",
       "      <td>D08</td>\n",
       "      <td>23</td>\n",
       "    </tr>\n",
       "    <tr>\n",
       "      <th>8</th>\n",
       "      <td>HERMOSILLO CENTRO IX</td>\n",
       "      <td>D09</td>\n",
       "      <td>19</td>\n",
       "    </tr>\n",
       "    <tr>\n",
       "      <th>9</th>\n",
       "      <td>HERMOSILLO NORESTE X</td>\n",
       "      <td>D10</td>\n",
       "      <td>19</td>\n",
       "    </tr>\n",
       "    <tr>\n",
       "      <th>10</th>\n",
       "      <td>HERMOSILLO COSTA XI</td>\n",
       "      <td>D11</td>\n",
       "      <td>23</td>\n",
       "    </tr>\n",
       "    <tr>\n",
       "      <th>11</th>\n",
       "      <td>HERMOSILLO SUR XII</td>\n",
       "      <td>D12</td>\n",
       "      <td>19</td>\n",
       "    </tr>\n",
       "    <tr>\n",
       "      <th>12</th>\n",
       "      <td>GUAYMAS XIII</td>\n",
       "      <td>D13</td>\n",
       "      <td>18</td>\n",
       "    </tr>\n",
       "    <tr>\n",
       "      <th>13</th>\n",
       "      <td>EMPALME XIV</td>\n",
       "      <td>D14</td>\n",
       "      <td>15</td>\n",
       "    </tr>\n",
       "    <tr>\n",
       "      <th>14</th>\n",
       "      <td>OBREGON SUR XV</td>\n",
       "      <td>D15</td>\n",
       "      <td>16</td>\n",
       "    </tr>\n",
       "    <tr>\n",
       "      <th>15</th>\n",
       "      <td>OBREGON SURESTE XVI</td>\n",
       "      <td>D16</td>\n",
       "      <td>16</td>\n",
       "    </tr>\n",
       "    <tr>\n",
       "      <th>16</th>\n",
       "      <td>OBREGON CENTRO XVII</td>\n",
       "      <td>D17</td>\n",
       "      <td>17</td>\n",
       "    </tr>\n",
       "    <tr>\n",
       "      <th>17</th>\n",
       "      <td>OBREGON NORTE XVIII</td>\n",
       "      <td>D18</td>\n",
       "      <td>16</td>\n",
       "    </tr>\n",
       "    <tr>\n",
       "      <th>18</th>\n",
       "      <td>NAVOJOA NORTE XIX</td>\n",
       "      <td>D19</td>\n",
       "      <td>15</td>\n",
       "    </tr>\n",
       "    <tr>\n",
       "      <th>19</th>\n",
       "      <td>ETCHOJOA XX</td>\n",
       "      <td>D20</td>\n",
       "      <td>18</td>\n",
       "    </tr>\n",
       "    <tr>\n",
       "      <th>20</th>\n",
       "      <td>HUATABAMPO XXI</td>\n",
       "      <td>D21</td>\n",
       "      <td>14</td>\n",
       "    </tr>\n",
       "  </tbody>\n",
       "</table>\n",
       "</div>"
      ],
      "text/plain": [
       "                         NOMBRE CODIGO  MUESTRA\n",
       "0   SAN LUIS RIO COLORADO I        D01       14\n",
       "1          PUERTO PEÑASCO II       D02       22\n",
       "2                 CABORCA III      D03       17\n",
       "3           NOGALES NORTE IV       D04       12\n",
       "4             NOGALES SUR V        D05       23\n",
       "5                 CANANEA VI       D06       17\n",
       "6             AGUA PRIETA VII      D07       17\n",
       "7     HERMOSILLO NOROESTE VIII     D08       23\n",
       "8       HERMOSILLO CENTRO IX       D09       19\n",
       "9      HERMOSILLO NORESTE X        D10       19\n",
       "10       HERMOSILLO COSTA XI       D11       23\n",
       "11         HERMOSILLO SUR XII      D12       19\n",
       "12                GUAYMAS XIII     D13       18\n",
       "13                EMPALME XIV      D14       15\n",
       "14            OBREGON SUR XV       D15       16\n",
       "15        OBREGON SURESTE XVI      D16       16\n",
       "16         OBREGON CENTRO XVII     D17       17\n",
       "17          OBREGON NORTE XVIII    D18       16\n",
       "18          NAVOJOA NORTE XIX      D19       15\n",
       "19               ETCHOJOA XX       D20       18\n",
       "20             HUATABAMPO XXI      D21       14"
      ]
     },
     "execution_count": 296,
     "metadata": {},
     "output_type": "execute_result"
    }
   ],
   "source": [
    "dl = pd.read_excel(\"Files/Data/Casillas.xlsx\")\n",
    "del dl[\"Unnamed: 4\"]\n",
    "dl.columns = [\"NOMBRE\", \"CODIGO\", \"CAPTURADAS\", \"MUESTRA\"]\n",
    "del dl[\"CAPTURADAS\"]\n",
    "dl"
   ]
  },
  {
   "cell_type": "code",
   "execution_count": 297,
   "id": "atlantic-progressive",
   "metadata": {},
   "outputs": [
    {
     "data": {
      "text/html": [
       "<div>\n",
       "<style scoped>\n",
       "    .dataframe tbody tr th:only-of-type {\n",
       "        vertical-align: middle;\n",
       "    }\n",
       "\n",
       "    .dataframe tbody tr th {\n",
       "        vertical-align: top;\n",
       "    }\n",
       "\n",
       "    .dataframe thead th {\n",
       "        text-align: right;\n",
       "    }\n",
       "</style>\n",
       "<table border=\"1\" class=\"dataframe\">\n",
       "  <thead>\n",
       "    <tr style=\"text-align: right;\">\n",
       "      <th></th>\n",
       "      <th>NOMBRE</th>\n",
       "      <th>CASILLAS</th>\n",
       "    </tr>\n",
       "  </thead>\n",
       "  <tbody>\n",
       "    <tr>\n",
       "      <th>0</th>\n",
       "      <td>AGUA PRIETA VII</td>\n",
       "      <td>15</td>\n",
       "    </tr>\n",
       "    <tr>\n",
       "      <th>1</th>\n",
       "      <td>CABORCA III</td>\n",
       "      <td>14</td>\n",
       "    </tr>\n",
       "    <tr>\n",
       "      <th>2</th>\n",
       "      <td>CANANEA VI</td>\n",
       "      <td>13</td>\n",
       "    </tr>\n",
       "    <tr>\n",
       "      <th>3</th>\n",
       "      <td>EMPALME XIV</td>\n",
       "      <td>12</td>\n",
       "    </tr>\n",
       "    <tr>\n",
       "      <th>4</th>\n",
       "      <td>ETCHOJOA XX</td>\n",
       "      <td>15</td>\n",
       "    </tr>\n",
       "    <tr>\n",
       "      <th>5</th>\n",
       "      <td>GUAYMAS XIII</td>\n",
       "      <td>14</td>\n",
       "    </tr>\n",
       "    <tr>\n",
       "      <th>6</th>\n",
       "      <td>HERMOSILLO CENTRO IX</td>\n",
       "      <td>15</td>\n",
       "    </tr>\n",
       "    <tr>\n",
       "      <th>7</th>\n",
       "      <td>HERMOSILLO COSTA XI</td>\n",
       "      <td>17</td>\n",
       "    </tr>\n",
       "    <tr>\n",
       "      <th>8</th>\n",
       "      <td>HERMOSILLO NORESTE X</td>\n",
       "      <td>16</td>\n",
       "    </tr>\n",
       "    <tr>\n",
       "      <th>9</th>\n",
       "      <td>HERMOSILLO NOROESTE VIII</td>\n",
       "      <td>19</td>\n",
       "    </tr>\n",
       "    <tr>\n",
       "      <th>10</th>\n",
       "      <td>HERMOSILLO SUR XII</td>\n",
       "      <td>16</td>\n",
       "    </tr>\n",
       "    <tr>\n",
       "      <th>11</th>\n",
       "      <td>HUATABAMPO XXI</td>\n",
       "      <td>11</td>\n",
       "    </tr>\n",
       "    <tr>\n",
       "      <th>12</th>\n",
       "      <td>NAVOJOA NORTE XIX</td>\n",
       "      <td>13</td>\n",
       "    </tr>\n",
       "    <tr>\n",
       "      <th>13</th>\n",
       "      <td>NOGALES NORTE IV</td>\n",
       "      <td>9</td>\n",
       "    </tr>\n",
       "    <tr>\n",
       "      <th>14</th>\n",
       "      <td>NOGALES SUR V</td>\n",
       "      <td>19</td>\n",
       "    </tr>\n",
       "    <tr>\n",
       "      <th>15</th>\n",
       "      <td>OBREGON CENTRO XVII</td>\n",
       "      <td>15</td>\n",
       "    </tr>\n",
       "    <tr>\n",
       "      <th>16</th>\n",
       "      <td>OBREGON NORTE XVIII</td>\n",
       "      <td>14</td>\n",
       "    </tr>\n",
       "    <tr>\n",
       "      <th>17</th>\n",
       "      <td>OBREGON SUR XV</td>\n",
       "      <td>13</td>\n",
       "    </tr>\n",
       "    <tr>\n",
       "      <th>18</th>\n",
       "      <td>OBREGON SURESTE XVI</td>\n",
       "      <td>14</td>\n",
       "    </tr>\n",
       "    <tr>\n",
       "      <th>19</th>\n",
       "      <td>PUERTO PEÑASCO II</td>\n",
       "      <td>18</td>\n",
       "    </tr>\n",
       "    <tr>\n",
       "      <th>20</th>\n",
       "      <td>SAN LUIS RIO COLORADO I</td>\n",
       "      <td>13</td>\n",
       "    </tr>\n",
       "  </tbody>\n",
       "</table>\n",
       "</div>"
      ],
      "text/plain": [
       "                         NOMBRE  CASILLAS\n",
       "0             AGUA PRIETA VII          15\n",
       "1                 CABORCA III          14\n",
       "2                 CANANEA VI           13\n",
       "3                 EMPALME XIV          12\n",
       "4                ETCHOJOA XX           15\n",
       "5                 GUAYMAS XIII         14\n",
       "6       HERMOSILLO CENTRO IX           15\n",
       "7        HERMOSILLO COSTA XI           17\n",
       "8      HERMOSILLO NORESTE X            16\n",
       "9     HERMOSILLO NOROESTE VIII         19\n",
       "10         HERMOSILLO SUR XII          16\n",
       "11             HUATABAMPO XXI          11\n",
       "12          NAVOJOA NORTE XIX          13\n",
       "13          NOGALES NORTE IV            9\n",
       "14            NOGALES SUR V            19\n",
       "15         OBREGON CENTRO XVII         15\n",
       "16          OBREGON NORTE XVIII        14\n",
       "17            OBREGON SUR XV           13\n",
       "18        OBREGON SURESTE XVI          14\n",
       "19         PUERTO PEÑASCO II           18\n",
       "20  SAN LUIS RIO COLORADO I            13"
      ]
     },
     "execution_count": 297,
     "metadata": {},
     "output_type": "execute_result"
    }
   ],
   "source": [
    "contadas = muestra_actual\n",
    "contadas[\"CASILLAS\"] = 1\n",
    "contadas = contadas[[\"DISTRITO.LOCAL\", \"CASILLAS\"]]\n",
    "contadas = contadas.groupby(\"DISTRITO.LOCAL\").sum()\n",
    "contadas.reset_index(inplace=True)\n",
    "contadas.columns = [\"NOMBRE\",\"CASILLAS\"]\n",
    "contadas"
   ]
  },
  {
   "cell_type": "code",
   "execution_count": 298,
   "id": "material-humidity",
   "metadata": {},
   "outputs": [
    {
     "data": {
      "text/html": [
       "<div>\n",
       "<style scoped>\n",
       "    .dataframe tbody tr th:only-of-type {\n",
       "        vertical-align: middle;\n",
       "    }\n",
       "\n",
       "    .dataframe tbody tr th {\n",
       "        vertical-align: top;\n",
       "    }\n",
       "\n",
       "    .dataframe thead th {\n",
       "        text-align: right;\n",
       "    }\n",
       "</style>\n",
       "<table border=\"1\" class=\"dataframe\">\n",
       "  <thead>\n",
       "    <tr style=\"text-align: right;\">\n",
       "      <th></th>\n",
       "      <th>NOMBRE</th>\n",
       "      <th>CODIGO</th>\n",
       "      <th>MUESTRA</th>\n",
       "      <th>CASILLAS</th>\n",
       "    </tr>\n",
       "  </thead>\n",
       "  <tbody>\n",
       "    <tr>\n",
       "      <th>0</th>\n",
       "      <td>SAN LUIS RIO COLORADO I</td>\n",
       "      <td>D01</td>\n",
       "      <td>14</td>\n",
       "      <td>13</td>\n",
       "    </tr>\n",
       "    <tr>\n",
       "      <th>1</th>\n",
       "      <td>PUERTO PEÑASCO II</td>\n",
       "      <td>D02</td>\n",
       "      <td>22</td>\n",
       "      <td>18</td>\n",
       "    </tr>\n",
       "    <tr>\n",
       "      <th>2</th>\n",
       "      <td>CABORCA III</td>\n",
       "      <td>D03</td>\n",
       "      <td>17</td>\n",
       "      <td>14</td>\n",
       "    </tr>\n",
       "    <tr>\n",
       "      <th>3</th>\n",
       "      <td>NOGALES NORTE IV</td>\n",
       "      <td>D04</td>\n",
       "      <td>12</td>\n",
       "      <td>9</td>\n",
       "    </tr>\n",
       "    <tr>\n",
       "      <th>4</th>\n",
       "      <td>NOGALES SUR V</td>\n",
       "      <td>D05</td>\n",
       "      <td>23</td>\n",
       "      <td>19</td>\n",
       "    </tr>\n",
       "    <tr>\n",
       "      <th>5</th>\n",
       "      <td>CANANEA VI</td>\n",
       "      <td>D06</td>\n",
       "      <td>17</td>\n",
       "      <td>13</td>\n",
       "    </tr>\n",
       "    <tr>\n",
       "      <th>6</th>\n",
       "      <td>AGUA PRIETA VII</td>\n",
       "      <td>D07</td>\n",
       "      <td>17</td>\n",
       "      <td>15</td>\n",
       "    </tr>\n",
       "    <tr>\n",
       "      <th>7</th>\n",
       "      <td>HERMOSILLO NOROESTE VIII</td>\n",
       "      <td>D08</td>\n",
       "      <td>23</td>\n",
       "      <td>19</td>\n",
       "    </tr>\n",
       "    <tr>\n",
       "      <th>8</th>\n",
       "      <td>HERMOSILLO CENTRO IX</td>\n",
       "      <td>D09</td>\n",
       "      <td>19</td>\n",
       "      <td>15</td>\n",
       "    </tr>\n",
       "    <tr>\n",
       "      <th>9</th>\n",
       "      <td>HERMOSILLO NORESTE X</td>\n",
       "      <td>D10</td>\n",
       "      <td>19</td>\n",
       "      <td>16</td>\n",
       "    </tr>\n",
       "    <tr>\n",
       "      <th>10</th>\n",
       "      <td>HERMOSILLO COSTA XI</td>\n",
       "      <td>D11</td>\n",
       "      <td>23</td>\n",
       "      <td>17</td>\n",
       "    </tr>\n",
       "    <tr>\n",
       "      <th>11</th>\n",
       "      <td>HERMOSILLO SUR XII</td>\n",
       "      <td>D12</td>\n",
       "      <td>19</td>\n",
       "      <td>16</td>\n",
       "    </tr>\n",
       "    <tr>\n",
       "      <th>12</th>\n",
       "      <td>GUAYMAS XIII</td>\n",
       "      <td>D13</td>\n",
       "      <td>18</td>\n",
       "      <td>14</td>\n",
       "    </tr>\n",
       "    <tr>\n",
       "      <th>13</th>\n",
       "      <td>EMPALME XIV</td>\n",
       "      <td>D14</td>\n",
       "      <td>15</td>\n",
       "      <td>12</td>\n",
       "    </tr>\n",
       "    <tr>\n",
       "      <th>14</th>\n",
       "      <td>OBREGON SUR XV</td>\n",
       "      <td>D15</td>\n",
       "      <td>16</td>\n",
       "      <td>13</td>\n",
       "    </tr>\n",
       "    <tr>\n",
       "      <th>15</th>\n",
       "      <td>OBREGON SURESTE XVI</td>\n",
       "      <td>D16</td>\n",
       "      <td>16</td>\n",
       "      <td>14</td>\n",
       "    </tr>\n",
       "    <tr>\n",
       "      <th>16</th>\n",
       "      <td>OBREGON CENTRO XVII</td>\n",
       "      <td>D17</td>\n",
       "      <td>17</td>\n",
       "      <td>15</td>\n",
       "    </tr>\n",
       "    <tr>\n",
       "      <th>17</th>\n",
       "      <td>OBREGON NORTE XVIII</td>\n",
       "      <td>D18</td>\n",
       "      <td>16</td>\n",
       "      <td>14</td>\n",
       "    </tr>\n",
       "    <tr>\n",
       "      <th>18</th>\n",
       "      <td>NAVOJOA NORTE XIX</td>\n",
       "      <td>D19</td>\n",
       "      <td>15</td>\n",
       "      <td>13</td>\n",
       "    </tr>\n",
       "    <tr>\n",
       "      <th>19</th>\n",
       "      <td>ETCHOJOA XX</td>\n",
       "      <td>D20</td>\n",
       "      <td>18</td>\n",
       "      <td>15</td>\n",
       "    </tr>\n",
       "    <tr>\n",
       "      <th>20</th>\n",
       "      <td>HUATABAMPO XXI</td>\n",
       "      <td>D21</td>\n",
       "      <td>14</td>\n",
       "      <td>11</td>\n",
       "    </tr>\n",
       "  </tbody>\n",
       "</table>\n",
       "</div>"
      ],
      "text/plain": [
       "                         NOMBRE CODIGO  MUESTRA  CASILLAS\n",
       "0   SAN LUIS RIO COLORADO I        D01       14        13\n",
       "1          PUERTO PEÑASCO II       D02       22        18\n",
       "2                 CABORCA III      D03       17        14\n",
       "3           NOGALES NORTE IV       D04       12         9\n",
       "4             NOGALES SUR V        D05       23        19\n",
       "5                 CANANEA VI       D06       17        13\n",
       "6             AGUA PRIETA VII      D07       17        15\n",
       "7     HERMOSILLO NOROESTE VIII     D08       23        19\n",
       "8       HERMOSILLO CENTRO IX       D09       19        15\n",
       "9      HERMOSILLO NORESTE X        D10       19        16\n",
       "10       HERMOSILLO COSTA XI       D11       23        17\n",
       "11         HERMOSILLO SUR XII      D12       19        16\n",
       "12                GUAYMAS XIII     D13       18        14\n",
       "13                EMPALME XIV      D14       15        12\n",
       "14            OBREGON SUR XV       D15       16        13\n",
       "15        OBREGON SURESTE XVI      D16       16        14\n",
       "16         OBREGON CENTRO XVII     D17       17        15\n",
       "17          OBREGON NORTE XVIII    D18       16        14\n",
       "18          NAVOJOA NORTE XIX      D19       15        13\n",
       "19               ETCHOJOA XX       D20       18        15\n",
       "20             HUATABAMPO XXI      D21       14        11"
      ]
     },
     "execution_count": 298,
     "metadata": {},
     "output_type": "execute_result"
    }
   ],
   "source": [
    "dl = dl.merge(contadas, on=\"NOMBRE\")\n",
    "dl"
   ]
  },
  {
   "cell_type": "code",
   "execution_count": 299,
   "id": "irish-representative",
   "metadata": {},
   "outputs": [
    {
     "data": {
      "text/html": [
       "<div>\n",
       "<style scoped>\n",
       "    .dataframe tbody tr th:only-of-type {\n",
       "        vertical-align: middle;\n",
       "    }\n",
       "\n",
       "    .dataframe tbody tr th {\n",
       "        vertical-align: top;\n",
       "    }\n",
       "\n",
       "    .dataframe thead th {\n",
       "        text-align: right;\n",
       "    }\n",
       "</style>\n",
       "<table border=\"1\" class=\"dataframe\">\n",
       "  <thead>\n",
       "    <tr style=\"text-align: right;\">\n",
       "      <th></th>\n",
       "      <th>NOMBRE</th>\n",
       "      <th>CODIGO</th>\n",
       "      <th>MUESTRA</th>\n",
       "      <th>CASILLAS</th>\n",
       "      <th>PORCENTAJE</th>\n",
       "    </tr>\n",
       "  </thead>\n",
       "  <tbody>\n",
       "    <tr>\n",
       "      <th>0</th>\n",
       "      <td>SAN LUIS RIO COLORADO I</td>\n",
       "      <td>D01</td>\n",
       "      <td>14</td>\n",
       "      <td>13</td>\n",
       "      <td>92.857143</td>\n",
       "    </tr>\n",
       "    <tr>\n",
       "      <th>1</th>\n",
       "      <td>PUERTO PEÑASCO II</td>\n",
       "      <td>D02</td>\n",
       "      <td>22</td>\n",
       "      <td>18</td>\n",
       "      <td>81.818182</td>\n",
       "    </tr>\n",
       "    <tr>\n",
       "      <th>2</th>\n",
       "      <td>CABORCA III</td>\n",
       "      <td>D03</td>\n",
       "      <td>17</td>\n",
       "      <td>14</td>\n",
       "      <td>82.352941</td>\n",
       "    </tr>\n",
       "    <tr>\n",
       "      <th>3</th>\n",
       "      <td>NOGALES NORTE IV</td>\n",
       "      <td>D04</td>\n",
       "      <td>12</td>\n",
       "      <td>9</td>\n",
       "      <td>75.000000</td>\n",
       "    </tr>\n",
       "    <tr>\n",
       "      <th>4</th>\n",
       "      <td>NOGALES SUR V</td>\n",
       "      <td>D05</td>\n",
       "      <td>23</td>\n",
       "      <td>19</td>\n",
       "      <td>82.608696</td>\n",
       "    </tr>\n",
       "    <tr>\n",
       "      <th>5</th>\n",
       "      <td>CANANEA VI</td>\n",
       "      <td>D06</td>\n",
       "      <td>17</td>\n",
       "      <td>13</td>\n",
       "      <td>76.470588</td>\n",
       "    </tr>\n",
       "    <tr>\n",
       "      <th>6</th>\n",
       "      <td>AGUA PRIETA VII</td>\n",
       "      <td>D07</td>\n",
       "      <td>17</td>\n",
       "      <td>15</td>\n",
       "      <td>88.235294</td>\n",
       "    </tr>\n",
       "    <tr>\n",
       "      <th>7</th>\n",
       "      <td>HERMOSILLO NOROESTE VIII</td>\n",
       "      <td>D08</td>\n",
       "      <td>23</td>\n",
       "      <td>19</td>\n",
       "      <td>82.608696</td>\n",
       "    </tr>\n",
       "    <tr>\n",
       "      <th>8</th>\n",
       "      <td>HERMOSILLO CENTRO IX</td>\n",
       "      <td>D09</td>\n",
       "      <td>19</td>\n",
       "      <td>15</td>\n",
       "      <td>78.947368</td>\n",
       "    </tr>\n",
       "    <tr>\n",
       "      <th>9</th>\n",
       "      <td>HERMOSILLO NORESTE X</td>\n",
       "      <td>D10</td>\n",
       "      <td>19</td>\n",
       "      <td>16</td>\n",
       "      <td>84.210526</td>\n",
       "    </tr>\n",
       "    <tr>\n",
       "      <th>10</th>\n",
       "      <td>HERMOSILLO COSTA XI</td>\n",
       "      <td>D11</td>\n",
       "      <td>23</td>\n",
       "      <td>17</td>\n",
       "      <td>73.913043</td>\n",
       "    </tr>\n",
       "    <tr>\n",
       "      <th>11</th>\n",
       "      <td>HERMOSILLO SUR XII</td>\n",
       "      <td>D12</td>\n",
       "      <td>19</td>\n",
       "      <td>16</td>\n",
       "      <td>84.210526</td>\n",
       "    </tr>\n",
       "    <tr>\n",
       "      <th>12</th>\n",
       "      <td>GUAYMAS XIII</td>\n",
       "      <td>D13</td>\n",
       "      <td>18</td>\n",
       "      <td>14</td>\n",
       "      <td>77.777778</td>\n",
       "    </tr>\n",
       "    <tr>\n",
       "      <th>13</th>\n",
       "      <td>EMPALME XIV</td>\n",
       "      <td>D14</td>\n",
       "      <td>15</td>\n",
       "      <td>12</td>\n",
       "      <td>80.000000</td>\n",
       "    </tr>\n",
       "    <tr>\n",
       "      <th>14</th>\n",
       "      <td>OBREGON SUR XV</td>\n",
       "      <td>D15</td>\n",
       "      <td>16</td>\n",
       "      <td>13</td>\n",
       "      <td>81.250000</td>\n",
       "    </tr>\n",
       "    <tr>\n",
       "      <th>15</th>\n",
       "      <td>OBREGON SURESTE XVI</td>\n",
       "      <td>D16</td>\n",
       "      <td>16</td>\n",
       "      <td>14</td>\n",
       "      <td>87.500000</td>\n",
       "    </tr>\n",
       "    <tr>\n",
       "      <th>16</th>\n",
       "      <td>OBREGON CENTRO XVII</td>\n",
       "      <td>D17</td>\n",
       "      <td>17</td>\n",
       "      <td>15</td>\n",
       "      <td>88.235294</td>\n",
       "    </tr>\n",
       "    <tr>\n",
       "      <th>17</th>\n",
       "      <td>OBREGON NORTE XVIII</td>\n",
       "      <td>D18</td>\n",
       "      <td>16</td>\n",
       "      <td>14</td>\n",
       "      <td>87.500000</td>\n",
       "    </tr>\n",
       "    <tr>\n",
       "      <th>18</th>\n",
       "      <td>NAVOJOA NORTE XIX</td>\n",
       "      <td>D19</td>\n",
       "      <td>15</td>\n",
       "      <td>13</td>\n",
       "      <td>86.666667</td>\n",
       "    </tr>\n",
       "    <tr>\n",
       "      <th>19</th>\n",
       "      <td>ETCHOJOA XX</td>\n",
       "      <td>D20</td>\n",
       "      <td>18</td>\n",
       "      <td>15</td>\n",
       "      <td>83.333333</td>\n",
       "    </tr>\n",
       "    <tr>\n",
       "      <th>20</th>\n",
       "      <td>HUATABAMPO XXI</td>\n",
       "      <td>D21</td>\n",
       "      <td>14</td>\n",
       "      <td>11</td>\n",
       "      <td>78.571429</td>\n",
       "    </tr>\n",
       "  </tbody>\n",
       "</table>\n",
       "</div>"
      ],
      "text/plain": [
       "                         NOMBRE CODIGO  MUESTRA  CASILLAS  PORCENTAJE\n",
       "0   SAN LUIS RIO COLORADO I        D01       14        13   92.857143\n",
       "1          PUERTO PEÑASCO II       D02       22        18   81.818182\n",
       "2                 CABORCA III      D03       17        14   82.352941\n",
       "3           NOGALES NORTE IV       D04       12         9   75.000000\n",
       "4             NOGALES SUR V        D05       23        19   82.608696\n",
       "5                 CANANEA VI       D06       17        13   76.470588\n",
       "6             AGUA PRIETA VII      D07       17        15   88.235294\n",
       "7     HERMOSILLO NOROESTE VIII     D08       23        19   82.608696\n",
       "8       HERMOSILLO CENTRO IX       D09       19        15   78.947368\n",
       "9      HERMOSILLO NORESTE X        D10       19        16   84.210526\n",
       "10       HERMOSILLO COSTA XI       D11       23        17   73.913043\n",
       "11         HERMOSILLO SUR XII      D12       19        16   84.210526\n",
       "12                GUAYMAS XIII     D13       18        14   77.777778\n",
       "13                EMPALME XIV      D14       15        12   80.000000\n",
       "14            OBREGON SUR XV       D15       16        13   81.250000\n",
       "15        OBREGON SURESTE XVI      D16       16        14   87.500000\n",
       "16         OBREGON CENTRO XVII     D17       17        15   88.235294\n",
       "17          OBREGON NORTE XVIII    D18       16        14   87.500000\n",
       "18          NAVOJOA NORTE XIX      D19       15        13   86.666667\n",
       "19               ETCHOJOA XX       D20       18        15   83.333333\n",
       "20             HUATABAMPO XXI      D21       14        11   78.571429"
      ]
     },
     "execution_count": 299,
     "metadata": {},
     "output_type": "execute_result"
    }
   ],
   "source": [
    "dl[\"PORCENTAJE\"] = (dl[\"CASILLAS\"]/dl[\"MUESTRA\"])*100\n",
    "dl"
   ]
  },
  {
   "cell_type": "code",
   "execution_count": 300,
   "id": "weighted-universe",
   "metadata": {},
   "outputs": [
    {
     "name": "stderr",
     "output_type": "stream",
     "text": [
      "C:\\Users\\alexi\\.conda\\envs\\estadistica\\lib\\site-packages\\geopandas\\geodataframe.py:577: RuntimeWarning:\n",
      "\n",
      "Sequential read of iterator was interrupted. Resetting iterator. This can negatively impact the performance.\n",
      "\n"
     ]
    }
   ],
   "source": [
    "import fiona\n",
    "fiona.supported_drivers['libkml'] = 'rw'\n",
    "fiona.supported_drivers['LIBKML'] = 'rw'\n",
    "# fiona.supported_drivers['KML'] = 'rw'\n",
    "gdl = gpd.read_file(\"Files/Poly/DISTRITOS_SONORA.kml\")\n",
    "gdl = gdl[[\"Name\", \"geometry\"]]\n",
    "gdl = gdl.sort_values(\"Name\").reset_index(drop=True)\n",
    "gdl[\"Porcentaje\"] = 0.0"
   ]
  },
  {
   "cell_type": "code",
   "execution_count": 301,
   "id": "atlantic-symphony",
   "metadata": {},
   "outputs": [],
   "source": [
    "for index, row in dl.iterrows():\n",
    "    gdl.loc[gdl[\"Name\"] == row[\"CODIGO\"], \"Porcentaje\"] = row[\"PORCENTAJE\"]"
   ]
  },
  {
   "cell_type": "code",
   "execution_count": 302,
   "id": "major-affiliation",
   "metadata": {},
   "outputs": [
    {
     "data": {
      "text/html": [
       "<div>\n",
       "<style scoped>\n",
       "    .dataframe tbody tr th:only-of-type {\n",
       "        vertical-align: middle;\n",
       "    }\n",
       "\n",
       "    .dataframe tbody tr th {\n",
       "        vertical-align: top;\n",
       "    }\n",
       "\n",
       "    .dataframe thead th {\n",
       "        text-align: right;\n",
       "    }\n",
       "</style>\n",
       "<table border=\"1\" class=\"dataframe\">\n",
       "  <thead>\n",
       "    <tr style=\"text-align: right;\">\n",
       "      <th></th>\n",
       "      <th>Name</th>\n",
       "      <th>geometry</th>\n",
       "      <th>Porcentaje</th>\n",
       "    </tr>\n",
       "  </thead>\n",
       "  <tbody>\n",
       "    <tr>\n",
       "      <th>0</th>\n",
       "      <td>D01</td>\n",
       "      <td>MULTIPOLYGON Z (((-114.74907 32.47515 0.00000,...</td>\n",
       "      <td>92.857143</td>\n",
       "    </tr>\n",
       "    <tr>\n",
       "      <th>1</th>\n",
       "      <td>D02</td>\n",
       "      <td>MULTIPOLYGON Z (((-114.79498 32.42485 0.00000,...</td>\n",
       "      <td>81.818182</td>\n",
       "    </tr>\n",
       "    <tr>\n",
       "      <th>2</th>\n",
       "      <td>D03</td>\n",
       "      <td>MULTIPOLYGON Z (((-113.51349 32.09552 0.00000,...</td>\n",
       "      <td>82.352941</td>\n",
       "    </tr>\n",
       "    <tr>\n",
       "      <th>3</th>\n",
       "      <td>D04</td>\n",
       "      <td>MULTIPOLYGON Z (((-111.22703 31.38073 0.00000,...</td>\n",
       "      <td>75.000000</td>\n",
       "    </tr>\n",
       "    <tr>\n",
       "      <th>4</th>\n",
       "      <td>D05</td>\n",
       "      <td>MULTIPOLYGON Z (((-110.95440 31.30058 0.00000,...</td>\n",
       "      <td>82.608696</td>\n",
       "    </tr>\n",
       "    <tr>\n",
       "      <th>5</th>\n",
       "      <td>D06</td>\n",
       "      <td>MULTIPOLYGON Z (((-111.02231 29.08180 0.00000,...</td>\n",
       "      <td>76.470588</td>\n",
       "    </tr>\n",
       "    <tr>\n",
       "      <th>6</th>\n",
       "      <td>D07</td>\n",
       "      <td>MULTIPOLYGON Z (((-108.80870 31.33288 0.00000,...</td>\n",
       "      <td>88.235294</td>\n",
       "    </tr>\n",
       "    <tr>\n",
       "      <th>7</th>\n",
       "      <td>D08</td>\n",
       "      <td>MULTIPOLYGON Z (((-110.99719 29.15680 0.00000,...</td>\n",
       "      <td>82.608696</td>\n",
       "    </tr>\n",
       "    <tr>\n",
       "      <th>8</th>\n",
       "      <td>D09</td>\n",
       "      <td>MULTIPOLYGON Z (((-110.99238 29.12435 0.00000,...</td>\n",
       "      <td>78.947368</td>\n",
       "    </tr>\n",
       "    <tr>\n",
       "      <th>9</th>\n",
       "      <td>D10</td>\n",
       "      <td>MULTIPOLYGON Z (((-110.99719 29.15680 0.00000,...</td>\n",
       "      <td>84.210526</td>\n",
       "    </tr>\n",
       "    <tr>\n",
       "      <th>10</th>\n",
       "      <td>D11</td>\n",
       "      <td>MULTIPOLYGON Z (((-111.53148 29.68994 0.00000,...</td>\n",
       "      <td>73.913043</td>\n",
       "    </tr>\n",
       "    <tr>\n",
       "      <th>11</th>\n",
       "      <td>D12</td>\n",
       "      <td>MULTIPOLYGON Z (((-110.81969 29.36527 0.00000,...</td>\n",
       "      <td>84.210526</td>\n",
       "    </tr>\n",
       "    <tr>\n",
       "      <th>12</th>\n",
       "      <td>D13</td>\n",
       "      <td>MULTIPOLYGON Z (((-110.78083 28.54065 0.00000,...</td>\n",
       "      <td>77.777778</td>\n",
       "    </tr>\n",
       "    <tr>\n",
       "      <th>13</th>\n",
       "      <td>D14</td>\n",
       "      <td>MULTIPOLYGON Z (((-110.59260 28.47868 0.00000,...</td>\n",
       "      <td>80.000000</td>\n",
       "    </tr>\n",
       "    <tr>\n",
       "      <th>14</th>\n",
       "      <td>D15</td>\n",
       "      <td>MULTIPOLYGON Z (((-109.94274 27.47636 0.00000,...</td>\n",
       "      <td>81.250000</td>\n",
       "    </tr>\n",
       "    <tr>\n",
       "      <th>15</th>\n",
       "      <td>D16</td>\n",
       "      <td>MULTIPOLYGON Z (((-110.10107 28.33286 0.00000,...</td>\n",
       "      <td>87.500000</td>\n",
       "    </tr>\n",
       "    <tr>\n",
       "      <th>16</th>\n",
       "      <td>D17</td>\n",
       "      <td>MULTIPOLYGON Z (((-110.01484 27.52410 0.00000,...</td>\n",
       "      <td>88.235294</td>\n",
       "    </tr>\n",
       "    <tr>\n",
       "      <th>17</th>\n",
       "      <td>D18</td>\n",
       "      <td>MULTIPOLYGON Z (((-111.22017 30.71340 0.00000,...</td>\n",
       "      <td>87.500000</td>\n",
       "    </tr>\n",
       "    <tr>\n",
       "      <th>18</th>\n",
       "      <td>D19</td>\n",
       "      <td>MULTIPOLYGON Z (((-109.48867 27.27185 0.00000,...</td>\n",
       "      <td>86.666667</td>\n",
       "    </tr>\n",
       "    <tr>\n",
       "      <th>19</th>\n",
       "      <td>D20</td>\n",
       "      <td>MULTIPOLYGON Z (((-109.98866 27.11855 0.00000,...</td>\n",
       "      <td>83.333333</td>\n",
       "    </tr>\n",
       "    <tr>\n",
       "      <th>20</th>\n",
       "      <td>D21</td>\n",
       "      <td>MULTIPOLYGON Z (((-109.64676 28.39787 0.00000,...</td>\n",
       "      <td>78.571429</td>\n",
       "    </tr>\n",
       "  </tbody>\n",
       "</table>\n",
       "</div>"
      ],
      "text/plain": [
       "   Name                                           geometry  Porcentaje\n",
       "0   D01  MULTIPOLYGON Z (((-114.74907 32.47515 0.00000,...   92.857143\n",
       "1   D02  MULTIPOLYGON Z (((-114.79498 32.42485 0.00000,...   81.818182\n",
       "2   D03  MULTIPOLYGON Z (((-113.51349 32.09552 0.00000,...   82.352941\n",
       "3   D04  MULTIPOLYGON Z (((-111.22703 31.38073 0.00000,...   75.000000\n",
       "4   D05  MULTIPOLYGON Z (((-110.95440 31.30058 0.00000,...   82.608696\n",
       "5   D06  MULTIPOLYGON Z (((-111.02231 29.08180 0.00000,...   76.470588\n",
       "6   D07  MULTIPOLYGON Z (((-108.80870 31.33288 0.00000,...   88.235294\n",
       "7   D08  MULTIPOLYGON Z (((-110.99719 29.15680 0.00000,...   82.608696\n",
       "8   D09  MULTIPOLYGON Z (((-110.99238 29.12435 0.00000,...   78.947368\n",
       "9   D10  MULTIPOLYGON Z (((-110.99719 29.15680 0.00000,...   84.210526\n",
       "10  D11  MULTIPOLYGON Z (((-111.53148 29.68994 0.00000,...   73.913043\n",
       "11  D12  MULTIPOLYGON Z (((-110.81969 29.36527 0.00000,...   84.210526\n",
       "12  D13  MULTIPOLYGON Z (((-110.78083 28.54065 0.00000,...   77.777778\n",
       "13  D14  MULTIPOLYGON Z (((-110.59260 28.47868 0.00000,...   80.000000\n",
       "14  D15  MULTIPOLYGON Z (((-109.94274 27.47636 0.00000,...   81.250000\n",
       "15  D16  MULTIPOLYGON Z (((-110.10107 28.33286 0.00000,...   87.500000\n",
       "16  D17  MULTIPOLYGON Z (((-110.01484 27.52410 0.00000,...   88.235294\n",
       "17  D18  MULTIPOLYGON Z (((-111.22017 30.71340 0.00000,...   87.500000\n",
       "18  D19  MULTIPOLYGON Z (((-109.48867 27.27185 0.00000,...   86.666667\n",
       "19  D20  MULTIPOLYGON Z (((-109.98866 27.11855 0.00000,...   83.333333\n",
       "20  D21  MULTIPOLYGON Z (((-109.64676 28.39787 0.00000,...   78.571429"
      ]
     },
     "execution_count": 302,
     "metadata": {},
     "output_type": "execute_result"
    }
   ],
   "source": [
    "gdl"
   ]
  },
  {
   "cell_type": "code",
   "execution_count": 303,
   "id": "smooth-florence",
   "metadata": {},
   "outputs": [
    {
     "data": {
      "text/plain": [
       "(-115.37998350993857,\n",
       " -108.12282184908463,\n",
       " 25.993875897010465,\n",
       " 32.802964736694264)"
      ]
     },
     "execution_count": 303,
     "metadata": {},
     "output_type": "execute_result"
    },
    {
     "data": {
      "image/png": "[encoded data removed]",
      "text/plain": [
       "<Figure size 1440x864 with 2 Axes>"
      ]
     },
     "metadata": {
      "needs_background": "light"
     },
     "output_type": "display_data"
    }
   ],
   "source": [
    "fig, ax = plt.subplots(1, 1,figsize=(20,12))\n",
    "\n",
    "divider = make_axes_locatable(ax)\n",
    "\n",
    "#cax = divider.append_axes(\"right\", size=\"5%\", pad=0.1)\n",
    "\n",
    "gdl.plot(figsize=(20, 20),\n",
    "         edgecolor = \"black\",\n",
    "         column=\"Porcentaje\",\n",
    "         ax=ax,\n",
    "         legend=True,\n",
    "         cmap=\"Spectral\",\n",
    "         vmax=100,\n",
    "         vmin=0,\n",
    "         legend_kwds={'label': \"Porcentaje\",\n",
    "                      'orientation': \"vertical\"})\n",
    "\n",
    "plt.axis(\"off\")"
   ]
  },
  {
   "cell_type": "code",
   "execution_count": 304,
   "id": "failing-berlin",
   "metadata": {},
   "outputs": [
    {
     "data": {
      "image/png": "[encoded data removed]",
      "text/plain": [
       "<Figure size 1440x720 with 1 Axes>"
      ]
     },
     "metadata": {
      "needs_background": "light"
     },
     "output_type": "display_data"
    }
   ],
   "source": [
    "y = dl[\"PORCENTAJE\"]\n",
    "\n",
    "figura = dl.plot.bar(figsize=(20,10),\n",
    "            rot=0,\n",
    "            x=\"CODIGO\",\n",
    "            y=\"PORCENTAJE\",\n",
    "            ylim=(0,100))"
   ]
  },
  {
   "cell_type": "code",
   "execution_count": 305,
   "id": "entertaining-times",
   "metadata": {},
   "outputs": [
    {
     "data": {
      "text/html": [
       "<div>\n",
       "<style scoped>\n",
       "    .dataframe tbody tr th:only-of-type {\n",
       "        vertical-align: middle;\n",
       "    }\n",
       "\n",
       "    .dataframe tbody tr th {\n",
       "        vertical-align: top;\n",
       "    }\n",
       "\n",
       "    .dataframe thead th {\n",
       "        text-align: right;\n",
       "    }\n",
       "</style>\n",
       "<table border=\"1\" class=\"dataframe\">\n",
       "  <thead>\n",
       "    <tr style=\"text-align: right;\">\n",
       "      <th></th>\n",
       "      <th>estimacion</th>\n",
       "      <th>delta</th>\n",
       "      <th>minimo</th>\n",
       "      <th>maximo</th>\n",
       "      <th>muestra</th>\n",
       "    </tr>\n",
       "  </thead>\n",
       "  <tbody>\n",
       "    <tr>\n",
       "      <th>0</th>\n",
       "      <td>0.403218</td>\n",
       "      <td>0.012059</td>\n",
       "      <td>0.391159</td>\n",
       "      <td>0.415277</td>\n",
       "      <td>305</td>\n",
       "    </tr>\n",
       "    <tr>\n",
       "      <th>1</th>\n",
       "      <td>0.475442</td>\n",
       "      <td>0.012025</td>\n",
       "      <td>0.463418</td>\n",
       "      <td>0.487467</td>\n",
       "      <td>305</td>\n",
       "    </tr>\n",
       "  </tbody>\n",
       "</table>\n",
       "</div>"
      ],
      "text/plain": [
       "   estimacion     delta    minimo    maximo  muestra\n",
       "0    0.403218  0.012059  0.391159  0.415277      305\n",
       "1    0.475442  0.012025  0.463418  0.487467      305"
      ]
     },
     "execution_count": 305,
     "metadata": {},
     "output_type": "execute_result"
    }
   ],
   "source": [
    "df_result = pd.DataFrame()\n",
    "df_result = df_result.append(intervalo_PAN, ignore_index=True)\n",
    "df_result = df_result.append(intervalo_COALICION, ignore_index=True)\n",
    "df_result"
   ]
  },
  {
   "cell_type": "code",
   "execution_count": 306,
   "id": "lonely-restriction",
   "metadata": {},
   "outputs": [
    {
     "data": {
      "image/png": "[encoded data removed]",
      "text/plain": [
       "<Figure size 1080x720 with 1 Axes>"
      ]
     },
     "metadata": {
      "needs_background": "light"
     },
     "output_type": "display_data"
    }
   ],
   "source": [
    "fig, ax = plt.subplots(figsize=(15,10))\n",
    "\n",
    "ax.errorbar(x=historial_PAN.muestra, y=historial_PAN[\"estimacion\"],yerr=historial_PAN[\"delta\"], label=\"PAN\")\n",
    "ax.errorbar(x=historial_COALICION.muestra, y=historial_COALICION[\"estimacion\"],yerr=historial_COALICION[\"delta\"], label=\"COALICION\")\n",
    "ax.legend(numpoints=1)\n",
    "plt.show()"
   ]
  },
  {
   "cell_type": "code",
   "execution_count": 307,
   "id": "elect-revelation",
   "metadata": {},
   "outputs": [
    {
     "data": {
      "image/png": "[encoded data removed]",
      "text/plain": [
       "<Figure size 1080x720 with 1 Axes>"
      ]
     },
     "metadata": {
      "needs_background": "light"
     },
     "output_type": "display_data"
    }
   ],
   "source": [
    "fig, ax = plt.subplots(figsize=(15,10))\n",
    "\n",
    "rects1 = ax.bar( x=df_result.index, height=df_result.estimacion.values, color=['blue','orange'])"
   ]
  },
  {
   "cell_type": "code",
   "execution_count": 308,
   "id": "metric-washington",
   "metadata": {},
   "outputs": [
    {
     "data": {
      "application/vnd.plotly.v1+json": {
       "config": {
        "plotlyServerURL": "https://plot.ly"
       },
       "data": [
        {
         "error_y": {
          "array": [
           0.0193447069238654,
           0.0162949695960461,
           0.0138751414857235,
           0.012059202951024013
          ],
          "type": "data",
          "visible": true
         },
         "name": "PAN",
         "type": "scatter",
         "x": [
          92,
          116,
          205,
          305
         ],
         "y": [
          0.4099028245838386,
          0.4122080834133861,
          0.4064999992911738,
          0.4032179772383151
         ]
        },
        {
         "error_y": {
          "array": [
           0.0177116130819036,
           0.0142063021834119,
           0.014914785304735,
           0.012024614303054027
          ],
          "type": "data",
          "visible": true
         },
         "name": "COALICION",
         "type": "scatter",
         "x": [
          92,
          116,
          205,
          305
         ],
         "y": [
          0.4684335424401891,
          0.4682894861373402,
          0.4772487929791273,
          0.47544241383769487
         ]
        }
       ],
       "layout": {
        "template": {
         "data": {
          "bar": [
           {
            "error_x": {
             "color": "#2a3f5f"
            },
            "error_y": {
             "color": "#2a3f5f"
            },
            "marker": {
             "line": {
              "color": "#E5ECF6",
              "width": 0.5
             }
            },
            "type": "bar"
           }
          ],
          "barpolar": [
           {
            "marker": {
             "line": {
              "color": "#E5ECF6",
              "width": 0.5
             }
            },
            "type": "barpolar"
           }
          ],
          "carpet": [
           {
            "aaxis": {
             "endlinecolor": "#2a3f5f",
             "gridcolor": "white",
             "linecolor": "white",
             "minorgridcolor": "white",
             "startlinecolor": "#2a3f5f"
            },
            "baxis": {
             "endlinecolor": "#2a3f5f",
             "gridcolor": "white",
             "linecolor": "white",
             "minorgridcolor": "white",
             "startlinecolor": "#2a3f5f"
            },
            "type": "carpet"
           }
          ],
          "choropleth": [
           {
            "colorbar": {
             "outlinewidth": 0,
             "ticks": ""
            },
            "type": "choropleth"
           }
          ],
          "contour": [
           {
            "colorbar": {
             "outlinewidth": 0,
             "ticks": ""
            },
            "colorscale": [
             [
              0,
              "#0d0887"
             ],
             [
              0.1111111111111111,
              "#46039f"
             ],
             [
              0.2222222222222222,
              "#7201a8"
             ],
             [
              0.3333333333333333,
              "#9c179e"
             ],
             [
              0.4444444444444444,
              "#bd3786"
             ],
             [
              0.5555555555555556,
              "#d8576b"
             ],
             [
              0.6666666666666666,
              "#ed7953"
             ],
             [
              0.7777777777777778,
              "#fb9f3a"
             ],
             [
              0.8888888888888888,
              "#fdca26"
             ],
             [
              1,
              "#f0f921"
             ]
            ],
            "type": "contour"
           }
          ],
          "contourcarpet": [
           {
            "colorbar": {
             "outlinewidth": 0,
             "ticks": ""
            },
            "type": "contourcarpet"
           }
          ],
          "heatmap": [
           {
            "colorbar": {
             "outlinewidth": 0,
             "ticks": ""
            },
            "colorscale": [
             [
              0,
              "#0d0887"
             ],
             [
              0.1111111111111111,
              "#46039f"
             ],
             [
              0.2222222222222222,
              "#7201a8"
             ],
             [
              0.3333333333333333,
              "#9c179e"
             ],
             [
              0.4444444444444444,
              "#bd3786"
             ],
             [
              0.5555555555555556,
              "#d8576b"
             ],
             [
              0.6666666666666666,
              "#ed7953"
             ],
             [
              0.7777777777777778,
              "#fb9f3a"
             ],
             [
              0.8888888888888888,
              "#fdca26"
             ],
             [
              1,
              "#f0f921"
             ]
            ],
            "type": "heatmap"
           }
          ],
          "heatmapgl": [
           {
            "colorbar": {
             "outlinewidth": 0,
             "ticks": ""
            },
            "colorscale": [
             [
              0,
              "#0d0887"
             ],
             [
              0.1111111111111111,
              "#46039f"
             ],
             [
              0.2222222222222222,
              "#7201a8"
             ],
             [
              0.3333333333333333,
              "#9c179e"
             ],
             [
              0.4444444444444444,
              "#bd3786"
             ],
             [
              0.5555555555555556,
              "#d8576b"
             ],
             [
              0.6666666666666666,
              "#ed7953"
             ],
             [
              0.7777777777777778,
              "#fb9f3a"
             ],
             [
              0.8888888888888888,
              "#fdca26"
             ],
             [
              1,
              "#f0f921"
             ]
            ],
            "type": "heatmapgl"
           }
          ],
          "histogram": [
           {
            "marker": {
             "colorbar": {
              "outlinewidth": 0,
              "ticks": ""
             }
            },
            "type": "histogram"
           }
          ],
          "histogram2d": [
           {
            "colorbar": {
             "outlinewidth": 0,
             "ticks": ""
            },
            "colorscale": [
             [
              0,
              "#0d0887"
             ],
             [
              0.1111111111111111,
              "#46039f"
             ],
             [
              0.2222222222222222,
              "#7201a8"
             ],
             [
              0.3333333333333333,
              "#9c179e"
             ],
             [
              0.4444444444444444,
              "#bd3786"
             ],
             [
              0.5555555555555556,
              "#d8576b"
             ],
             [
              0.6666666666666666,
              "#ed7953"
             ],
             [
              0.7777777777777778,
              "#fb9f3a"
             ],
             [
              0.8888888888888888,
              "#fdca26"
             ],
             [
              1,
              "#f0f921"
             ]
            ],
            "type": "histogram2d"
           }
          ],
          "histogram2dcontour": [
           {
            "colorbar": {
             "outlinewidth": 0,
             "ticks": ""
            },
            "colorscale": [
             [
              0,
              "#0d0887"
             ],
             [
              0.1111111111111111,
              "#46039f"
             ],
             [
              0.2222222222222222,
              "#7201a8"
             ],
             [
              0.3333333333333333,
              "#9c179e"
             ],
             [
              0.4444444444444444,
              "#bd3786"
             ],
             [
              0.5555555555555556,
              "#d8576b"
             ],
             [
              0.6666666666666666,
              "#ed7953"
             ],
             [
              0.7777777777777778,
              "#fb9f3a"
             ],
             [
              0.8888888888888888,
              "#fdca26"
             ],
             [
              1,
              "#f0f921"
             ]
            ],
            "type": "histogram2dcontour"
           }
          ],
          "mesh3d": [
           {
            "colorbar": {
             "outlinewidth": 0,
             "ticks": ""
            },
            "type": "mesh3d"
           }
          ],
          "parcoords": [
           {
            "line": {
             "colorbar": {
              "outlinewidth": 0,
              "ticks": ""
             }
            },
            "type": "parcoords"
           }
          ],
          "pie": [
           {
            "automargin": true,
            "type": "pie"
           }
          ],
          "scatter": [
           {
            "marker": {
             "colorbar": {
              "outlinewidth": 0,
              "ticks": ""
             }
            },
            "type": "scatter"
           }
          ],
          "scatter3d": [
           {
            "line": {
             "colorbar": {
              "outlinewidth": 0,
              "ticks": ""
             }
            },
            "marker": {
             "colorbar": {
              "outlinewidth": 0,
              "ticks": ""
             }
            },
            "type": "scatter3d"
           }
          ],
          "scattercarpet": [
           {
            "marker": {
             "colorbar": {
              "outlinewidth": 0,
              "ticks": ""
             }
            },
            "type": "scattercarpet"
           }
          ],
          "scattergeo": [
           {
            "marker": {
             "colorbar": {
              "outlinewidth": 0,
              "ticks": ""
             }
            },
            "type": "scattergeo"
           }
          ],
          "scattergl": [
           {
            "marker": {
             "colorbar": {
              "outlinewidth": 0,
              "ticks": ""
             }
            },
            "type": "scattergl"
           }
          ],
          "scattermapbox": [
           {
            "marker": {
             "colorbar": {
              "outlinewidth": 0,
              "ticks": ""
             }
            },
            "type": "scattermapbox"
           }
          ],
          "scatterpolar": [
           {
            "marker": {
             "colorbar": {
              "outlinewidth": 0,
              "ticks": ""
             }
            },
            "type": "scatterpolar"
           }
          ],
          "scatterpolargl": [
           {
            "marker": {
             "colorbar": {
              "outlinewidth": 0,
              "ticks": ""
             }
            },
            "type": "scatterpolargl"
           }
          ],
          "scatterternary": [
           {
            "marker": {
             "colorbar": {
              "outlinewidth": 0,
              "ticks": ""
             }
            },
            "type": "scatterternary"
           }
          ],
          "surface": [
           {
            "colorbar": {
             "outlinewidth": 0,
             "ticks": ""
            },
            "colorscale": [
             [
              0,
              "#0d0887"
             ],
             [
              0.1111111111111111,
              "#46039f"
             ],
             [
              0.2222222222222222,
              "#7201a8"
             ],
             [
              0.3333333333333333,
              "#9c179e"
             ],
             [
              0.4444444444444444,
              "#bd3786"
             ],
             [
              0.5555555555555556,
              "#d8576b"
             ],
             [
              0.6666666666666666,
              "#ed7953"
             ],
             [
              0.7777777777777778,
              "#fb9f3a"
             ],
             [
              0.8888888888888888,
              "#fdca26"
             ],
             [
              1,
              "#f0f921"
             ]
            ],
            "type": "surface"
           }
          ],
          "table": [
           {
            "cells": {
             "fill": {
              "color": "#EBF0F8"
             },
             "line": {
              "color": "white"
             }
            },
            "header": {
             "fill": {
              "color": "#C8D4E3"
             },
             "line": {
              "color": "white"
             }
            },
            "type": "table"
           }
          ]
         },
         "layout": {
          "annotationdefaults": {
           "arrowcolor": "#2a3f5f",
           "arrowhead": 0,
           "arrowwidth": 1
          },
          "autotypenumbers": "strict",
          "coloraxis": {
           "colorbar": {
            "outlinewidth": 0,
            "ticks": ""
           }
          },
          "colorscale": {
           "diverging": [
            [
             0,
             "#8e0152"
            ],
            [
             0.1,
             "#c51b7d"
            ],
            [
             0.2,
             "#de77ae"
            ],
            [
             0.3,
             "#f1b6da"
            ],
            [
             0.4,
             "#fde0ef"
            ],
            [
             0.5,
             "#f7f7f7"
            ],
            [
             0.6,
             "#e6f5d0"
            ],
            [
             0.7,
             "#b8e186"
            ],
            [
             0.8,
             "#7fbc41"
            ],
            [
             0.9,
             "#4d9221"
            ],
            [
             1,
             "#276419"
            ]
           ],
           "sequential": [
            [
             0,
             "#0d0887"
            ],
            [
             0.1111111111111111,
             "#46039f"
            ],
            [
             0.2222222222222222,
             "#7201a8"
            ],
            [
             0.3333333333333333,
             "#9c179e"
            ],
            [
             0.4444444444444444,
             "#bd3786"
            ],
            [
             0.5555555555555556,
             "#d8576b"
            ],
            [
             0.6666666666666666,
             "#ed7953"
            ],
            [
             0.7777777777777778,
             "#fb9f3a"
            ],
            [
             0.8888888888888888,
             "#fdca26"
            ],
            [
             1,
             "#f0f921"
            ]
           ],
           "sequentialminus": [
            [
             0,
             "#0d0887"
            ],
            [
             0.1111111111111111,
             "#46039f"
            ],
            [
             0.2222222222222222,
             "#7201a8"
            ],
            [
             0.3333333333333333,
             "#9c179e"
            ],
            [
             0.4444444444444444,
             "#bd3786"
            ],
            [
             0.5555555555555556,
             "#d8576b"
            ],
            [
             0.6666666666666666,
             "#ed7953"
            ],
            [
             0.7777777777777778,
             "#fb9f3a"
            ],
            [
             0.8888888888888888,
             "#fdca26"
            ],
            [
             1,
             "#f0f921"
            ]
           ]
          },
          "colorway": [
           "#636efa",
           "#EF553B",
           "#00cc96",
           "#ab63fa",
           "#FFA15A",
           "#19d3f3",
           "#FF6692",
           "#B6E880",
           "#FF97FF",
           "#FECB52"
          ],
          "font": {
           "color": "#2a3f5f"
          },
          "geo": {
           "bgcolor": "white",
           "lakecolor": "white",
           "landcolor": "#E5ECF6",
           "showlakes": true,
           "showland": true,
           "subunitcolor": "white"
          },
          "hoverlabel": {
           "align": "left"
          },
          "hovermode": "closest",
          "mapbox": {
           "style": "light"
          },
          "paper_bgcolor": "white",
          "plot_bgcolor": "#E5ECF6",
          "polar": {
           "angularaxis": {
            "gridcolor": "white",
            "linecolor": "white",
            "ticks": ""
           },
           "bgcolor": "#E5ECF6",
           "radialaxis": {
            "gridcolor": "white",
            "linecolor": "white",
            "ticks": ""
           }
          },
          "scene": {
           "xaxis": {
            "backgroundcolor": "#E5ECF6",
            "gridcolor": "white",
            "gridwidth": 2,
            "linecolor": "white",
            "showbackground": true,
            "ticks": "",
            "zerolinecolor": "white"
           },
           "yaxis": {
            "backgroundcolor": "#E5ECF6",
            "gridcolor": "white",
            "gridwidth": 2,
            "linecolor": "white",
            "showbackground": true,
            "ticks": "",
            "zerolinecolor": "white"
           },
           "zaxis": {
            "backgroundcolor": "#E5ECF6",
            "gridcolor": "white",
            "gridwidth": 2,
            "linecolor": "white",
            "showbackground": true,
            "ticks": "",
            "zerolinecolor": "white"
           }
          },
          "shapedefaults": {
           "line": {
            "color": "#2a3f5f"
           }
          },
          "ternary": {
           "aaxis": {
            "gridcolor": "white",
            "linecolor": "white",
            "ticks": ""
           },
           "baxis": {
            "gridcolor": "white",
            "linecolor": "white",
            "ticks": ""
           },
           "bgcolor": "#E5ECF6",
           "caxis": {
            "gridcolor": "white",
            "linecolor": "white",
            "ticks": ""
           }
          },
          "title": {
           "x": 0.05
          },
          "xaxis": {
           "automargin": true,
           "gridcolor": "white",
           "linecolor": "white",
           "ticks": "",
           "title": {
            "standoff": 15
           },
           "zerolinecolor": "white",
           "zerolinewidth": 2
          },
          "yaxis": {
           "automargin": true,
           "gridcolor": "white",
           "linecolor": "white",
           "ticks": "",
           "title": {
            "standoff": 15
           },
           "zerolinecolor": "white",
           "zerolinewidth": 2
          }
         }
        }
       }
      },
      "text/html": [
       "<div>                            <div id=\"8b5801c7-ee81-49ce-ae72-e8b8dff8baf7\" class=\"plotly-graph-div\" style=\"height:525px; width:100%;\"></div>            <script type=\"text/javascript\">                require([\"plotly\"], function(Plotly) {                    window.PLOTLYENV=window.PLOTLYENV || {};                                    if (document.getElementById(\"8b5801c7-ee81-49ce-ae72-e8b8dff8baf7\")) {                    Plotly.newPlot(                        \"8b5801c7-ee81-49ce-ae72-e8b8dff8baf7\",                        [{\"error_y\": {\"array\": [0.0193447069238654, 0.0162949695960461, 0.0138751414857235, 0.012059202951024013], \"type\": \"data\", \"visible\": true}, \"name\": \"PAN\", \"type\": \"scatter\", \"x\": [92, 116, 205, 305], \"y\": [0.4099028245838386, 0.4122080834133861, 0.4064999992911738, 0.4032179772383151]}, {\"error_y\": {\"array\": [0.0177116130819036, 0.0142063021834119, 0.014914785304735, 0.012024614303054027], \"type\": \"data\", \"visible\": true}, \"name\": \"COALICION\", \"type\": \"scatter\", \"x\": [92, 116, 205, 305], \"y\": [0.4684335424401891, 0.4682894861373402, 0.4772487929791273, 0.47544241383769487]}],                        {\"template\": {\"data\": {\"bar\": [{\"error_x\": {\"color\": \"#2a3f5f\"}, \"error_y\": {\"color\": \"#2a3f5f\"}, \"marker\": {\"line\": {\"color\": \"#E5ECF6\", \"width\": 0.5}}, \"type\": \"bar\"}], \"barpolar\": [{\"marker\": {\"line\": {\"color\": \"#E5ECF6\", \"width\": 0.5}}, \"type\": \"barpolar\"}], \"carpet\": [{\"aaxis\": {\"endlinecolor\": \"#2a3f5f\", \"gridcolor\": \"white\", \"linecolor\": \"white\", \"minorgridcolor\": \"white\", \"startlinecolor\": \"#2a3f5f\"}, \"baxis\": {\"endlinecolor\": \"#2a3f5f\", \"gridcolor\": \"white\", \"linecolor\": \"white\", \"minorgridcolor\": \"white\", \"startlinecolor\": \"#2a3f5f\"}, \"type\": \"carpet\"}], \"choropleth\": [{\"colorbar\": {\"outlinewidth\": 0, \"ticks\": \"\"}, \"type\": \"choropleth\"}], \"contour\": [{\"colorbar\": {\"outlinewidth\": 0, \"ticks\": \"\"}, \"colorscale\": [[0.0, \"#0d0887\"], [0.1111111111111111, \"#46039f\"], [0.2222222222222222, \"#7201a8\"], [0.3333333333333333, \"#9c179e\"], [0.4444444444444444, \"#bd3786\"], [0.5555555555555556, \"#d8576b\"], [0.6666666666666666, \"#ed7953\"], [0.7777777777777778, \"#fb9f3a\"], [0.8888888888888888, \"#fdca26\"], [1.0, \"#f0f921\"]], \"type\": \"contour\"}], \"contourcarpet\": [{\"colorbar\": {\"outlinewidth\": 0, \"ticks\": \"\"}, \"type\": \"contourcarpet\"}], \"heatmap\": [{\"colorbar\": {\"outlinewidth\": 0, \"ticks\": \"\"}, \"colorscale\": [[0.0, \"#0d0887\"], [0.1111111111111111, \"#46039f\"], [0.2222222222222222, \"#7201a8\"], [0.3333333333333333, \"#9c179e\"], [0.4444444444444444, \"#bd3786\"], [0.5555555555555556, \"#d8576b\"], [0.6666666666666666, \"#ed7953\"], [0.7777777777777778, \"#fb9f3a\"], [0.8888888888888888, \"#fdca26\"], [1.0, \"#f0f921\"]], \"type\": \"heatmap\"}], \"heatmapgl\": [{\"colorbar\": {\"outlinewidth\": 0, \"ticks\": \"\"}, \"colorscale\": [[0.0, \"#0d0887\"], [0.1111111111111111, \"#46039f\"], [0.2222222222222222, \"#7201a8\"], [0.3333333333333333, \"#9c179e\"], [0.4444444444444444, \"#bd3786\"], [0.5555555555555556, \"#d8576b\"], [0.6666666666666666, \"#ed7953\"], [0.7777777777777778, \"#fb9f3a\"], [0.8888888888888888, \"#fdca26\"], [1.0, \"#f0f921\"]], \"type\": \"heatmapgl\"}], \"histogram\": [{\"marker\": {\"colorbar\": {\"outlinewidth\": 0, \"ticks\": \"\"}}, \"type\": \"histogram\"}], \"histogram2d\": [{\"colorbar\": {\"outlinewidth\": 0, \"ticks\": \"\"}, \"colorscale\": [[0.0, \"#0d0887\"], [0.1111111111111111, \"#46039f\"], [0.2222222222222222, \"#7201a8\"], [0.3333333333333333, \"#9c179e\"], [0.4444444444444444, \"#bd3786\"], [0.5555555555555556, \"#d8576b\"], [0.6666666666666666, \"#ed7953\"], [0.7777777777777778, \"#fb9f3a\"], [0.8888888888888888, \"#fdca26\"], [1.0, \"#f0f921\"]], \"type\": \"histogram2d\"}], \"histogram2dcontour\": [{\"colorbar\": {\"outlinewidth\": 0, \"ticks\": \"\"}, \"colorscale\": [[0.0, \"#0d0887\"], [0.1111111111111111, \"#46039f\"], [0.2222222222222222, \"#7201a8\"], [0.3333333333333333, \"#9c179e\"], [0.4444444444444444, \"#bd3786\"], [0.5555555555555556, \"#d8576b\"], [0.6666666666666666, \"#ed7953\"], [0.7777777777777778, \"#fb9f3a\"], [0.8888888888888888, \"#fdca26\"], [1.0, \"#f0f921\"]], \"type\": \"histogram2dcontour\"}], \"mesh3d\": [{\"colorbar\": {\"outlinewidth\": 0, \"ticks\": \"\"}, \"type\": \"mesh3d\"}], \"parcoords\": [{\"line\": {\"colorbar\": {\"outlinewidth\": 0, \"ticks\": \"\"}}, \"type\": \"parcoords\"}], \"pie\": [{\"automargin\": true, \"type\": \"pie\"}], \"scatter\": [{\"marker\": {\"colorbar\": {\"outlinewidth\": 0, \"ticks\": \"\"}}, \"type\": \"scatter\"}], \"scatter3d\": [{\"line\": {\"colorbar\": {\"outlinewidth\": 0, \"ticks\": \"\"}}, \"marker\": {\"colorbar\": {\"outlinewidth\": 0, \"ticks\": \"\"}}, \"type\": \"scatter3d\"}], \"scattercarpet\": [{\"marker\": {\"colorbar\": {\"outlinewidth\": 0, \"ticks\": \"\"}}, \"type\": \"scattercarpet\"}], \"scattergeo\": [{\"marker\": {\"colorbar\": {\"outlinewidth\": 0, \"ticks\": \"\"}}, \"type\": \"scattergeo\"}], \"scattergl\": [{\"marker\": {\"colorbar\": {\"outlinewidth\": 0, \"ticks\": \"\"}}, \"type\": \"scattergl\"}], \"scattermapbox\": [{\"marker\": {\"colorbar\": {\"outlinewidth\": 0, \"ticks\": \"\"}}, \"type\": \"scattermapbox\"}], \"scatterpolar\": [{\"marker\": {\"colorbar\": {\"outlinewidth\": 0, \"ticks\": \"\"}}, \"type\": \"scatterpolar\"}], \"scatterpolargl\": [{\"marker\": {\"colorbar\": {\"outlinewidth\": 0, \"ticks\": \"\"}}, \"type\": \"scatterpolargl\"}], \"scatterternary\": [{\"marker\": {\"colorbar\": {\"outlinewidth\": 0, \"ticks\": \"\"}}, \"type\": \"scatterternary\"}], \"surface\": [{\"colorbar\": {\"outlinewidth\": 0, \"ticks\": \"\"}, \"colorscale\": [[0.0, \"#0d0887\"], [0.1111111111111111, \"#46039f\"], [0.2222222222222222, \"#7201a8\"], [0.3333333333333333, \"#9c179e\"], [0.4444444444444444, \"#bd3786\"], [0.5555555555555556, \"#d8576b\"], [0.6666666666666666, \"#ed7953\"], [0.7777777777777778, \"#fb9f3a\"], [0.8888888888888888, \"#fdca26\"], [1.0, \"#f0f921\"]], \"type\": \"surface\"}], \"table\": [{\"cells\": {\"fill\": {\"color\": \"#EBF0F8\"}, \"line\": {\"color\": \"white\"}}, \"header\": {\"fill\": {\"color\": \"#C8D4E3\"}, \"line\": {\"color\": \"white\"}}, \"type\": \"table\"}]}, \"layout\": {\"annotationdefaults\": {\"arrowcolor\": \"#2a3f5f\", \"arrowhead\": 0, \"arrowwidth\": 1}, \"autotypenumbers\": \"strict\", \"coloraxis\": {\"colorbar\": {\"outlinewidth\": 0, \"ticks\": \"\"}}, \"colorscale\": {\"diverging\": [[0, \"#8e0152\"], [0.1, \"#c51b7d\"], [0.2, \"#de77ae\"], [0.3, \"#f1b6da\"], [0.4, \"#fde0ef\"], [0.5, \"#f7f7f7\"], [0.6, \"#e6f5d0\"], [0.7, \"#b8e186\"], [0.8, \"#7fbc41\"], [0.9, \"#4d9221\"], [1, \"#276419\"]], \"sequential\": [[0.0, \"#0d0887\"], [0.1111111111111111, \"#46039f\"], [0.2222222222222222, \"#7201a8\"], [0.3333333333333333, \"#9c179e\"], [0.4444444444444444, \"#bd3786\"], [0.5555555555555556, \"#d8576b\"], [0.6666666666666666, \"#ed7953\"], [0.7777777777777778, \"#fb9f3a\"], [0.8888888888888888, \"#fdca26\"], [1.0, \"#f0f921\"]], \"sequentialminus\": [[0.0, \"#0d0887\"], [0.1111111111111111, \"#46039f\"], [0.2222222222222222, \"#7201a8\"], [0.3333333333333333, \"#9c179e\"], [0.4444444444444444, \"#bd3786\"], [0.5555555555555556, \"#d8576b\"], [0.6666666666666666, \"#ed7953\"], [0.7777777777777778, \"#fb9f3a\"], [0.8888888888888888, \"#fdca26\"], [1.0, \"#f0f921\"]]}, \"colorway\": [\"#636efa\", \"#EF553B\", \"#00cc96\", \"#ab63fa\", \"#FFA15A\", \"#19d3f3\", \"#FF6692\", \"#B6E880\", \"#FF97FF\", \"#FECB52\"], \"font\": {\"color\": \"#2a3f5f\"}, \"geo\": {\"bgcolor\": \"white\", \"lakecolor\": \"white\", \"landcolor\": \"#E5ECF6\", \"showlakes\": true, \"showland\": true, \"subunitcolor\": \"white\"}, \"hoverlabel\": {\"align\": \"left\"}, \"hovermode\": \"closest\", \"mapbox\": {\"style\": \"light\"}, \"paper_bgcolor\": \"white\", \"plot_bgcolor\": \"#E5ECF6\", \"polar\": {\"angularaxis\": {\"gridcolor\": \"white\", \"linecolor\": \"white\", \"ticks\": \"\"}, \"bgcolor\": \"#E5ECF6\", \"radialaxis\": {\"gridcolor\": \"white\", \"linecolor\": \"white\", \"ticks\": \"\"}}, \"scene\": {\"xaxis\": {\"backgroundcolor\": \"#E5ECF6\", \"gridcolor\": \"white\", \"gridwidth\": 2, \"linecolor\": \"white\", \"showbackground\": true, \"ticks\": \"\", \"zerolinecolor\": \"white\"}, \"yaxis\": {\"backgroundcolor\": \"#E5ECF6\", \"gridcolor\": \"white\", \"gridwidth\": 2, \"linecolor\": \"white\", \"showbackground\": true, \"ticks\": \"\", \"zerolinecolor\": \"white\"}, \"zaxis\": {\"backgroundcolor\": \"#E5ECF6\", \"gridcolor\": \"white\", \"gridwidth\": 2, \"linecolor\": \"white\", \"showbackground\": true, \"ticks\": \"\", \"zerolinecolor\": \"white\"}}, \"shapedefaults\": {\"line\": {\"color\": \"#2a3f5f\"}}, \"ternary\": {\"aaxis\": {\"gridcolor\": \"white\", \"linecolor\": \"white\", \"ticks\": \"\"}, \"baxis\": {\"gridcolor\": \"white\", \"linecolor\": \"white\", \"ticks\": \"\"}, \"bgcolor\": \"#E5ECF6\", \"caxis\": {\"gridcolor\": \"white\", \"linecolor\": \"white\", \"ticks\": \"\"}}, \"title\": {\"x\": 0.05}, \"xaxis\": {\"automargin\": true, \"gridcolor\": \"white\", \"linecolor\": \"white\", \"ticks\": \"\", \"title\": {\"standoff\": 15}, \"zerolinecolor\": \"white\", \"zerolinewidth\": 2}, \"yaxis\": {\"automargin\": true, \"gridcolor\": \"white\", \"linecolor\": \"white\", \"ticks\": \"\", \"title\": {\"standoff\": 15}, \"zerolinecolor\": \"white\", \"zerolinewidth\": 2}}}},                        {\"responsive\": true}                    ).then(function(){\n",
       "                            \n",
       "var gd = document.getElementById('8b5801c7-ee81-49ce-ae72-e8b8dff8baf7');\n",
       "var x = new MutationObserver(function (mutations, observer) {{\n",
       "        var display = window.getComputedStyle(gd).display;\n",
       "        if (!display || display === 'none') {{\n",
       "            console.log([gd, 'removed!']);\n",
       "            Plotly.purge(gd);\n",
       "            observer.disconnect();\n",
       "        }}\n",
       "}});\n",
       "\n",
       "// Listen for the removal of the full notebook cells\n",
       "var notebookContainer = gd.closest('#notebook-container');\n",
       "if (notebookContainer) {{\n",
       "    x.observe(notebookContainer, {childList: true});\n",
       "}}\n",
       "\n",
       "// Listen for the clearing of the current output cell\n",
       "var outputEl = gd.closest('.output');\n",
       "if (outputEl) {{\n",
       "    x.observe(outputEl, {childList: true});\n",
       "}}\n",
       "\n",
       "                        })                };                });            </script>        </div>"
      ]
     },
     "metadata": {},
     "output_type": "display_data"
    }
   ],
   "source": [
    "import plotly.graph_objects as go\n",
    "\n",
    "fig = go.Figure()\n",
    "\n",
    "fig.add_trace(go.Scatter(\n",
    "        name='PAN',\n",
    "        x=historial_PAN.muestra,\n",
    "        y=historial_PAN[\"estimacion\"],\n",
    "        error_y=dict(\n",
    "            type='data',\n",
    "            array=historial_PAN[\"delta\"],\n",
    "            visible=True\n",
    "        )\n",
    "    ))\n",
    "fig.add_trace(go.Scatter(\n",
    "        name='COALICION',\n",
    "        x=historial_COALICION.muestra,\n",
    "        y=historial_COALICION[\"estimacion\"],\n",
    "        error_y=dict(\n",
    "            type='data',\n",
    "            array=historial_COALICION[\"delta\"],\n",
    "            visible=True\n",
    "        )\n",
    "    ))\n",
    "\n",
    "fig.show()\n"
   ]
  },
  {
   "cell_type": "code",
   "execution_count": null,
   "id": "straight-american",
   "metadata": {},
   "outputs": [],
   "source": []
  }
 ],
 "metadata": {
  "kernelspec": {
   "display_name": "Python 3",
   "language": "python",
   "name": "python3"
  },
  "language_info": {
   "codemirror_mode": {
    "name": "ipython",
    "version": 3
   },
   "file_extension": ".py",
   "mimetype": "text/x-python",
   "name": "python",
   "nbconvert_exporter": "python",
   "pygments_lexer": "ipython3",
   "version": "3.9.1"
  },
  "widgets": {
   "application/vnd.jupyter.widget-state+json": {
    "state": {},
    "version_major": 2,
    "version_minor": 0
   }
  }
 },
 "nbformat": 4,
 "nbformat_minor": 5
}
