{
 "cells": [
  {
   "cell_type": "code",
   "execution_count": null,
   "id": "assumed-cycle",
   "metadata": {},
   "outputs": [],
   "source": [
    "import numpy as np\n",
    "import pandas as pd\n",
    "pd.set_option(\"display.max_columns\",None)\n",
    "import geopandas as gpd\n",
    "import matplotlib as mpl\n",
    "import matplotlib.pyplot as plt\n",
    "from matplotlib import cm\n",
    "from mpl_toolkits.axes_grid1 import make_axes_locatable\n",
    "from sklearn.metrics import mean_squared_error\n",
    "from scipy import stats\n",
    "import os"
   ]
  },
  {
   "cell_type": "code",
   "execution_count": null,
   "id": "present-klein",
   "metadata": {},
   "outputs": [],
   "source": [
    "# file = pd.read_excel(\"Files/Data/ComputoGobernador2015_Casilla (1).xlsx\", sheet_name = \"POR CASILLA\", skiprows=1,skipfooter=1) # Alexis\n",
    "file = pd.read_csv(\"Files/Data/ComputoGobernador2015_Casilla (1).csv\")\n",
    "muestra_actual = pd.read_csv(\"Files/Exports/PAQUETES.csv\")"
   ]
  },
  {
   "cell_type": "code",
   "execution_count": null,
   "id": "matched-providence",
   "metadata": {},
   "outputs": [],
   "source": [
    "muestra_actual"
   ]
  },
  {
   "cell_type": "code",
   "execution_count": null,
   "id": "ultimate-johnson",
   "metadata": {},
   "outputs": [],
   "source": [
    "df_dic = muestra_actual.groupby(\"DISTRITO.LOCAL\").agg({\"PAN\":\"count\"}).reset_index().rename(columns={\"PAN\" : \"TOTAL\"})\n",
    "df_dic"
   ]
  },
  {
   "cell_type": "code",
   "execution_count": null,
   "id": "honey-center",
   "metadata": {},
   "outputs": [],
   "source": [
    "sim = pd.DataFrame()\n",
    "# Declara el DataFrame de varianzas\n",
    "varianzas = pd.DataFrame()\n",
    "# Crear dataframe muestra\n",
    "muestra = pd.DataFrame()\n",
    "# Crear dataframe muestra distritos\n",
    "muestra_distritos = pd.DataFrame()\n",
    "for index,row in df_dic.iterrows():\n",
    "    total_distrito = file[file[\"DISTRITO LOCAL\"] == row[0]].iloc[:,:]\n",
    "    # obtener muestra por distrito\n",
    "    muestra_dis = muestra_actual[muestra_actual[\"DISTRITO.LOCAL\"] == row[0]]\n",
    "    m1 = muestra_dis.iloc[:, 5:]\n",
    "    cociente = len(total_distrito)/len(m1)\n",
    "    suma_dis = cociente*(m1.sum())\n",
    "    # agregamos a nuestros dataframes de la simulacion actual\n",
    "    muestra_distritos = muestra_distritos.append(suma_dis, ignore_index = True)\n",
    "    # agregamos la muestra con todos los datos\n",
    "    muestra = muestra.append(muestra_dis, ignore_index = True)\n",
    "\n",
    "# calculamos la proporcion de la simulacion\n",
    "X_gorro = muestra_distritos.sum()[\"VOTACION.TOTAL.EMITIDA\"]\n",
    "# Una Y__gorro por partido\n",
    "Y_gorros = muestra_distritos.sum()\n",
    "suma = Y_gorros / X_gorro\n",
    "sim = sim.append(suma, ignore_index = True)\n",
    "\n",
    "# Calculamos la varianza\n",
    "varianza_distritos = pd.DataFrame()\n",
    "for index,row in df_dic.iterrows():\n",
    "    total_distrito = file[file[\"DISTRITO LOCAL\"] == row[0]].iloc[:,:]\n",
    "    tmp_dis_varianza = muestra[muestra[\"DISTRITO.LOCAL\"] == row[0]].iloc[:,5:]\n",
    "    Nh = len(total_distrito)\n",
    "    nh = row[1]\n",
    "\n",
    "    tmp_var = pd.DataFrame()\n",
    "    for index, row_var in tmp_dis_varianza.iterrows():\n",
    "        G_hi = (row_var - (suma * row_var[\"VOTACION.TOTAL.EMITIDA\"])) / X_gorro\n",
    "        tmp_var = tmp_var.append(G_hi, ignore_index = True)\n",
    "\n",
    "    # Calculamos las Gh\n",
    "    G_h = tmp_var.sum()/nh\n",
    "    # Data frame para guardar la resta al cuadrado de las (Ghi - Gh)^2\n",
    "    tmp_var_square = pd.DataFrame()\n",
    "    for index, row_var in tmp_var.iterrows():\n",
    "        sub_square_tmp = (row_var - G_h) ** 2\n",
    "        tmp_var_square = tmp_var_square.append(sub_square_tmp, ignore_index = True)\n",
    "\n",
    "    var_Ghi = tmp_var_square.sum()/(row[1] - 1)\n",
    "    var_distrito = (Nh ** 2) * ((1/nh) - (1/Nh)) * var_Ghi\n",
    "    varianza_distritos = varianza_distritos.append(var_distrito, ignore_index = True)\n",
    "\n",
    "varianzas = varianzas.append(varianza_distritos.sum(), ignore_index = True)"
   ]
  },
  {
   "cell_type": "code",
   "execution_count": null,
   "id": "abstract-cement",
   "metadata": {},
   "outputs": [],
   "source": [
    "sim"
   ]
  },
  {
   "cell_type": "code",
   "execution_count": null,
   "id": "insured-matthew",
   "metadata": {},
   "outputs": [],
   "source": [
    "varianzas"
   ]
  },
  {
   "cell_type": "code",
   "execution_count": null,
   "id": "satisfactory-ferry",
   "metadata": {},
   "outputs": [],
   "source": [
    "delta = 2.575 * (varianzas ** (1/2))\n",
    "delta"
   ]
  },
  {
   "cell_type": "code",
   "execution_count": null,
   "id": "hearing-viking",
   "metadata": {},
   "outputs": [],
   "source": []
  },
  {
   "cell_type": "code",
   "execution_count": null,
   "id": "banner-potato",
   "metadata": {},
   "outputs": [],
   "source": [
    "# --- INTERVALOS ---\n",
    "intervalo_PAN = pd.DataFrame({\"estimacion\": sim[\"PAN\"][:].array, \"delta\": delta[\"PAN\"].array})\n",
    "intervalo_PAN[\"minimo\"] = intervalo_PAN[\"estimacion\"] - intervalo_PAN[\"delta\"]\n",
    "intervalo_PAN[\"maximo\"] = intervalo_PAN[\"estimacion\"] + intervalo_PAN[\"delta\"]\n",
    "intervalo_PAN[\"muestra\"] = len(muestra_actual)\n",
    "print(intervalo_PAN.muestra[0])\n",
    "\n",
    "intervalo_COALICION = pd.DataFrame({\"estimacion\": sim[\"COALICION\"][:].array, \"delta\": delta[\"COALICION\"].array})\n",
    "intervalo_COALICION[\"minimo\"] = intervalo_COALICION[\"estimacion\"] - intervalo_COALICION[\"delta\"]\n",
    "intervalo_COALICION[\"maximo\"] = intervalo_COALICION[\"estimacion\"] + intervalo_COALICION[\"delta\"]\n",
    "intervalo_COALICION[\"muestra\"] = len(muestra_actual)\n",
    "intervalo_COALICION.muestra[0]"
   ]
  },
  {
   "cell_type": "code",
   "execution_count": null,
   "id": "inclusive-stage",
   "metadata": {},
   "outputs": [],
   "source": [
    "path = \"Files/Exports/Res_PAN.csv\"\n",
    "historial_PAN = pd.DataFrame()\n",
    "if os.path.exists(path):\n",
    "    historial_PAN = pd.read_csv(path)\n",
    "    if intervalo_PAN.muestra[0] not in historial_PAN.muestra.values:\n",
    "        historial_PAN = historial_PAN.append(intervalo_PAN, ignore_index=True)\n",
    "else :\n",
    "    historial_PAN = historial_PAN.append(intervalo_PAN, ignore_index=True)\n",
    "\n",
    "historial_PAN.to_csv(path, index=False)\n",
    "historial_PAN"
   ]
  },
  {
   "cell_type": "code",
   "execution_count": null,
   "id": "collect-identification",
   "metadata": {},
   "outputs": [],
   "source": [
    "path = \"Files/Exports/Res_COALICION.csv\"\n",
    "historial_COALICION = pd.DataFrame()\n",
    "if os.path.exists(path):\n",
    "    historial_COALICION = pd.read_csv(path)\n",
    "    if intervalo_COALICION.muestra[0] not in historial_COALICION.muestra.values:\n",
    "        historial_COALICION = historial_COALICION.append(intervalo_COALICION, ignore_index=True)\n",
    "else :\n",
    "    historial_COALICION = historial_COALICION.append(intervalo_COALICION, ignore_index=True)\n",
    "historial_COALICION.to_csv(path, index=False)\n",
    "historial_COALICION"
   ]
  },
  {
   "cell_type": "code",
   "execution_count": null,
   "id": "numerical-honolulu",
   "metadata": {},
   "outputs": [],
   "source": [
    "dl = pd.read_excel(\"Files/Data/Casillas.xlsx\")\n",
    "del dl[\"Unnamed: 4\"]\n",
    "dl.columns = [\"NOMBRE\", \"CODIGO\", \"CAPTURADAS\", \"MUESTRA\"]\n",
    "del dl[\"CAPTURADAS\"]\n",
    "dl"
   ]
  },
  {
   "cell_type": "code",
   "execution_count": null,
   "id": "atlantic-progressive",
   "metadata": {},
   "outputs": [],
   "source": [
    "contadas = muestra_actual\n",
    "contadas[\"CASILLAS\"] = 1\n",
    "contadas = contadas[[\"DISTRITO.LOCAL\", \"CASILLAS\"]]\n",
    "contadas = contadas.groupby(\"DISTRITO.LOCAL\").sum()\n",
    "contadas.reset_index(inplace=True)\n",
    "contadas.columns = [\"NOMBRE\",\"CASILLAS\"]\n",
    "contadas"
   ]
  },
  {
   "cell_type": "code",
   "execution_count": null,
   "id": "material-humidity",
   "metadata": {},
   "outputs": [],
   "source": [
    "dl = dl.merge(contadas, on=\"NOMBRE\")\n",
    "dl"
   ]
  },
  {
   "cell_type": "code",
   "execution_count": null,
   "id": "irish-representative",
   "metadata": {},
   "outputs": [],
   "source": [
    "dl[\"PORCENTAJE\"] = (dl[\"CASILLAS\"]/dl[\"MUESTRA\"])*100\n",
    "dl"
   ]
  },
  {
   "cell_type": "code",
   "execution_count": null,
   "id": "weighted-universe",
   "metadata": {},
   "outputs": [],
   "source": [
    "import fiona\n",
    "fiona.supported_drivers['libkml'] = 'rw'\n",
    "fiona.supported_drivers['LIBKML'] = 'rw'\n",
    "fiona.supported_drivers['KML'] = 'rw'\n",
    "gdl = gpd.read_file(\"Files/Poly/DISTRITOS_SONORA.kml\")\n",
    "gdl = gdl[[\"Name\", \"geometry\"]]\n",
    "gdl = gdl.sort_values(\"Name\").reset_index(drop=True)\n",
    "gdl[\"Porcentaje\"] = 0.0"
   ]
  },
  {
   "cell_type": "code",
   "execution_count": null,
   "id": "atlantic-symphony",
   "metadata": {},
   "outputs": [],
   "source": [
    "for index, row in dl.iterrows():\n",
    "    gdl.loc[gdl[\"Name\"] == row[\"CODIGO\"], \"Porcentaje\"] = row[\"PORCENTAJE\"]"
   ]
  },
  {
   "cell_type": "code",
   "execution_count": null,
   "id": "major-affiliation",
   "metadata": {},
   "outputs": [],
   "source": [
    "gdl[\"center\"] = gdl[\"geometry\"].centroid\n",
    "gdl_points = gdl.copy()\n",
    "gdl_points.set_geometry(\"center\", inplace = True)\n",
    "gdl"
   ]
  },
  {
   "cell_type": "code",
   "execution_count": null,
   "id": "smooth-florence",
   "metadata": {},
   "outputs": [],
   "source": [
    "fig, ax = plt.subplots(1, 1,figsize=(20,12))\n",
    "\n",
    "divider = make_axes_locatable(ax)\n",
    "\n",
    "#cax = divider.append_axes(\"right\", size=\"5%\", pad=0.1)\n",
    "\n",
    "base = gdl.plot(figsize=(20, 20),\n",
    "         edgecolor = \"black\",\n",
    "         column=\"Porcentaje\",\n",
    "         ax=ax,\n",
    "         legend=True,\n",
    "         cmap=\"Spectral\",\n",
    "         vmax=100,\n",
    "         vmin=0,\n",
    "         legend_kwds={'label': \"Porcentaje\",\n",
    "                      'orientation': \"vertical\"})\n",
    "# *************** ESTA PARTE ES PARA AGREGAR LAS LEYENDAS A CADA DISTRITO ***************************\n",
    "texts = []\n",
    "for x, y, label in zip(gdl_points.geometry.x, gdl_points.geometry.y, gdl_points[\"Name\"]):\n",
    "    texts.append(plt.text(x, y, label, fontsize = 8))\n",
    "# ***************************************************************************************************\n",
    "    \n",
    "plt.axis(\"off\")"
   ]
  },
  {
   "cell_type": "code",
   "execution_count": null,
   "id": "offshore-mentor",
   "metadata": {},
   "outputs": [],
   "source": [
    "gdl"
   ]
  },
  {
   "cell_type": "code",
   "execution_count": null,
   "id": "failing-berlin",
   "metadata": {},
   "outputs": [],
   "source": [
    "color = plt.get_cmap(\"Spectral\")\n",
    "colors = [ color(i/100) for i in gdl.Porcentaje.values ]\n",
    "y = dl[\"PORCENTAJE\"]\n",
    "figura = dl.plot.bar(figsize=(20,10),\n",
    "            rot=0,\n",
    "            x=\"CODIGO\",\n",
    "            y=\"PORCENTAJE\",\n",
    "            ylim=(0,100),\n",
    "            color=colors)"
   ]
  },
  {
   "cell_type": "code",
   "execution_count": null,
   "id": "entertaining-times",
   "metadata": {},
   "outputs": [],
   "source": [
    "df_result = pd.DataFrame()\n",
    "df_result = df_result.append(intervalo_PAN, ignore_index=True)\n",
    "df_result = df_result.append(intervalo_COALICION, ignore_index=True)\n",
    "df_result.index = ['PAN','COALICION']\n",
    "df_result"
   ]
  },
  {
   "cell_type": "code",
   "execution_count": null,
   "id": "lonely-restriction",
   "metadata": {},
   "outputs": [],
   "source": [
    "fig, ax = plt.subplots(figsize=(15,10))\n",
    "\n",
    "ax.errorbar(x=historial_PAN.muestra, y=historial_PAN[\"estimacion\"],yerr=historial_PAN[\"delta\"], label=\"PAN\")\n",
    "ax.errorbar(x=historial_COALICION.muestra, y=historial_COALICION[\"estimacion\"],yerr=historial_COALICION[\"delta\"], label=\"COALICION\")\n",
    "ax.legend(numpoints=1)\n",
    "plt.show()"
   ]
  },
  {
   "cell_type": "code",
   "execution_count": null,
   "id": "elect-revelation",
   "metadata": {},
   "outputs": [],
   "source": [
    "fig, ax = plt.subplots(figsize=(15,10))\n",
    "\n",
    "rects1 = ax.bar( x=df_result.index, height=df_result.estimacion.values, color=['blue','orange'])"
   ]
  },
  {
   "cell_type": "code",
   "execution_count": null,
   "id": "beneficial-design",
   "metadata": {},
   "outputs": [],
   "source": [
    "import plotly.graph_objects as go\n",
    "\n",
    "fig_plotly = go.Figure()\n",
    "\n",
    "fig_plotly.add_trace(go.Scatter(\n",
    "        name='PAN',\n",
    "        x=historial_PAN.muestra,\n",
    "        y=historial_PAN[\"estimacion\"],\n",
    "        error_y=dict(\n",
    "            type='data',\n",
    "            array=historial_PAN[\"delta\"],\n",
    "            visible=True\n",
    "        )\n",
    "    ))\n",
    "fig_plotly.add_trace(go.Scatter(\n",
    "        name='COALICION',\n",
    "        x=historial_COALICION.muestra,\n",
    "        y=historial_COALICION[\"estimacion\"],\n",
    "        error_y=dict(\n",
    "            type='data',\n",
    "            array=historial_COALICION[\"delta\"],\n",
    "            visible=True\n",
    "        )\n",
    "    ))\n",
    "\n",
    "fig_plotly.show()"
   ]
  },
  {
   "cell_type": "code",
   "execution_count": null,
   "id": "nervous-numbers",
   "metadata": {},
   "outputs": [],
   "source": []
  },
  {
   "cell_type": "code",
   "execution_count": null,
   "id": "smooth-lemon",
   "metadata": {},
   "outputs": [],
   "source": []
  },
  {
   "cell_type": "code",
   "execution_count": null,
   "id": "downtown-variable",
   "metadata": {},
   "outputs": [],
   "source": []
  }
 ],
 "metadata": {
  "kernelspec": {
   "display_name": "Python 3",
   "language": "python",
   "name": "python3"
  },
  "language_info": {
   "codemirror_mode": {
    "name": "ipython",
    "version": 3
   },
   "file_extension": ".py",
   "mimetype": "text/x-python",
   "name": "python",
   "nbconvert_exporter": "python",
   "pygments_lexer": "ipython3",
   "version": "3.9.1"
  },
  "widgets": {
   "application/vnd.jupyter.widget-state+json": {
    "state": {},
    "version_major": 2,
    "version_minor": 0
   }
  }
 },
 "nbformat": 4,
 "nbformat_minor": 5
}
