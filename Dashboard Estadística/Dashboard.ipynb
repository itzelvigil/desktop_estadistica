{
 "cells": [
  {
   "cell_type": "code",
   "execution_count": 26,
   "id": "assumed-cycle",
   "metadata": {},
   "outputs": [],
   "source": [
    "import numpy as np\n",
    "import pandas as pd\n",
    "pd.set_option(\"display.max_columns\",None)\n",
    "import geopandas as gpd\n",
    "import matplotlib as mpl\n",
    "import matplotlib.pyplot as plt\n",
    "from matplotlib import cm\n",
    "from mpl_toolkits.axes_grid1 import make_axes_locatable\n",
    "from sklearn.metrics import mean_squared_error\n",
    "from scipy import stats\n",
    "import os"
   ]
  },
  {
   "cell_type": "code",
   "execution_count": 27,
   "id": "present-klein",
   "metadata": {},
   "outputs": [],
   "source": [
    "# file = pd.read_excel(\"Files/Data/ComputoGobernador2015_Casilla (1).xlsx\", sheet_name = \"POR CASILLA\", skiprows=1,skipfooter=1) # Alexis\n",
    "file = pd.read_csv(\"Files/Data/ComputoGobernador2015_Casilla (1).csv\")\n",
    "muestra_actual = pd.read_csv(\"Files/Exports/PAQUETES.csv\")"
   ]
  },
  {
   "cell_type": "code",
   "execution_count": 28,
   "id": "matched-providence",
   "metadata": {},
   "outputs": [
    {
     "data": {
      "text/html": [
       "<div>\n",
       "<style scoped>\n",
       "    .dataframe tbody tr th:only-of-type {\n",
       "        vertical-align: middle;\n",
       "    }\n",
       "\n",
       "    .dataframe tbody tr th {\n",
       "        vertical-align: top;\n",
       "    }\n",
       "\n",
       "    .dataframe thead th {\n",
       "        text-align: right;\n",
       "    }\n",
       "</style>\n",
       "<table border=\"1\" class=\"dataframe\">\n",
       "  <thead>\n",
       "    <tr style=\"text-align: right;\">\n",
       "      <th></th>\n",
       "      <th>LLEGADA</th>\n",
       "      <th>DISTRITO.LOCAL</th>\n",
       "      <th>MUNICIPIO</th>\n",
       "      <th>SECCION</th>\n",
       "      <th>CASILLA</th>\n",
       "      <th>PAN</th>\n",
       "      <th>PRI</th>\n",
       "      <th>PRD</th>\n",
       "      <th>PVEM</th>\n",
       "      <th>PT</th>\n",
       "      <th>PANAL</th>\n",
       "      <th>MORENA</th>\n",
       "      <th>HUMANISTA</th>\n",
       "      <th>ENCUENTRO.SOCIAL</th>\n",
       "      <th>PRI.PVEM.PANAL</th>\n",
       "      <th>PRI.PVEM</th>\n",
       "      <th>PRI.PANAL</th>\n",
       "      <th>PVEM.PANAL</th>\n",
       "      <th>COALICION</th>\n",
       "      <th>CANDIDATO.NO.REGISTRADO</th>\n",
       "      <th>VOTOS.NULOS</th>\n",
       "      <th>TOTAL.VOTOS.VALIDOS</th>\n",
       "      <th>VOTACION.TOTAL.EMITIDA</th>\n",
       "    </tr>\n",
       "  </thead>\n",
       "  <tbody>\n",
       "    <tr>\n",
       "      <th>0</th>\n",
       "      <td>368</td>\n",
       "      <td>NOGALES SUR V</td>\n",
       "      <td>NOGALES</td>\n",
       "      <td>1377</td>\n",
       "      <td>CONTIGUA 1</td>\n",
       "      <td>96</td>\n",
       "      <td>108</td>\n",
       "      <td>10</td>\n",
       "      <td>0</td>\n",
       "      <td>13</td>\n",
       "      <td>4</td>\n",
       "      <td>16</td>\n",
       "      <td>3</td>\n",
       "      <td>5</td>\n",
       "      <td>0</td>\n",
       "      <td>0</td>\n",
       "      <td>0</td>\n",
       "      <td>0</td>\n",
       "      <td>112</td>\n",
       "      <td>0</td>\n",
       "      <td>5</td>\n",
       "      <td>255</td>\n",
       "      <td>260</td>\n",
       "    </tr>\n",
       "    <tr>\n",
       "      <th>1</th>\n",
       "      <td>295</td>\n",
       "      <td>NOGALES NORTE IV</td>\n",
       "      <td>NOGALES</td>\n",
       "      <td>187</td>\n",
       "      <td>CONTIGUA 3</td>\n",
       "      <td>149</td>\n",
       "      <td>91</td>\n",
       "      <td>6</td>\n",
       "      <td>3</td>\n",
       "      <td>8</td>\n",
       "      <td>6</td>\n",
       "      <td>9</td>\n",
       "      <td>6</td>\n",
       "      <td>6</td>\n",
       "      <td>0</td>\n",
       "      <td>0</td>\n",
       "      <td>0</td>\n",
       "      <td>0</td>\n",
       "      <td>100</td>\n",
       "      <td>0</td>\n",
       "      <td>8</td>\n",
       "      <td>284</td>\n",
       "      <td>292</td>\n",
       "    </tr>\n",
       "    <tr>\n",
       "      <th>2</th>\n",
       "      <td>273</td>\n",
       "      <td>CABORCA III</td>\n",
       "      <td>CABORCA</td>\n",
       "      <td>317</td>\n",
       "      <td>CONTIGUA 1</td>\n",
       "      <td>143</td>\n",
       "      <td>176</td>\n",
       "      <td>3</td>\n",
       "      <td>0</td>\n",
       "      <td>6</td>\n",
       "      <td>0</td>\n",
       "      <td>30</td>\n",
       "      <td>1</td>\n",
       "      <td>8</td>\n",
       "      <td>0</td>\n",
       "      <td>0</td>\n",
       "      <td>0</td>\n",
       "      <td>0</td>\n",
       "      <td>176</td>\n",
       "      <td>0</td>\n",
       "      <td>6</td>\n",
       "      <td>367</td>\n",
       "      <td>373</td>\n",
       "    </tr>\n",
       "    <tr>\n",
       "      <th>3</th>\n",
       "      <td>145</td>\n",
       "      <td>NAVOJOA NORTE XIX</td>\n",
       "      <td>QUIRIEGO</td>\n",
       "      <td>1307</td>\n",
       "      <td>BASICA</td>\n",
       "      <td>248</td>\n",
       "      <td>182</td>\n",
       "      <td>4</td>\n",
       "      <td>1</td>\n",
       "      <td>4</td>\n",
       "      <td>1</td>\n",
       "      <td>0</td>\n",
       "      <td>0</td>\n",
       "      <td>1</td>\n",
       "      <td>3</td>\n",
       "      <td>1</td>\n",
       "      <td>1</td>\n",
       "      <td>0</td>\n",
       "      <td>189</td>\n",
       "      <td>0</td>\n",
       "      <td>1</td>\n",
       "      <td>446</td>\n",
       "      <td>447</td>\n",
       "    </tr>\n",
       "    <tr>\n",
       "      <th>4</th>\n",
       "      <td>327</td>\n",
       "      <td>AGUA PRIETA VII</td>\n",
       "      <td>AGUA PRIETA</td>\n",
       "      <td>26</td>\n",
       "      <td>CONTIGUA 2</td>\n",
       "      <td>199</td>\n",
       "      <td>83</td>\n",
       "      <td>4</td>\n",
       "      <td>1</td>\n",
       "      <td>6</td>\n",
       "      <td>29</td>\n",
       "      <td>1</td>\n",
       "      <td>3</td>\n",
       "      <td>2</td>\n",
       "      <td>11</td>\n",
       "      <td>1</td>\n",
       "      <td>5</td>\n",
       "      <td>1</td>\n",
       "      <td>131</td>\n",
       "      <td>1</td>\n",
       "      <td>13</td>\n",
       "      <td>346</td>\n",
       "      <td>360</td>\n",
       "    </tr>\n",
       "    <tr>\n",
       "      <th>...</th>\n",
       "      <td>...</td>\n",
       "      <td>...</td>\n",
       "      <td>...</td>\n",
       "      <td>...</td>\n",
       "      <td>...</td>\n",
       "      <td>...</td>\n",
       "      <td>...</td>\n",
       "      <td>...</td>\n",
       "      <td>...</td>\n",
       "      <td>...</td>\n",
       "      <td>...</td>\n",
       "      <td>...</td>\n",
       "      <td>...</td>\n",
       "      <td>...</td>\n",
       "      <td>...</td>\n",
       "      <td>...</td>\n",
       "      <td>...</td>\n",
       "      <td>...</td>\n",
       "      <td>...</td>\n",
       "      <td>...</td>\n",
       "      <td>...</td>\n",
       "      <td>...</td>\n",
       "      <td>...</td>\n",
       "    </tr>\n",
       "    <tr>\n",
       "      <th>87</th>\n",
       "      <td>58</td>\n",
       "      <td>OBREGON CENTRO XVII</td>\n",
       "      <td>CAJEME</td>\n",
       "      <td>789</td>\n",
       "      <td>BASICA</td>\n",
       "      <td>111</td>\n",
       "      <td>152</td>\n",
       "      <td>5</td>\n",
       "      <td>4</td>\n",
       "      <td>8</td>\n",
       "      <td>2</td>\n",
       "      <td>27</td>\n",
       "      <td>1</td>\n",
       "      <td>4</td>\n",
       "      <td>1</td>\n",
       "      <td>3</td>\n",
       "      <td>0</td>\n",
       "      <td>0</td>\n",
       "      <td>162</td>\n",
       "      <td>0</td>\n",
       "      <td>6</td>\n",
       "      <td>318</td>\n",
       "      <td>324</td>\n",
       "    </tr>\n",
       "    <tr>\n",
       "      <th>88</th>\n",
       "      <td>69</td>\n",
       "      <td>GUAYMAS XIII</td>\n",
       "      <td>GUAYMAS</td>\n",
       "      <td>1034</td>\n",
       "      <td>EXTRAORDINARIA 1</td>\n",
       "      <td>99</td>\n",
       "      <td>46</td>\n",
       "      <td>2</td>\n",
       "      <td>1</td>\n",
       "      <td>9</td>\n",
       "      <td>0</td>\n",
       "      <td>18</td>\n",
       "      <td>0</td>\n",
       "      <td>1</td>\n",
       "      <td>0</td>\n",
       "      <td>1</td>\n",
       "      <td>0</td>\n",
       "      <td>0</td>\n",
       "      <td>48</td>\n",
       "      <td>0</td>\n",
       "      <td>7</td>\n",
       "      <td>177</td>\n",
       "      <td>184</td>\n",
       "    </tr>\n",
       "    <tr>\n",
       "      <th>89</th>\n",
       "      <td>284</td>\n",
       "      <td>PUERTO PEÑASCO II</td>\n",
       "      <td>PUERTO PEÑASCO</td>\n",
       "      <td>638</td>\n",
       "      <td>CONTIGUA 13</td>\n",
       "      <td>181</td>\n",
       "      <td>155</td>\n",
       "      <td>2</td>\n",
       "      <td>1</td>\n",
       "      <td>2</td>\n",
       "      <td>0</td>\n",
       "      <td>0</td>\n",
       "      <td>3</td>\n",
       "      <td>4</td>\n",
       "      <td>2</td>\n",
       "      <td>0</td>\n",
       "      <td>0</td>\n",
       "      <td>0</td>\n",
       "      <td>158</td>\n",
       "      <td>0</td>\n",
       "      <td>3</td>\n",
       "      <td>350</td>\n",
       "      <td>353</td>\n",
       "    </tr>\n",
       "    <tr>\n",
       "      <th>90</th>\n",
       "      <td>367</td>\n",
       "      <td>NOGALES NORTE IV</td>\n",
       "      <td>NOGALES</td>\n",
       "      <td>159</td>\n",
       "      <td>BASICA</td>\n",
       "      <td>98</td>\n",
       "      <td>78</td>\n",
       "      <td>7</td>\n",
       "      <td>1</td>\n",
       "      <td>4</td>\n",
       "      <td>1</td>\n",
       "      <td>4</td>\n",
       "      <td>0</td>\n",
       "      <td>1</td>\n",
       "      <td>4</td>\n",
       "      <td>2</td>\n",
       "      <td>1</td>\n",
       "      <td>0</td>\n",
       "      <td>87</td>\n",
       "      <td>0</td>\n",
       "      <td>3</td>\n",
       "      <td>201</td>\n",
       "      <td>204</td>\n",
       "    </tr>\n",
       "    <tr>\n",
       "      <th>91</th>\n",
       "      <td>269</td>\n",
       "      <td>HERMOSILLO SUR XII</td>\n",
       "      <td>HERMOSILLO</td>\n",
       "      <td>487</td>\n",
       "      <td>BASICA</td>\n",
       "      <td>145</td>\n",
       "      <td>105</td>\n",
       "      <td>5</td>\n",
       "      <td>3</td>\n",
       "      <td>6</td>\n",
       "      <td>1</td>\n",
       "      <td>5</td>\n",
       "      <td>1</td>\n",
       "      <td>2</td>\n",
       "      <td>4</td>\n",
       "      <td>5</td>\n",
       "      <td>0</td>\n",
       "      <td>0</td>\n",
       "      <td>118</td>\n",
       "      <td>0</td>\n",
       "      <td>4</td>\n",
       "      <td>282</td>\n",
       "      <td>286</td>\n",
       "    </tr>\n",
       "  </tbody>\n",
       "</table>\n",
       "<p>92 rows × 23 columns</p>\n",
       "</div>"
      ],
      "text/plain": [
       "    LLEGADA        DISTRITO.LOCAL       MUNICIPIO  SECCION           CASILLA  \\\n",
       "0       368     NOGALES SUR V             NOGALES     1377        CONTIGUA 1   \n",
       "1       295   NOGALES NORTE IV            NOGALES      187        CONTIGUA 3   \n",
       "2       273         CABORCA III           CABORCA      317        CONTIGUA 1   \n",
       "3       145   NAVOJOA NORTE XIX          QUIRIEGO     1307            BASICA   \n",
       "4       327     AGUA PRIETA VII       AGUA PRIETA       26        CONTIGUA 2   \n",
       "..      ...                   ...             ...      ...               ...   \n",
       "87       58  OBREGON CENTRO XVII           CAJEME      789            BASICA   \n",
       "88       69         GUAYMAS XIII          GUAYMAS     1034  EXTRAORDINARIA 1   \n",
       "89      284  PUERTO PEÑASCO II     PUERTO PEÑASCO      638       CONTIGUA 13   \n",
       "90      367   NOGALES NORTE IV            NOGALES      159            BASICA   \n",
       "91      269  HERMOSILLO SUR XII        HERMOSILLO      487            BASICA   \n",
       "\n",
       "    PAN  PRI  PRD  PVEM  PT  PANAL  MORENA  HUMANISTA  ENCUENTRO.SOCIAL  \\\n",
       "0    96  108   10     0  13      4      16          3                 5   \n",
       "1   149   91    6     3   8      6       9          6                 6   \n",
       "2   143  176    3     0   6      0      30          1                 8   \n",
       "3   248  182    4     1   4      1       0          0                 1   \n",
       "4   199   83    4     1   6     29       1          3                 2   \n",
       "..  ...  ...  ...   ...  ..    ...     ...        ...               ...   \n",
       "87  111  152    5     4   8      2      27          1                 4   \n",
       "88   99   46    2     1   9      0      18          0                 1   \n",
       "89  181  155    2     1   2      0       0          3                 4   \n",
       "90   98   78    7     1   4      1       4          0                 1   \n",
       "91  145  105    5     3   6      1       5          1                 2   \n",
       "\n",
       "    PRI.PVEM.PANAL  PRI.PVEM  PRI.PANAL  PVEM.PANAL  COALICION  \\\n",
       "0                0         0          0           0        112   \n",
       "1                0         0          0           0        100   \n",
       "2                0         0          0           0        176   \n",
       "3                3         1          1           0        189   \n",
       "4               11         1          5           1        131   \n",
       "..             ...       ...        ...         ...        ...   \n",
       "87               1         3          0           0        162   \n",
       "88               0         1          0           0         48   \n",
       "89               2         0          0           0        158   \n",
       "90               4         2          1           0         87   \n",
       "91               4         5          0           0        118   \n",
       "\n",
       "    CANDIDATO.NO.REGISTRADO  VOTOS.NULOS  TOTAL.VOTOS.VALIDOS  \\\n",
       "0                         0            5                  255   \n",
       "1                         0            8                  284   \n",
       "2                         0            6                  367   \n",
       "3                         0            1                  446   \n",
       "4                         1           13                  346   \n",
       "..                      ...          ...                  ...   \n",
       "87                        0            6                  318   \n",
       "88                        0            7                  177   \n",
       "89                        0            3                  350   \n",
       "90                        0            3                  201   \n",
       "91                        0            4                  282   \n",
       "\n",
       "    VOTACION.TOTAL.EMITIDA  \n",
       "0                      260  \n",
       "1                      292  \n",
       "2                      373  \n",
       "3                      447  \n",
       "4                      360  \n",
       "..                     ...  \n",
       "87                     324  \n",
       "88                     184  \n",
       "89                     353  \n",
       "90                     204  \n",
       "91                     286  \n",
       "\n",
       "[92 rows x 23 columns]"
      ]
     },
     "execution_count": 28,
     "metadata": {},
     "output_type": "execute_result"
    }
   ],
   "source": [
    "muestra_actual"
   ]
  },
  {
   "cell_type": "code",
   "execution_count": 29,
   "id": "ultimate-johnson",
   "metadata": {},
   "outputs": [
    {
     "data": {
      "text/html": [
       "<div>\n",
       "<style scoped>\n",
       "    .dataframe tbody tr th:only-of-type {\n",
       "        vertical-align: middle;\n",
       "    }\n",
       "\n",
       "    .dataframe tbody tr th {\n",
       "        vertical-align: top;\n",
       "    }\n",
       "\n",
       "    .dataframe thead th {\n",
       "        text-align: right;\n",
       "    }\n",
       "</style>\n",
       "<table border=\"1\" class=\"dataframe\">\n",
       "  <thead>\n",
       "    <tr style=\"text-align: right;\">\n",
       "      <th></th>\n",
       "      <th>DISTRITO.LOCAL</th>\n",
       "      <th>TOTAL</th>\n",
       "    </tr>\n",
       "  </thead>\n",
       "  <tbody>\n",
       "    <tr>\n",
       "      <th>0</th>\n",
       "      <td>AGUA PRIETA VII</td>\n",
       "      <td>7</td>\n",
       "    </tr>\n",
       "    <tr>\n",
       "      <th>1</th>\n",
       "      <td>CABORCA III</td>\n",
       "      <td>5</td>\n",
       "    </tr>\n",
       "    <tr>\n",
       "      <th>2</th>\n",
       "      <td>CANANEA VI</td>\n",
       "      <td>4</td>\n",
       "    </tr>\n",
       "    <tr>\n",
       "      <th>3</th>\n",
       "      <td>EMPALME XIV</td>\n",
       "      <td>3</td>\n",
       "    </tr>\n",
       "    <tr>\n",
       "      <th>4</th>\n",
       "      <td>ETCHOJOA XX</td>\n",
       "      <td>7</td>\n",
       "    </tr>\n",
       "    <tr>\n",
       "      <th>5</th>\n",
       "      <td>GUAYMAS XIII</td>\n",
       "      <td>8</td>\n",
       "    </tr>\n",
       "    <tr>\n",
       "      <th>6</th>\n",
       "      <td>HERMOSILLO CENTRO IX</td>\n",
       "      <td>2</td>\n",
       "    </tr>\n",
       "    <tr>\n",
       "      <th>7</th>\n",
       "      <td>HERMOSILLO COSTA XI</td>\n",
       "      <td>4</td>\n",
       "    </tr>\n",
       "    <tr>\n",
       "      <th>8</th>\n",
       "      <td>HERMOSILLO NORESTE X</td>\n",
       "      <td>7</td>\n",
       "    </tr>\n",
       "    <tr>\n",
       "      <th>9</th>\n",
       "      <td>HERMOSILLO NOROESTE VIII</td>\n",
       "      <td>3</td>\n",
       "    </tr>\n",
       "    <tr>\n",
       "      <th>10</th>\n",
       "      <td>HERMOSILLO SUR XII</td>\n",
       "      <td>4</td>\n",
       "    </tr>\n",
       "    <tr>\n",
       "      <th>11</th>\n",
       "      <td>HUATABAMPO XXI</td>\n",
       "      <td>3</td>\n",
       "    </tr>\n",
       "    <tr>\n",
       "      <th>12</th>\n",
       "      <td>NAVOJOA NORTE XIX</td>\n",
       "      <td>2</td>\n",
       "    </tr>\n",
       "    <tr>\n",
       "      <th>13</th>\n",
       "      <td>NOGALES NORTE IV</td>\n",
       "      <td>4</td>\n",
       "    </tr>\n",
       "    <tr>\n",
       "      <th>14</th>\n",
       "      <td>NOGALES SUR V</td>\n",
       "      <td>3</td>\n",
       "    </tr>\n",
       "    <tr>\n",
       "      <th>15</th>\n",
       "      <td>OBREGON CENTRO XVII</td>\n",
       "      <td>5</td>\n",
       "    </tr>\n",
       "    <tr>\n",
       "      <th>16</th>\n",
       "      <td>OBREGON NORTE XVIII</td>\n",
       "      <td>1</td>\n",
       "    </tr>\n",
       "    <tr>\n",
       "      <th>17</th>\n",
       "      <td>OBREGON SUR XV</td>\n",
       "      <td>3</td>\n",
       "    </tr>\n",
       "    <tr>\n",
       "      <th>18</th>\n",
       "      <td>OBREGON SURESTE XVI</td>\n",
       "      <td>5</td>\n",
       "    </tr>\n",
       "    <tr>\n",
       "      <th>19</th>\n",
       "      <td>PUERTO PEÑASCO II</td>\n",
       "      <td>8</td>\n",
       "    </tr>\n",
       "    <tr>\n",
       "      <th>20</th>\n",
       "      <td>SAN LUIS RIO COLORADO I</td>\n",
       "      <td>4</td>\n",
       "    </tr>\n",
       "  </tbody>\n",
       "</table>\n",
       "</div>"
      ],
      "text/plain": [
       "                 DISTRITO.LOCAL  TOTAL\n",
       "0             AGUA PRIETA VII        7\n",
       "1                 CABORCA III        5\n",
       "2                 CANANEA VI         4\n",
       "3                 EMPALME XIV        3\n",
       "4                ETCHOJOA XX         7\n",
       "5                 GUAYMAS XIII       8\n",
       "6       HERMOSILLO CENTRO IX         2\n",
       "7        HERMOSILLO COSTA XI         4\n",
       "8      HERMOSILLO NORESTE X          7\n",
       "9     HERMOSILLO NOROESTE VIII       3\n",
       "10         HERMOSILLO SUR XII        4\n",
       "11             HUATABAMPO XXI        3\n",
       "12          NAVOJOA NORTE XIX        2\n",
       "13          NOGALES NORTE IV         4\n",
       "14            NOGALES SUR V          3\n",
       "15         OBREGON CENTRO XVII       5\n",
       "16          OBREGON NORTE XVIII      1\n",
       "17            OBREGON SUR XV         3\n",
       "18        OBREGON SURESTE XVI        5\n",
       "19         PUERTO PEÑASCO II         8\n",
       "20  SAN LUIS RIO COLORADO I          4"
      ]
     },
     "execution_count": 29,
     "metadata": {},
     "output_type": "execute_result"
    }
   ],
   "source": [
    "df_dic = muestra_actual.groupby(\"DISTRITO.LOCAL\").agg({\"PAN\":\"count\"}).reset_index().rename(columns={\"PAN\" : \"TOTAL\"})\n",
    "df_dic"
   ]
  },
  {
   "cell_type": "code",
   "execution_count": 30,
   "id": "honey-center",
   "metadata": {},
   "outputs": [],
   "source": [
    "sim = pd.DataFrame()\n",
    "# Declara el DataFrame de varianzas\n",
    "varianzas = pd.DataFrame()\n",
    "# Crear dataframe muestra\n",
    "muestra = pd.DataFrame()\n",
    "# Crear dataframe muestra distritos\n",
    "muestra_distritos = pd.DataFrame()\n",
    "for index,row in df_dic.iterrows():\n",
    "    total_distrito = file[file[\"DISTRITO LOCAL\"] == row[0]].iloc[:,:]\n",
    "    # obtener muestra por distrito\n",
    "    muestra_dis = muestra_actual[muestra_actual[\"DISTRITO.LOCAL\"] == row[0]]\n",
    "    m1 = muestra_dis.iloc[:, 5:]\n",
    "    cociente = len(total_distrito)/len(m1)\n",
    "    suma_dis = cociente*(m1.sum())\n",
    "    # agregamos a nuestros dataframes de la simulacion actual\n",
    "    muestra_distritos = muestra_distritos.append(suma_dis, ignore_index = True)\n",
    "    # agregamos la muestra con todos los datos\n",
    "    muestra = muestra.append(muestra_dis, ignore_index = True)\n",
    "\n",
    "# calculamos la proporcion de la simulacion\n",
    "X_gorro = muestra_distritos.sum()[\"VOTACION.TOTAL.EMITIDA\"]\n",
    "# Una Y__gorro por partido\n",
    "Y_gorros = muestra_distritos.sum()\n",
    "suma = Y_gorros / X_gorro\n",
    "sim = sim.append(suma, ignore_index = True)\n",
    "\n",
    "# Calculamos la varianza\n",
    "varianza_distritos = pd.DataFrame()\n",
    "for index,row in df_dic.iterrows():\n",
    "    total_distrito = file[file[\"DISTRITO LOCAL\"] == row[0]].iloc[:,:]\n",
    "    tmp_dis_varianza = muestra[muestra[\"DISTRITO.LOCAL\"] == row[0]].iloc[:,5:]\n",
    "    Nh = len(total_distrito)\n",
    "    nh = row[1]\n",
    "\n",
    "    tmp_var = pd.DataFrame()\n",
    "    for index, row_var in tmp_dis_varianza.iterrows():\n",
    "        G_hi = (row_var - (suma * row_var[\"VOTACION.TOTAL.EMITIDA\"])) / X_gorro\n",
    "        tmp_var = tmp_var.append(G_hi, ignore_index = True)\n",
    "\n",
    "    # Calculamos las Gh\n",
    "    G_h = tmp_var.sum()/nh\n",
    "    # Data frame para guardar la resta al cuadrado de las (Ghi - Gh)^2\n",
    "    tmp_var_square = pd.DataFrame()\n",
    "    for index, row_var in tmp_var.iterrows():\n",
    "        sub_square_tmp = (row_var - G_h) ** 2\n",
    "        tmp_var_square = tmp_var_square.append(sub_square_tmp, ignore_index = True)\n",
    "\n",
    "    var_Ghi = tmp_var_square.sum()/(row[1] - 1)\n",
    "    var_distrito = (Nh ** 2) * ((1/nh) - (1/Nh)) * var_Ghi\n",
    "    varianza_distritos = varianza_distritos.append(var_distrito, ignore_index = True)\n",
    "\n",
    "varianzas = varianzas.append(varianza_distritos.sum(), ignore_index = True)"
   ]
  },
  {
   "cell_type": "code",
   "execution_count": 31,
   "id": "abstract-cement",
   "metadata": {},
   "outputs": [
    {
     "data": {
      "text/html": [
       "<div>\n",
       "<style scoped>\n",
       "    .dataframe tbody tr th:only-of-type {\n",
       "        vertical-align: middle;\n",
       "    }\n",
       "\n",
       "    .dataframe tbody tr th {\n",
       "        vertical-align: top;\n",
       "    }\n",
       "\n",
       "    .dataframe thead th {\n",
       "        text-align: right;\n",
       "    }\n",
       "</style>\n",
       "<table border=\"1\" class=\"dataframe\">\n",
       "  <thead>\n",
       "    <tr style=\"text-align: right;\">\n",
       "      <th></th>\n",
       "      <th>CANDIDATO.NO.REGISTRADO</th>\n",
       "      <th>COALICION</th>\n",
       "      <th>ENCUENTRO.SOCIAL</th>\n",
       "      <th>HUMANISTA</th>\n",
       "      <th>MORENA</th>\n",
       "      <th>PAN</th>\n",
       "      <th>PANAL</th>\n",
       "      <th>PRD</th>\n",
       "      <th>PRI</th>\n",
       "      <th>PRI.PANAL</th>\n",
       "      <th>PRI.PVEM</th>\n",
       "      <th>PRI.PVEM.PANAL</th>\n",
       "      <th>PT</th>\n",
       "      <th>PVEM</th>\n",
       "      <th>PVEM.PANAL</th>\n",
       "      <th>TOTAL.VOTOS.VALIDOS</th>\n",
       "      <th>VOTACION.TOTAL.EMITIDA</th>\n",
       "      <th>VOTOS.NULOS</th>\n",
       "    </tr>\n",
       "  </thead>\n",
       "  <tbody>\n",
       "    <tr>\n",
       "      <th>0</th>\n",
       "      <td>0.000376</td>\n",
       "      <td>0.453003</td>\n",
       "      <td>0.012234</td>\n",
       "      <td>0.008024</td>\n",
       "      <td>0.028819</td>\n",
       "      <td>0.423654</td>\n",
       "      <td>0.015074</td>\n",
       "      <td>0.03013</td>\n",
       "      <td>0.41216</td>\n",
       "      <td>0.002309</td>\n",
       "      <td>0.005617</td>\n",
       "      <td>0.007432</td>\n",
       "      <td>0.019043</td>\n",
       "      <td>0.010171</td>\n",
       "      <td>0.000239</td>\n",
       "      <td>0.974908</td>\n",
       "      <td>1.0</td>\n",
       "      <td>0.024716</td>\n",
       "    </tr>\n",
       "  </tbody>\n",
       "</table>\n",
       "</div>"
      ],
      "text/plain": [
       "   CANDIDATO.NO.REGISTRADO  COALICION  ENCUENTRO.SOCIAL  HUMANISTA    MORENA  \\\n",
       "0                 0.000376   0.453003          0.012234   0.008024  0.028819   \n",
       "\n",
       "        PAN     PANAL      PRD      PRI  PRI.PANAL  PRI.PVEM  PRI.PVEM.PANAL  \\\n",
       "0  0.423654  0.015074  0.03013  0.41216   0.002309  0.005617        0.007432   \n",
       "\n",
       "         PT      PVEM  PVEM.PANAL  TOTAL.VOTOS.VALIDOS  \\\n",
       "0  0.019043  0.010171    0.000239             0.974908   \n",
       "\n",
       "   VOTACION.TOTAL.EMITIDA  VOTOS.NULOS  \n",
       "0                     1.0     0.024716  "
      ]
     },
     "execution_count": 31,
     "metadata": {},
     "output_type": "execute_result"
    }
   ],
   "source": [
    "sim"
   ]
  },
  {
   "cell_type": "code",
   "execution_count": 32,
   "id": "insured-matthew",
   "metadata": {},
   "outputs": [
    {
     "data": {
      "text/html": [
       "<div>\n",
       "<style scoped>\n",
       "    .dataframe tbody tr th:only-of-type {\n",
       "        vertical-align: middle;\n",
       "    }\n",
       "\n",
       "    .dataframe tbody tr th {\n",
       "        vertical-align: top;\n",
       "    }\n",
       "\n",
       "    .dataframe thead th {\n",
       "        text-align: right;\n",
       "    }\n",
       "</style>\n",
       "<table border=\"1\" class=\"dataframe\">\n",
       "  <thead>\n",
       "    <tr style=\"text-align: right;\">\n",
       "      <th></th>\n",
       "      <th>CANDIDATO.NO.REGISTRADO</th>\n",
       "      <th>COALICION</th>\n",
       "      <th>ENCUENTRO.SOCIAL</th>\n",
       "      <th>HUMANISTA</th>\n",
       "      <th>MORENA</th>\n",
       "      <th>PAN</th>\n",
       "      <th>PANAL</th>\n",
       "      <th>PRD</th>\n",
       "      <th>PRI</th>\n",
       "      <th>PRI.PANAL</th>\n",
       "      <th>PRI.PVEM</th>\n",
       "      <th>PRI.PVEM.PANAL</th>\n",
       "      <th>PT</th>\n",
       "      <th>PVEM</th>\n",
       "      <th>PVEM.PANAL</th>\n",
       "      <th>TOTAL.VOTOS.VALIDOS</th>\n",
       "      <th>VOTACION.TOTAL.EMITIDA</th>\n",
       "      <th>VOTOS.NULOS</th>\n",
       "    </tr>\n",
       "  </thead>\n",
       "  <tbody>\n",
       "    <tr>\n",
       "      <th>0</th>\n",
       "      <td>1.921485e-08</td>\n",
       "      <td>0.000066</td>\n",
       "      <td>7.863512e-07</td>\n",
       "      <td>4.070940e-07</td>\n",
       "      <td>0.000003</td>\n",
       "      <td>0.000069</td>\n",
       "      <td>0.000003</td>\n",
       "      <td>0.000007</td>\n",
       "      <td>0.000072</td>\n",
       "      <td>1.047701e-07</td>\n",
       "      <td>5.073435e-07</td>\n",
       "      <td>0.000001</td>\n",
       "      <td>0.000004</td>\n",
       "      <td>0.000001</td>\n",
       "      <td>1.884789e-08</td>\n",
       "      <td>0.000002</td>\n",
       "      <td>0.0</td>\n",
       "      <td>0.000002</td>\n",
       "    </tr>\n",
       "  </tbody>\n",
       "</table>\n",
       "</div>"
      ],
      "text/plain": [
       "   CANDIDATO.NO.REGISTRADO  COALICION  ENCUENTRO.SOCIAL     HUMANISTA  \\\n",
       "0             1.921485e-08   0.000066      7.863512e-07  4.070940e-07   \n",
       "\n",
       "     MORENA       PAN     PANAL       PRD       PRI     PRI.PANAL  \\\n",
       "0  0.000003  0.000069  0.000003  0.000007  0.000072  1.047701e-07   \n",
       "\n",
       "       PRI.PVEM  PRI.PVEM.PANAL        PT      PVEM    PVEM.PANAL  \\\n",
       "0  5.073435e-07        0.000001  0.000004  0.000001  1.884789e-08   \n",
       "\n",
       "   TOTAL.VOTOS.VALIDOS  VOTACION.TOTAL.EMITIDA  VOTOS.NULOS  \n",
       "0             0.000002                     0.0     0.000002  "
      ]
     },
     "execution_count": 32,
     "metadata": {},
     "output_type": "execute_result"
    }
   ],
   "source": [
    "varianzas"
   ]
  },
  {
   "cell_type": "code",
   "execution_count": 33,
   "id": "satisfactory-ferry",
   "metadata": {},
   "outputs": [
    {
     "data": {
      "text/html": [
       "<div>\n",
       "<style scoped>\n",
       "    .dataframe tbody tr th:only-of-type {\n",
       "        vertical-align: middle;\n",
       "    }\n",
       "\n",
       "    .dataframe tbody tr th {\n",
       "        vertical-align: top;\n",
       "    }\n",
       "\n",
       "    .dataframe thead th {\n",
       "        text-align: right;\n",
       "    }\n",
       "</style>\n",
       "<table border=\"1\" class=\"dataframe\">\n",
       "  <thead>\n",
       "    <tr style=\"text-align: right;\">\n",
       "      <th></th>\n",
       "      <th>CANDIDATO.NO.REGISTRADO</th>\n",
       "      <th>COALICION</th>\n",
       "      <th>ENCUENTRO.SOCIAL</th>\n",
       "      <th>HUMANISTA</th>\n",
       "      <th>MORENA</th>\n",
       "      <th>PAN</th>\n",
       "      <th>PANAL</th>\n",
       "      <th>PRD</th>\n",
       "      <th>PRI</th>\n",
       "      <th>PRI.PANAL</th>\n",
       "      <th>PRI.PVEM</th>\n",
       "      <th>PRI.PVEM.PANAL</th>\n",
       "      <th>PT</th>\n",
       "      <th>PVEM</th>\n",
       "      <th>PVEM.PANAL</th>\n",
       "      <th>TOTAL.VOTOS.VALIDOS</th>\n",
       "      <th>VOTACION.TOTAL.EMITIDA</th>\n",
       "      <th>VOTOS.NULOS</th>\n",
       "    </tr>\n",
       "  </thead>\n",
       "  <tbody>\n",
       "    <tr>\n",
       "      <th>0</th>\n",
       "      <td>0.000357</td>\n",
       "      <td>0.020896</td>\n",
       "      <td>0.002283</td>\n",
       "      <td>0.001643</td>\n",
       "      <td>0.004773</td>\n",
       "      <td>0.021466</td>\n",
       "      <td>0.004252</td>\n",
       "      <td>0.006771</td>\n",
       "      <td>0.021818</td>\n",
       "      <td>0.000833</td>\n",
       "      <td>0.001834</td>\n",
       "      <td>0.002589</td>\n",
       "      <td>0.005444</td>\n",
       "      <td>0.002654</td>\n",
       "      <td>0.000354</td>\n",
       "      <td>0.00386</td>\n",
       "      <td>0.0</td>\n",
       "      <td>0.003978</td>\n",
       "    </tr>\n",
       "  </tbody>\n",
       "</table>\n",
       "</div>"
      ],
      "text/plain": [
       "   CANDIDATO.NO.REGISTRADO  COALICION  ENCUENTRO.SOCIAL  HUMANISTA    MORENA  \\\n",
       "0                 0.000357   0.020896          0.002283   0.001643  0.004773   \n",
       "\n",
       "        PAN     PANAL       PRD       PRI  PRI.PANAL  PRI.PVEM  \\\n",
       "0  0.021466  0.004252  0.006771  0.021818   0.000833  0.001834   \n",
       "\n",
       "   PRI.PVEM.PANAL        PT      PVEM  PVEM.PANAL  TOTAL.VOTOS.VALIDOS  \\\n",
       "0        0.002589  0.005444  0.002654    0.000354              0.00386   \n",
       "\n",
       "   VOTACION.TOTAL.EMITIDA  VOTOS.NULOS  \n",
       "0                     0.0     0.003978  "
      ]
     },
     "execution_count": 33,
     "metadata": {},
     "output_type": "execute_result"
    }
   ],
   "source": [
    "delta = 2.575 * (varianzas ** (1/2))\n",
    "delta"
   ]
  },
  {
   "cell_type": "code",
   "execution_count": null,
   "id": "hearing-viking",
   "metadata": {},
   "outputs": [],
   "source": []
  },
  {
   "cell_type": "code",
   "execution_count": 34,
   "id": "banner-potato",
   "metadata": {},
   "outputs": [
    {
     "name": "stdout",
     "output_type": "stream",
     "text": [
      "92\n"
     ]
    },
    {
     "data": {
      "text/plain": [
       "92"
      ]
     },
     "execution_count": 34,
     "metadata": {},
     "output_type": "execute_result"
    }
   ],
   "source": [
    "# --- INTERVALOS ---\n",
    "intervalo_PAN = pd.DataFrame({\"estimacion\": sim[\"PAN\"][:].array, \"delta\": delta[\"PAN\"].array})\n",
    "intervalo_PAN[\"minimo\"] = intervalo_PAN[\"estimacion\"] - intervalo_PAN[\"delta\"]\n",
    "intervalo_PAN[\"maximo\"] = intervalo_PAN[\"estimacion\"] + intervalo_PAN[\"delta\"]\n",
    "intervalo_PAN[\"muestra\"] = len(muestra_actual)\n",
    "print(intervalo_PAN.muestra[0])\n",
    "\n",
    "intervalo_COALICION = pd.DataFrame({\"estimacion\": sim[\"COALICION\"][:].array, \"delta\": delta[\"COALICION\"].array})\n",
    "intervalo_COALICION[\"minimo\"] = intervalo_COALICION[\"estimacion\"] - intervalo_COALICION[\"delta\"]\n",
    "intervalo_COALICION[\"maximo\"] = intervalo_COALICION[\"estimacion\"] + intervalo_COALICION[\"delta\"]\n",
    "intervalo_COALICION[\"muestra\"] = len(muestra_actual)\n",
    "intervalo_COALICION.muestra[0]"
   ]
  },
  {
   "cell_type": "code",
   "execution_count": 35,
   "id": "inclusive-stage",
   "metadata": {},
   "outputs": [
    {
     "data": {
      "text/html": [
       "<div>\n",
       "<style scoped>\n",
       "    .dataframe tbody tr th:only-of-type {\n",
       "        vertical-align: middle;\n",
       "    }\n",
       "\n",
       "    .dataframe tbody tr th {\n",
       "        vertical-align: top;\n",
       "    }\n",
       "\n",
       "    .dataframe thead th {\n",
       "        text-align: right;\n",
       "    }\n",
       "</style>\n",
       "<table border=\"1\" class=\"dataframe\">\n",
       "  <thead>\n",
       "    <tr style=\"text-align: right;\">\n",
       "      <th></th>\n",
       "      <th>estimacion</th>\n",
       "      <th>delta</th>\n",
       "      <th>minimo</th>\n",
       "      <th>maximo</th>\n",
       "      <th>muestra</th>\n",
       "    </tr>\n",
       "  </thead>\n",
       "  <tbody>\n",
       "    <tr>\n",
       "      <th>0</th>\n",
       "      <td>0.423654</td>\n",
       "      <td>0.021466</td>\n",
       "      <td>0.402188</td>\n",
       "      <td>0.44512</td>\n",
       "      <td>92</td>\n",
       "    </tr>\n",
       "  </tbody>\n",
       "</table>\n",
       "</div>"
      ],
      "text/plain": [
       "   estimacion     delta    minimo   maximo  muestra\n",
       "0    0.423654  0.021466  0.402188  0.44512       92"
      ]
     },
     "execution_count": 35,
     "metadata": {},
     "output_type": "execute_result"
    }
   ],
   "source": [
    "path = \"Files/Exports/Res_PAN.csv\"\n",
    "historial_PAN = pd.DataFrame()\n",
    "if os.path.exists(path):\n",
    "    historial_PAN = pd.read_csv(path)\n",
    "    if intervalo_PAN.muestra[0] not in historial_PAN.muestra.values:\n",
    "        historial_PAN = historial_PAN.append(intervalo_PAN, ignore_index=True)\n",
    "else :\n",
    "    historial_PAN = historial_PAN.append(intervalo_PAN, ignore_index=True)\n",
    "\n",
    "historial_PAN.to_csv(path, index=False)\n",
    "historial_PAN"
   ]
  },
  {
   "cell_type": "code",
   "execution_count": 36,
   "id": "collect-identification",
   "metadata": {},
   "outputs": [
    {
     "data": {
      "text/html": [
       "<div>\n",
       "<style scoped>\n",
       "    .dataframe tbody tr th:only-of-type {\n",
       "        vertical-align: middle;\n",
       "    }\n",
       "\n",
       "    .dataframe tbody tr th {\n",
       "        vertical-align: top;\n",
       "    }\n",
       "\n",
       "    .dataframe thead th {\n",
       "        text-align: right;\n",
       "    }\n",
       "</style>\n",
       "<table border=\"1\" class=\"dataframe\">\n",
       "  <thead>\n",
       "    <tr style=\"text-align: right;\">\n",
       "      <th></th>\n",
       "      <th>estimacion</th>\n",
       "      <th>delta</th>\n",
       "      <th>minimo</th>\n",
       "      <th>maximo</th>\n",
       "      <th>muestra</th>\n",
       "    </tr>\n",
       "  </thead>\n",
       "  <tbody>\n",
       "    <tr>\n",
       "      <th>0</th>\n",
       "      <td>0.453003</td>\n",
       "      <td>0.020896</td>\n",
       "      <td>0.432107</td>\n",
       "      <td>0.473899</td>\n",
       "      <td>92</td>\n",
       "    </tr>\n",
       "  </tbody>\n",
       "</table>\n",
       "</div>"
      ],
      "text/plain": [
       "   estimacion     delta    minimo    maximo  muestra\n",
       "0    0.453003  0.020896  0.432107  0.473899       92"
      ]
     },
     "execution_count": 36,
     "metadata": {},
     "output_type": "execute_result"
    }
   ],
   "source": [
    "path = \"Files/Exports/Res_COALICION.csv\"\n",
    "historial_COALICION = pd.DataFrame()\n",
    "if os.path.exists(path):\n",
    "    historial_COALICION = pd.read_csv(path)\n",
    "    if intervalo_COALICION.muestra[0] not in historial_COALICION.muestra.values:\n",
    "        historial_COALICION = historial_COALICION.append(intervalo_COALICION, ignore_index=True)\n",
    "else :\n",
    "    historial_COALICION = historial_COALICION.append(intervalo_COALICION, ignore_index=True)\n",
    "historial_COALICION.to_csv(path, index=False)\n",
    "historial_COALICION"
   ]
  },
  {
   "cell_type": "code",
   "execution_count": 37,
   "id": "numerical-honolulu",
   "metadata": {},
   "outputs": [
    {
     "data": {
      "text/html": [
       "<div>\n",
       "<style scoped>\n",
       "    .dataframe tbody tr th:only-of-type {\n",
       "        vertical-align: middle;\n",
       "    }\n",
       "\n",
       "    .dataframe tbody tr th {\n",
       "        vertical-align: top;\n",
       "    }\n",
       "\n",
       "    .dataframe thead th {\n",
       "        text-align: right;\n",
       "    }\n",
       "</style>\n",
       "<table border=\"1\" class=\"dataframe\">\n",
       "  <thead>\n",
       "    <tr style=\"text-align: right;\">\n",
       "      <th></th>\n",
       "      <th>NOMBRE</th>\n",
       "      <th>CODIGO</th>\n",
       "      <th>MUESTRA</th>\n",
       "    </tr>\n",
       "  </thead>\n",
       "  <tbody>\n",
       "    <tr>\n",
       "      <th>0</th>\n",
       "      <td>SAN LUIS RIO COLORADO I</td>\n",
       "      <td>D01</td>\n",
       "      <td>14</td>\n",
       "    </tr>\n",
       "    <tr>\n",
       "      <th>1</th>\n",
       "      <td>PUERTO PEÑASCO II</td>\n",
       "      <td>D02</td>\n",
       "      <td>22</td>\n",
       "    </tr>\n",
       "    <tr>\n",
       "      <th>2</th>\n",
       "      <td>CABORCA III</td>\n",
       "      <td>D03</td>\n",
       "      <td>17</td>\n",
       "    </tr>\n",
       "    <tr>\n",
       "      <th>3</th>\n",
       "      <td>NOGALES NORTE IV</td>\n",
       "      <td>D04</td>\n",
       "      <td>12</td>\n",
       "    </tr>\n",
       "    <tr>\n",
       "      <th>4</th>\n",
       "      <td>NOGALES SUR V</td>\n",
       "      <td>D05</td>\n",
       "      <td>23</td>\n",
       "    </tr>\n",
       "    <tr>\n",
       "      <th>5</th>\n",
       "      <td>CANANEA VI</td>\n",
       "      <td>D06</td>\n",
       "      <td>17</td>\n",
       "    </tr>\n",
       "    <tr>\n",
       "      <th>6</th>\n",
       "      <td>AGUA PRIETA VII</td>\n",
       "      <td>D07</td>\n",
       "      <td>17</td>\n",
       "    </tr>\n",
       "    <tr>\n",
       "      <th>7</th>\n",
       "      <td>HERMOSILLO NOROESTE VIII</td>\n",
       "      <td>D08</td>\n",
       "      <td>23</td>\n",
       "    </tr>\n",
       "    <tr>\n",
       "      <th>8</th>\n",
       "      <td>HERMOSILLO CENTRO IX</td>\n",
       "      <td>D09</td>\n",
       "      <td>19</td>\n",
       "    </tr>\n",
       "    <tr>\n",
       "      <th>9</th>\n",
       "      <td>HERMOSILLO NORESTE X</td>\n",
       "      <td>D10</td>\n",
       "      <td>19</td>\n",
       "    </tr>\n",
       "    <tr>\n",
       "      <th>10</th>\n",
       "      <td>HERMOSILLO COSTA XI</td>\n",
       "      <td>D11</td>\n",
       "      <td>23</td>\n",
       "    </tr>\n",
       "    <tr>\n",
       "      <th>11</th>\n",
       "      <td>HERMOSILLO SUR XII</td>\n",
       "      <td>D12</td>\n",
       "      <td>19</td>\n",
       "    </tr>\n",
       "    <tr>\n",
       "      <th>12</th>\n",
       "      <td>GUAYMAS XIII</td>\n",
       "      <td>D13</td>\n",
       "      <td>18</td>\n",
       "    </tr>\n",
       "    <tr>\n",
       "      <th>13</th>\n",
       "      <td>EMPALME XIV</td>\n",
       "      <td>D14</td>\n",
       "      <td>15</td>\n",
       "    </tr>\n",
       "    <tr>\n",
       "      <th>14</th>\n",
       "      <td>OBREGON SUR XV</td>\n",
       "      <td>D15</td>\n",
       "      <td>16</td>\n",
       "    </tr>\n",
       "    <tr>\n",
       "      <th>15</th>\n",
       "      <td>OBREGON SURESTE XVI</td>\n",
       "      <td>D16</td>\n",
       "      <td>16</td>\n",
       "    </tr>\n",
       "    <tr>\n",
       "      <th>16</th>\n",
       "      <td>OBREGON CENTRO XVII</td>\n",
       "      <td>D17</td>\n",
       "      <td>17</td>\n",
       "    </tr>\n",
       "    <tr>\n",
       "      <th>17</th>\n",
       "      <td>OBREGON NORTE XVIII</td>\n",
       "      <td>D18</td>\n",
       "      <td>16</td>\n",
       "    </tr>\n",
       "    <tr>\n",
       "      <th>18</th>\n",
       "      <td>NAVOJOA NORTE XIX</td>\n",
       "      <td>D19</td>\n",
       "      <td>15</td>\n",
       "    </tr>\n",
       "    <tr>\n",
       "      <th>19</th>\n",
       "      <td>ETCHOJOA XX</td>\n",
       "      <td>D20</td>\n",
       "      <td>18</td>\n",
       "    </tr>\n",
       "    <tr>\n",
       "      <th>20</th>\n",
       "      <td>HUATABAMPO XXI</td>\n",
       "      <td>D21</td>\n",
       "      <td>14</td>\n",
       "    </tr>\n",
       "  </tbody>\n",
       "</table>\n",
       "</div>"
      ],
      "text/plain": [
       "                         NOMBRE CODIGO  MUESTRA\n",
       "0   SAN LUIS RIO COLORADO I        D01       14\n",
       "1          PUERTO PEÑASCO II       D02       22\n",
       "2                 CABORCA III      D03       17\n",
       "3           NOGALES NORTE IV       D04       12\n",
       "4             NOGALES SUR V        D05       23\n",
       "5                 CANANEA VI       D06       17\n",
       "6             AGUA PRIETA VII      D07       17\n",
       "7     HERMOSILLO NOROESTE VIII     D08       23\n",
       "8       HERMOSILLO CENTRO IX       D09       19\n",
       "9      HERMOSILLO NORESTE X        D10       19\n",
       "10       HERMOSILLO COSTA XI       D11       23\n",
       "11         HERMOSILLO SUR XII      D12       19\n",
       "12                GUAYMAS XIII     D13       18\n",
       "13                EMPALME XIV      D14       15\n",
       "14            OBREGON SUR XV       D15       16\n",
       "15        OBREGON SURESTE XVI      D16       16\n",
       "16         OBREGON CENTRO XVII     D17       17\n",
       "17          OBREGON NORTE XVIII    D18       16\n",
       "18          NAVOJOA NORTE XIX      D19       15\n",
       "19               ETCHOJOA XX       D20       18\n",
       "20             HUATABAMPO XXI      D21       14"
      ]
     },
     "execution_count": 37,
     "metadata": {},
     "output_type": "execute_result"
    }
   ],
   "source": [
    "dl = pd.read_excel(\"Files/Data/Casillas.xlsx\")\n",
    "del dl[\"Unnamed: 4\"]\n",
    "dl.columns = [\"NOMBRE\", \"CODIGO\", \"CAPTURADAS\", \"MUESTRA\"]\n",
    "del dl[\"CAPTURADAS\"]\n",
    "dl"
   ]
  },
  {
   "cell_type": "code",
   "execution_count": 38,
   "id": "atlantic-progressive",
   "metadata": {},
   "outputs": [
    {
     "data": {
      "text/html": [
       "<div>\n",
       "<style scoped>\n",
       "    .dataframe tbody tr th:only-of-type {\n",
       "        vertical-align: middle;\n",
       "    }\n",
       "\n",
       "    .dataframe tbody tr th {\n",
       "        vertical-align: top;\n",
       "    }\n",
       "\n",
       "    .dataframe thead th {\n",
       "        text-align: right;\n",
       "    }\n",
       "</style>\n",
       "<table border=\"1\" class=\"dataframe\">\n",
       "  <thead>\n",
       "    <tr style=\"text-align: right;\">\n",
       "      <th></th>\n",
       "      <th>NOMBRE</th>\n",
       "      <th>CASILLAS</th>\n",
       "    </tr>\n",
       "  </thead>\n",
       "  <tbody>\n",
       "    <tr>\n",
       "      <th>0</th>\n",
       "      <td>AGUA PRIETA VII</td>\n",
       "      <td>7</td>\n",
       "    </tr>\n",
       "    <tr>\n",
       "      <th>1</th>\n",
       "      <td>CABORCA III</td>\n",
       "      <td>5</td>\n",
       "    </tr>\n",
       "    <tr>\n",
       "      <th>2</th>\n",
       "      <td>CANANEA VI</td>\n",
       "      <td>4</td>\n",
       "    </tr>\n",
       "    <tr>\n",
       "      <th>3</th>\n",
       "      <td>EMPALME XIV</td>\n",
       "      <td>3</td>\n",
       "    </tr>\n",
       "    <tr>\n",
       "      <th>4</th>\n",
       "      <td>ETCHOJOA XX</td>\n",
       "      <td>7</td>\n",
       "    </tr>\n",
       "    <tr>\n",
       "      <th>5</th>\n",
       "      <td>GUAYMAS XIII</td>\n",
       "      <td>8</td>\n",
       "    </tr>\n",
       "    <tr>\n",
       "      <th>6</th>\n",
       "      <td>HERMOSILLO CENTRO IX</td>\n",
       "      <td>2</td>\n",
       "    </tr>\n",
       "    <tr>\n",
       "      <th>7</th>\n",
       "      <td>HERMOSILLO COSTA XI</td>\n",
       "      <td>4</td>\n",
       "    </tr>\n",
       "    <tr>\n",
       "      <th>8</th>\n",
       "      <td>HERMOSILLO NORESTE X</td>\n",
       "      <td>7</td>\n",
       "    </tr>\n",
       "    <tr>\n",
       "      <th>9</th>\n",
       "      <td>HERMOSILLO NOROESTE VIII</td>\n",
       "      <td>3</td>\n",
       "    </tr>\n",
       "    <tr>\n",
       "      <th>10</th>\n",
       "      <td>HERMOSILLO SUR XII</td>\n",
       "      <td>4</td>\n",
       "    </tr>\n",
       "    <tr>\n",
       "      <th>11</th>\n",
       "      <td>HUATABAMPO XXI</td>\n",
       "      <td>3</td>\n",
       "    </tr>\n",
       "    <tr>\n",
       "      <th>12</th>\n",
       "      <td>NAVOJOA NORTE XIX</td>\n",
       "      <td>2</td>\n",
       "    </tr>\n",
       "    <tr>\n",
       "      <th>13</th>\n",
       "      <td>NOGALES NORTE IV</td>\n",
       "      <td>4</td>\n",
       "    </tr>\n",
       "    <tr>\n",
       "      <th>14</th>\n",
       "      <td>NOGALES SUR V</td>\n",
       "      <td>3</td>\n",
       "    </tr>\n",
       "    <tr>\n",
       "      <th>15</th>\n",
       "      <td>OBREGON CENTRO XVII</td>\n",
       "      <td>5</td>\n",
       "    </tr>\n",
       "    <tr>\n",
       "      <th>16</th>\n",
       "      <td>OBREGON NORTE XVIII</td>\n",
       "      <td>1</td>\n",
       "    </tr>\n",
       "    <tr>\n",
       "      <th>17</th>\n",
       "      <td>OBREGON SUR XV</td>\n",
       "      <td>3</td>\n",
       "    </tr>\n",
       "    <tr>\n",
       "      <th>18</th>\n",
       "      <td>OBREGON SURESTE XVI</td>\n",
       "      <td>5</td>\n",
       "    </tr>\n",
       "    <tr>\n",
       "      <th>19</th>\n",
       "      <td>PUERTO PEÑASCO II</td>\n",
       "      <td>8</td>\n",
       "    </tr>\n",
       "    <tr>\n",
       "      <th>20</th>\n",
       "      <td>SAN LUIS RIO COLORADO I</td>\n",
       "      <td>4</td>\n",
       "    </tr>\n",
       "  </tbody>\n",
       "</table>\n",
       "</div>"
      ],
      "text/plain": [
       "                         NOMBRE  CASILLAS\n",
       "0             AGUA PRIETA VII           7\n",
       "1                 CABORCA III           5\n",
       "2                 CANANEA VI            4\n",
       "3                 EMPALME XIV           3\n",
       "4                ETCHOJOA XX            7\n",
       "5                 GUAYMAS XIII          8\n",
       "6       HERMOSILLO CENTRO IX            2\n",
       "7        HERMOSILLO COSTA XI            4\n",
       "8      HERMOSILLO NORESTE X             7\n",
       "9     HERMOSILLO NOROESTE VIII          3\n",
       "10         HERMOSILLO SUR XII           4\n",
       "11             HUATABAMPO XXI           3\n",
       "12          NAVOJOA NORTE XIX           2\n",
       "13          NOGALES NORTE IV            4\n",
       "14            NOGALES SUR V             3\n",
       "15         OBREGON CENTRO XVII          5\n",
       "16          OBREGON NORTE XVIII         1\n",
       "17            OBREGON SUR XV            3\n",
       "18        OBREGON SURESTE XVI           5\n",
       "19         PUERTO PEÑASCO II            8\n",
       "20  SAN LUIS RIO COLORADO I             4"
      ]
     },
     "execution_count": 38,
     "metadata": {},
     "output_type": "execute_result"
    }
   ],
   "source": [
    "contadas = muestra_actual\n",
    "contadas[\"CASILLAS\"] = 1\n",
    "contadas = contadas[[\"DISTRITO.LOCAL\", \"CASILLAS\"]]\n",
    "contadas = contadas.groupby(\"DISTRITO.LOCAL\").sum()\n",
    "contadas.reset_index(inplace=True)\n",
    "contadas.columns = [\"NOMBRE\",\"CASILLAS\"]\n",
    "contadas"
   ]
  },
  {
   "cell_type": "code",
   "execution_count": 39,
   "id": "material-humidity",
   "metadata": {},
   "outputs": [
    {
     "data": {
      "text/html": [
       "<div>\n",
       "<style scoped>\n",
       "    .dataframe tbody tr th:only-of-type {\n",
       "        vertical-align: middle;\n",
       "    }\n",
       "\n",
       "    .dataframe tbody tr th {\n",
       "        vertical-align: top;\n",
       "    }\n",
       "\n",
       "    .dataframe thead th {\n",
       "        text-align: right;\n",
       "    }\n",
       "</style>\n",
       "<table border=\"1\" class=\"dataframe\">\n",
       "  <thead>\n",
       "    <tr style=\"text-align: right;\">\n",
       "      <th></th>\n",
       "      <th>NOMBRE</th>\n",
       "      <th>CODIGO</th>\n",
       "      <th>MUESTRA</th>\n",
       "      <th>CASILLAS</th>\n",
       "    </tr>\n",
       "  </thead>\n",
       "  <tbody>\n",
       "    <tr>\n",
       "      <th>0</th>\n",
       "      <td>SAN LUIS RIO COLORADO I</td>\n",
       "      <td>D01</td>\n",
       "      <td>14</td>\n",
       "      <td>4</td>\n",
       "    </tr>\n",
       "    <tr>\n",
       "      <th>1</th>\n",
       "      <td>PUERTO PEÑASCO II</td>\n",
       "      <td>D02</td>\n",
       "      <td>22</td>\n",
       "      <td>8</td>\n",
       "    </tr>\n",
       "    <tr>\n",
       "      <th>2</th>\n",
       "      <td>CABORCA III</td>\n",
       "      <td>D03</td>\n",
       "      <td>17</td>\n",
       "      <td>5</td>\n",
       "    </tr>\n",
       "    <tr>\n",
       "      <th>3</th>\n",
       "      <td>NOGALES NORTE IV</td>\n",
       "      <td>D04</td>\n",
       "      <td>12</td>\n",
       "      <td>4</td>\n",
       "    </tr>\n",
       "    <tr>\n",
       "      <th>4</th>\n",
       "      <td>NOGALES SUR V</td>\n",
       "      <td>D05</td>\n",
       "      <td>23</td>\n",
       "      <td>3</td>\n",
       "    </tr>\n",
       "    <tr>\n",
       "      <th>5</th>\n",
       "      <td>CANANEA VI</td>\n",
       "      <td>D06</td>\n",
       "      <td>17</td>\n",
       "      <td>4</td>\n",
       "    </tr>\n",
       "    <tr>\n",
       "      <th>6</th>\n",
       "      <td>AGUA PRIETA VII</td>\n",
       "      <td>D07</td>\n",
       "      <td>17</td>\n",
       "      <td>7</td>\n",
       "    </tr>\n",
       "    <tr>\n",
       "      <th>7</th>\n",
       "      <td>HERMOSILLO NOROESTE VIII</td>\n",
       "      <td>D08</td>\n",
       "      <td>23</td>\n",
       "      <td>3</td>\n",
       "    </tr>\n",
       "    <tr>\n",
       "      <th>8</th>\n",
       "      <td>HERMOSILLO CENTRO IX</td>\n",
       "      <td>D09</td>\n",
       "      <td>19</td>\n",
       "      <td>2</td>\n",
       "    </tr>\n",
       "    <tr>\n",
       "      <th>9</th>\n",
       "      <td>HERMOSILLO NORESTE X</td>\n",
       "      <td>D10</td>\n",
       "      <td>19</td>\n",
       "      <td>7</td>\n",
       "    </tr>\n",
       "    <tr>\n",
       "      <th>10</th>\n",
       "      <td>HERMOSILLO COSTA XI</td>\n",
       "      <td>D11</td>\n",
       "      <td>23</td>\n",
       "      <td>4</td>\n",
       "    </tr>\n",
       "    <tr>\n",
       "      <th>11</th>\n",
       "      <td>HERMOSILLO SUR XII</td>\n",
       "      <td>D12</td>\n",
       "      <td>19</td>\n",
       "      <td>4</td>\n",
       "    </tr>\n",
       "    <tr>\n",
       "      <th>12</th>\n",
       "      <td>GUAYMAS XIII</td>\n",
       "      <td>D13</td>\n",
       "      <td>18</td>\n",
       "      <td>8</td>\n",
       "    </tr>\n",
       "    <tr>\n",
       "      <th>13</th>\n",
       "      <td>EMPALME XIV</td>\n",
       "      <td>D14</td>\n",
       "      <td>15</td>\n",
       "      <td>3</td>\n",
       "    </tr>\n",
       "    <tr>\n",
       "      <th>14</th>\n",
       "      <td>OBREGON SUR XV</td>\n",
       "      <td>D15</td>\n",
       "      <td>16</td>\n",
       "      <td>3</td>\n",
       "    </tr>\n",
       "    <tr>\n",
       "      <th>15</th>\n",
       "      <td>OBREGON SURESTE XVI</td>\n",
       "      <td>D16</td>\n",
       "      <td>16</td>\n",
       "      <td>5</td>\n",
       "    </tr>\n",
       "    <tr>\n",
       "      <th>16</th>\n",
       "      <td>OBREGON CENTRO XVII</td>\n",
       "      <td>D17</td>\n",
       "      <td>17</td>\n",
       "      <td>5</td>\n",
       "    </tr>\n",
       "    <tr>\n",
       "      <th>17</th>\n",
       "      <td>OBREGON NORTE XVIII</td>\n",
       "      <td>D18</td>\n",
       "      <td>16</td>\n",
       "      <td>1</td>\n",
       "    </tr>\n",
       "    <tr>\n",
       "      <th>18</th>\n",
       "      <td>NAVOJOA NORTE XIX</td>\n",
       "      <td>D19</td>\n",
       "      <td>15</td>\n",
       "      <td>2</td>\n",
       "    </tr>\n",
       "    <tr>\n",
       "      <th>19</th>\n",
       "      <td>ETCHOJOA XX</td>\n",
       "      <td>D20</td>\n",
       "      <td>18</td>\n",
       "      <td>7</td>\n",
       "    </tr>\n",
       "    <tr>\n",
       "      <th>20</th>\n",
       "      <td>HUATABAMPO XXI</td>\n",
       "      <td>D21</td>\n",
       "      <td>14</td>\n",
       "      <td>3</td>\n",
       "    </tr>\n",
       "  </tbody>\n",
       "</table>\n",
       "</div>"
      ],
      "text/plain": [
       "                         NOMBRE CODIGO  MUESTRA  CASILLAS\n",
       "0   SAN LUIS RIO COLORADO I        D01       14         4\n",
       "1          PUERTO PEÑASCO II       D02       22         8\n",
       "2                 CABORCA III      D03       17         5\n",
       "3           NOGALES NORTE IV       D04       12         4\n",
       "4             NOGALES SUR V        D05       23         3\n",
       "5                 CANANEA VI       D06       17         4\n",
       "6             AGUA PRIETA VII      D07       17         7\n",
       "7     HERMOSILLO NOROESTE VIII     D08       23         3\n",
       "8       HERMOSILLO CENTRO IX       D09       19         2\n",
       "9      HERMOSILLO NORESTE X        D10       19         7\n",
       "10       HERMOSILLO COSTA XI       D11       23         4\n",
       "11         HERMOSILLO SUR XII      D12       19         4\n",
       "12                GUAYMAS XIII     D13       18         8\n",
       "13                EMPALME XIV      D14       15         3\n",
       "14            OBREGON SUR XV       D15       16         3\n",
       "15        OBREGON SURESTE XVI      D16       16         5\n",
       "16         OBREGON CENTRO XVII     D17       17         5\n",
       "17          OBREGON NORTE XVIII    D18       16         1\n",
       "18          NAVOJOA NORTE XIX      D19       15         2\n",
       "19               ETCHOJOA XX       D20       18         7\n",
       "20             HUATABAMPO XXI      D21       14         3"
      ]
     },
     "execution_count": 39,
     "metadata": {},
     "output_type": "execute_result"
    }
   ],
   "source": [
    "dl = dl.merge(contadas, on=\"NOMBRE\")\n",
    "dl"
   ]
  },
  {
   "cell_type": "code",
   "execution_count": 40,
   "id": "irish-representative",
   "metadata": {},
   "outputs": [
    {
     "data": {
      "text/html": [
       "<div>\n",
       "<style scoped>\n",
       "    .dataframe tbody tr th:only-of-type {\n",
       "        vertical-align: middle;\n",
       "    }\n",
       "\n",
       "    .dataframe tbody tr th {\n",
       "        vertical-align: top;\n",
       "    }\n",
       "\n",
       "    .dataframe thead th {\n",
       "        text-align: right;\n",
       "    }\n",
       "</style>\n",
       "<table border=\"1\" class=\"dataframe\">\n",
       "  <thead>\n",
       "    <tr style=\"text-align: right;\">\n",
       "      <th></th>\n",
       "      <th>NOMBRE</th>\n",
       "      <th>CODIGO</th>\n",
       "      <th>MUESTRA</th>\n",
       "      <th>CASILLAS</th>\n",
       "      <th>PORCENTAJE</th>\n",
       "    </tr>\n",
       "  </thead>\n",
       "  <tbody>\n",
       "    <tr>\n",
       "      <th>0</th>\n",
       "      <td>SAN LUIS RIO COLORADO I</td>\n",
       "      <td>D01</td>\n",
       "      <td>14</td>\n",
       "      <td>4</td>\n",
       "      <td>28.571429</td>\n",
       "    </tr>\n",
       "    <tr>\n",
       "      <th>1</th>\n",
       "      <td>PUERTO PEÑASCO II</td>\n",
       "      <td>D02</td>\n",
       "      <td>22</td>\n",
       "      <td>8</td>\n",
       "      <td>36.363636</td>\n",
       "    </tr>\n",
       "    <tr>\n",
       "      <th>2</th>\n",
       "      <td>CABORCA III</td>\n",
       "      <td>D03</td>\n",
       "      <td>17</td>\n",
       "      <td>5</td>\n",
       "      <td>29.411765</td>\n",
       "    </tr>\n",
       "    <tr>\n",
       "      <th>3</th>\n",
       "      <td>NOGALES NORTE IV</td>\n",
       "      <td>D04</td>\n",
       "      <td>12</td>\n",
       "      <td>4</td>\n",
       "      <td>33.333333</td>\n",
       "    </tr>\n",
       "    <tr>\n",
       "      <th>4</th>\n",
       "      <td>NOGALES SUR V</td>\n",
       "      <td>D05</td>\n",
       "      <td>23</td>\n",
       "      <td>3</td>\n",
       "      <td>13.043478</td>\n",
       "    </tr>\n",
       "    <tr>\n",
       "      <th>5</th>\n",
       "      <td>CANANEA VI</td>\n",
       "      <td>D06</td>\n",
       "      <td>17</td>\n",
       "      <td>4</td>\n",
       "      <td>23.529412</td>\n",
       "    </tr>\n",
       "    <tr>\n",
       "      <th>6</th>\n",
       "      <td>AGUA PRIETA VII</td>\n",
       "      <td>D07</td>\n",
       "      <td>17</td>\n",
       "      <td>7</td>\n",
       "      <td>41.176471</td>\n",
       "    </tr>\n",
       "    <tr>\n",
       "      <th>7</th>\n",
       "      <td>HERMOSILLO NOROESTE VIII</td>\n",
       "      <td>D08</td>\n",
       "      <td>23</td>\n",
       "      <td>3</td>\n",
       "      <td>13.043478</td>\n",
       "    </tr>\n",
       "    <tr>\n",
       "      <th>8</th>\n",
       "      <td>HERMOSILLO CENTRO IX</td>\n",
       "      <td>D09</td>\n",
       "      <td>19</td>\n",
       "      <td>2</td>\n",
       "      <td>10.526316</td>\n",
       "    </tr>\n",
       "    <tr>\n",
       "      <th>9</th>\n",
       "      <td>HERMOSILLO NORESTE X</td>\n",
       "      <td>D10</td>\n",
       "      <td>19</td>\n",
       "      <td>7</td>\n",
       "      <td>36.842105</td>\n",
       "    </tr>\n",
       "    <tr>\n",
       "      <th>10</th>\n",
       "      <td>HERMOSILLO COSTA XI</td>\n",
       "      <td>D11</td>\n",
       "      <td>23</td>\n",
       "      <td>4</td>\n",
       "      <td>17.391304</td>\n",
       "    </tr>\n",
       "    <tr>\n",
       "      <th>11</th>\n",
       "      <td>HERMOSILLO SUR XII</td>\n",
       "      <td>D12</td>\n",
       "      <td>19</td>\n",
       "      <td>4</td>\n",
       "      <td>21.052632</td>\n",
       "    </tr>\n",
       "    <tr>\n",
       "      <th>12</th>\n",
       "      <td>GUAYMAS XIII</td>\n",
       "      <td>D13</td>\n",
       "      <td>18</td>\n",
       "      <td>8</td>\n",
       "      <td>44.444444</td>\n",
       "    </tr>\n",
       "    <tr>\n",
       "      <th>13</th>\n",
       "      <td>EMPALME XIV</td>\n",
       "      <td>D14</td>\n",
       "      <td>15</td>\n",
       "      <td>3</td>\n",
       "      <td>20.000000</td>\n",
       "    </tr>\n",
       "    <tr>\n",
       "      <th>14</th>\n",
       "      <td>OBREGON SUR XV</td>\n",
       "      <td>D15</td>\n",
       "      <td>16</td>\n",
       "      <td>3</td>\n",
       "      <td>18.750000</td>\n",
       "    </tr>\n",
       "    <tr>\n",
       "      <th>15</th>\n",
       "      <td>OBREGON SURESTE XVI</td>\n",
       "      <td>D16</td>\n",
       "      <td>16</td>\n",
       "      <td>5</td>\n",
       "      <td>31.250000</td>\n",
       "    </tr>\n",
       "    <tr>\n",
       "      <th>16</th>\n",
       "      <td>OBREGON CENTRO XVII</td>\n",
       "      <td>D17</td>\n",
       "      <td>17</td>\n",
       "      <td>5</td>\n",
       "      <td>29.411765</td>\n",
       "    </tr>\n",
       "    <tr>\n",
       "      <th>17</th>\n",
       "      <td>OBREGON NORTE XVIII</td>\n",
       "      <td>D18</td>\n",
       "      <td>16</td>\n",
       "      <td>1</td>\n",
       "      <td>6.250000</td>\n",
       "    </tr>\n",
       "    <tr>\n",
       "      <th>18</th>\n",
       "      <td>NAVOJOA NORTE XIX</td>\n",
       "      <td>D19</td>\n",
       "      <td>15</td>\n",
       "      <td>2</td>\n",
       "      <td>13.333333</td>\n",
       "    </tr>\n",
       "    <tr>\n",
       "      <th>19</th>\n",
       "      <td>ETCHOJOA XX</td>\n",
       "      <td>D20</td>\n",
       "      <td>18</td>\n",
       "      <td>7</td>\n",
       "      <td>38.888889</td>\n",
       "    </tr>\n",
       "    <tr>\n",
       "      <th>20</th>\n",
       "      <td>HUATABAMPO XXI</td>\n",
       "      <td>D21</td>\n",
       "      <td>14</td>\n",
       "      <td>3</td>\n",
       "      <td>21.428571</td>\n",
       "    </tr>\n",
       "  </tbody>\n",
       "</table>\n",
       "</div>"
      ],
      "text/plain": [
       "                         NOMBRE CODIGO  MUESTRA  CASILLAS  PORCENTAJE\n",
       "0   SAN LUIS RIO COLORADO I        D01       14         4   28.571429\n",
       "1          PUERTO PEÑASCO II       D02       22         8   36.363636\n",
       "2                 CABORCA III      D03       17         5   29.411765\n",
       "3           NOGALES NORTE IV       D04       12         4   33.333333\n",
       "4             NOGALES SUR V        D05       23         3   13.043478\n",
       "5                 CANANEA VI       D06       17         4   23.529412\n",
       "6             AGUA PRIETA VII      D07       17         7   41.176471\n",
       "7     HERMOSILLO NOROESTE VIII     D08       23         3   13.043478\n",
       "8       HERMOSILLO CENTRO IX       D09       19         2   10.526316\n",
       "9      HERMOSILLO NORESTE X        D10       19         7   36.842105\n",
       "10       HERMOSILLO COSTA XI       D11       23         4   17.391304\n",
       "11         HERMOSILLO SUR XII      D12       19         4   21.052632\n",
       "12                GUAYMAS XIII     D13       18         8   44.444444\n",
       "13                EMPALME XIV      D14       15         3   20.000000\n",
       "14            OBREGON SUR XV       D15       16         3   18.750000\n",
       "15        OBREGON SURESTE XVI      D16       16         5   31.250000\n",
       "16         OBREGON CENTRO XVII     D17       17         5   29.411765\n",
       "17          OBREGON NORTE XVIII    D18       16         1    6.250000\n",
       "18          NAVOJOA NORTE XIX      D19       15         2   13.333333\n",
       "19               ETCHOJOA XX       D20       18         7   38.888889\n",
       "20             HUATABAMPO XXI      D21       14         3   21.428571"
      ]
     },
     "execution_count": 40,
     "metadata": {},
     "output_type": "execute_result"
    }
   ],
   "source": [
    "dl[\"PORCENTAJE\"] = (dl[\"CASILLAS\"]/dl[\"MUESTRA\"])*100\n",
    "dl"
   ]
  },
  {
   "cell_type": "code",
   "execution_count": 41,
   "id": "weighted-universe",
   "metadata": {},
   "outputs": [
    {
     "name": "stderr",
     "output_type": "stream",
     "text": [
      "C:\\Users\\alexi\\.conda\\envs\\estadistica\\lib\\site-packages\\geopandas\\geodataframe.py:577: RuntimeWarning:\n",
      "\n",
      "Sequential read of iterator was interrupted. Resetting iterator. This can negatively impact the performance.\n",
      "\n"
     ]
    }
   ],
   "source": [
    "import fiona\n",
    "fiona.supported_drivers['libkml'] = 'rw'\n",
    "fiona.supported_drivers['LIBKML'] = 'rw'\n",
    "fiona.supported_drivers['KML'] = 'rw'\n",
    "gdl = gpd.read_file(\"Files/Poly/DISTRITOS_SONORA.kml\")\n",
    "gdl = gdl[[\"Name\", \"geometry\"]]\n",
    "gdl = gdl.sort_values(\"Name\").reset_index(drop=True)\n",
    "gdl[\"Porcentaje\"] = 0.0"
   ]
  },
  {
   "cell_type": "code",
   "execution_count": 42,
   "id": "atlantic-symphony",
   "metadata": {},
   "outputs": [],
   "source": [
    "for index, row in dl.iterrows():\n",
    "    gdl.loc[gdl[\"Name\"] == row[\"CODIGO\"], \"Porcentaje\"] = row[\"PORCENTAJE\"]"
   ]
  },
  {
   "cell_type": "code",
   "execution_count": 43,
   "id": "major-affiliation",
   "metadata": {},
   "outputs": [
    {
     "name": "stderr",
     "output_type": "stream",
     "text": [
      "<ipython-input-43-47ffe0612e2e>:1: UserWarning:\n",
      "\n",
      "Geometry is in a geographic CRS. Results from 'centroid' are likely incorrect. Use 'GeoSeries.to_crs()' to re-project geometries to a projected CRS before this operation.\n",
      "\n",
      "\n"
     ]
    },
    {
     "data": {
      "text/html": [
       "<div>\n",
       "<style scoped>\n",
       "    .dataframe tbody tr th:only-of-type {\n",
       "        vertical-align: middle;\n",
       "    }\n",
       "\n",
       "    .dataframe tbody tr th {\n",
       "        vertical-align: top;\n",
       "    }\n",
       "\n",
       "    .dataframe thead th {\n",
       "        text-align: right;\n",
       "    }\n",
       "</style>\n",
       "<table border=\"1\" class=\"dataframe\">\n",
       "  <thead>\n",
       "    <tr style=\"text-align: right;\">\n",
       "      <th></th>\n",
       "      <th>Name</th>\n",
       "      <th>geometry</th>\n",
       "      <th>Porcentaje</th>\n",
       "      <th>center</th>\n",
       "    </tr>\n",
       "  </thead>\n",
       "  <tbody>\n",
       "    <tr>\n",
       "      <th>0</th>\n",
       "      <td>D01</td>\n",
       "      <td>MULTIPOLYGON Z (((-114.74907 32.47515 0.00000,...</td>\n",
       "      <td>28.571429</td>\n",
       "      <td>POINT (-114.86269 32.43795)</td>\n",
       "    </tr>\n",
       "    <tr>\n",
       "      <th>1</th>\n",
       "      <td>D02</td>\n",
       "      <td>MULTIPOLYGON Z (((-114.79498 32.42485 0.00000,...</td>\n",
       "      <td>36.363636</td>\n",
       "      <td>POINT (-114.02618 31.86153)</td>\n",
       "    </tr>\n",
       "    <tr>\n",
       "      <th>2</th>\n",
       "      <td>D03</td>\n",
       "      <td>MULTIPOLYGON Z (((-113.51349 32.09552 0.00000,...</td>\n",
       "      <td>29.411765</td>\n",
       "      <td>POINT (-112.19987 30.71576)</td>\n",
       "    </tr>\n",
       "    <tr>\n",
       "      <th>3</th>\n",
       "      <td>D04</td>\n",
       "      <td>MULTIPOLYGON Z (((-111.22703 31.38073 0.00000,...</td>\n",
       "      <td>33.333333</td>\n",
       "      <td>POINT (-110.89036 31.05419)</td>\n",
       "    </tr>\n",
       "    <tr>\n",
       "      <th>4</th>\n",
       "      <td>D05</td>\n",
       "      <td>MULTIPOLYGON Z (((-110.95440 31.30058 0.00000,...</td>\n",
       "      <td>13.043478</td>\n",
       "      <td>POINT (-110.93602 31.30644)</td>\n",
       "    </tr>\n",
       "    <tr>\n",
       "      <th>5</th>\n",
       "      <td>D06</td>\n",
       "      <td>MULTIPOLYGON Z (((-111.02231 29.08180 0.00000,...</td>\n",
       "      <td>23.529412</td>\n",
       "      <td>POINT (-110.98851 29.05860)</td>\n",
       "    </tr>\n",
       "    <tr>\n",
       "      <th>6</th>\n",
       "      <td>D07</td>\n",
       "      <td>MULTIPOLYGON Z (((-108.80870 31.33288 0.00000,...</td>\n",
       "      <td>41.176471</td>\n",
       "      <td>POINT (-109.71310 30.99136)</td>\n",
       "    </tr>\n",
       "    <tr>\n",
       "      <th>7</th>\n",
       "      <td>D08</td>\n",
       "      <td>MULTIPOLYGON Z (((-110.99719 29.15680 0.00000,...</td>\n",
       "      <td>13.043478</td>\n",
       "      <td>POINT (-111.03039 29.14647)</td>\n",
       "    </tr>\n",
       "    <tr>\n",
       "      <th>8</th>\n",
       "      <td>D09</td>\n",
       "      <td>MULTIPOLYGON Z (((-110.99238 29.12435 0.00000,...</td>\n",
       "      <td>10.526316</td>\n",
       "      <td>POINT (-110.98592 29.10132)</td>\n",
       "    </tr>\n",
       "    <tr>\n",
       "      <th>9</th>\n",
       "      <td>D10</td>\n",
       "      <td>MULTIPOLYGON Z (((-110.99719 29.15680 0.00000,...</td>\n",
       "      <td>36.842105</td>\n",
       "      <td>POINT (-110.96958 29.13950)</td>\n",
       "    </tr>\n",
       "    <tr>\n",
       "      <th>10</th>\n",
       "      <td>D11</td>\n",
       "      <td>MULTIPOLYGON Z (((-111.53148 29.68994 0.00000,...</td>\n",
       "      <td>17.391304</td>\n",
       "      <td>POINT (-111.49466 29.00129)</td>\n",
       "    </tr>\n",
       "    <tr>\n",
       "      <th>11</th>\n",
       "      <td>D12</td>\n",
       "      <td>MULTIPOLYGON Z (((-110.81969 29.36527 0.00000,...</td>\n",
       "      <td>21.052632</td>\n",
       "      <td>POINT (-110.82789 29.16191)</td>\n",
       "    </tr>\n",
       "    <tr>\n",
       "      <th>12</th>\n",
       "      <td>D13</td>\n",
       "      <td>MULTIPOLYGON Z (((-110.78083 28.54065 0.00000,...</td>\n",
       "      <td>44.444444</td>\n",
       "      <td>POINT (-110.95279 28.24007)</td>\n",
       "    </tr>\n",
       "    <tr>\n",
       "      <th>13</th>\n",
       "      <td>D14</td>\n",
       "      <td>MULTIPOLYGON Z (((-110.59260 28.47868 0.00000,...</td>\n",
       "      <td>20.000000</td>\n",
       "      <td>POINT (-110.35092 27.89480)</td>\n",
       "    </tr>\n",
       "    <tr>\n",
       "      <th>14</th>\n",
       "      <td>D15</td>\n",
       "      <td>MULTIPOLYGON Z (((-109.94274 27.47636 0.00000,...</td>\n",
       "      <td>18.750000</td>\n",
       "      <td>POINT (-109.93116 27.30992)</td>\n",
       "    </tr>\n",
       "    <tr>\n",
       "      <th>15</th>\n",
       "      <td>D16</td>\n",
       "      <td>MULTIPOLYGON Z (((-110.10107 28.33286 0.00000,...</td>\n",
       "      <td>31.250000</td>\n",
       "      <td>POINT (-109.85760 27.97280)</td>\n",
       "    </tr>\n",
       "    <tr>\n",
       "      <th>16</th>\n",
       "      <td>D17</td>\n",
       "      <td>MULTIPOLYGON Z (((-110.01484 27.52410 0.00000,...</td>\n",
       "      <td>29.411765</td>\n",
       "      <td>POINT (-110.01580 27.44590)</td>\n",
       "    </tr>\n",
       "    <tr>\n",
       "      <th>17</th>\n",
       "      <td>D18</td>\n",
       "      <td>MULTIPOLYGON Z (((-111.22017 30.71340 0.00000,...</td>\n",
       "      <td>6.250000</td>\n",
       "      <td>POINT (-109.88817 29.69649)</td>\n",
       "    </tr>\n",
       "    <tr>\n",
       "      <th>18</th>\n",
       "      <td>D19</td>\n",
       "      <td>MULTIPOLYGON Z (((-109.48867 27.27185 0.00000,...</td>\n",
       "      <td>13.333333</td>\n",
       "      <td>POINT (-109.35368 27.15222)</td>\n",
       "    </tr>\n",
       "    <tr>\n",
       "      <th>19</th>\n",
       "      <td>D20</td>\n",
       "      <td>MULTIPOLYGON Z (((-109.98866 27.11855 0.00000,...</td>\n",
       "      <td>38.888889</td>\n",
       "      <td>POINT (-109.54852 27.01363)</td>\n",
       "    </tr>\n",
       "    <tr>\n",
       "      <th>20</th>\n",
       "      <td>D21</td>\n",
       "      <td>MULTIPOLYGON Z (((-109.64676 28.39787 0.00000,...</td>\n",
       "      <td>21.428571</td>\n",
       "      <td>POINT (-109.14932 27.54132)</td>\n",
       "    </tr>\n",
       "  </tbody>\n",
       "</table>\n",
       "</div>"
      ],
      "text/plain": [
       "   Name                                           geometry  Porcentaje  \\\n",
       "0   D01  MULTIPOLYGON Z (((-114.74907 32.47515 0.00000,...   28.571429   \n",
       "1   D02  MULTIPOLYGON Z (((-114.79498 32.42485 0.00000,...   36.363636   \n",
       "2   D03  MULTIPOLYGON Z (((-113.51349 32.09552 0.00000,...   29.411765   \n",
       "3   D04  MULTIPOLYGON Z (((-111.22703 31.38073 0.00000,...   33.333333   \n",
       "4   D05  MULTIPOLYGON Z (((-110.95440 31.30058 0.00000,...   13.043478   \n",
       "5   D06  MULTIPOLYGON Z (((-111.02231 29.08180 0.00000,...   23.529412   \n",
       "6   D07  MULTIPOLYGON Z (((-108.80870 31.33288 0.00000,...   41.176471   \n",
       "7   D08  MULTIPOLYGON Z (((-110.99719 29.15680 0.00000,...   13.043478   \n",
       "8   D09  MULTIPOLYGON Z (((-110.99238 29.12435 0.00000,...   10.526316   \n",
       "9   D10  MULTIPOLYGON Z (((-110.99719 29.15680 0.00000,...   36.842105   \n",
       "10  D11  MULTIPOLYGON Z (((-111.53148 29.68994 0.00000,...   17.391304   \n",
       "11  D12  MULTIPOLYGON Z (((-110.81969 29.36527 0.00000,...   21.052632   \n",
       "12  D13  MULTIPOLYGON Z (((-110.78083 28.54065 0.00000,...   44.444444   \n",
       "13  D14  MULTIPOLYGON Z (((-110.59260 28.47868 0.00000,...   20.000000   \n",
       "14  D15  MULTIPOLYGON Z (((-109.94274 27.47636 0.00000,...   18.750000   \n",
       "15  D16  MULTIPOLYGON Z (((-110.10107 28.33286 0.00000,...   31.250000   \n",
       "16  D17  MULTIPOLYGON Z (((-110.01484 27.52410 0.00000,...   29.411765   \n",
       "17  D18  MULTIPOLYGON Z (((-111.22017 30.71340 0.00000,...    6.250000   \n",
       "18  D19  MULTIPOLYGON Z (((-109.48867 27.27185 0.00000,...   13.333333   \n",
       "19  D20  MULTIPOLYGON Z (((-109.98866 27.11855 0.00000,...   38.888889   \n",
       "20  D21  MULTIPOLYGON Z (((-109.64676 28.39787 0.00000,...   21.428571   \n",
       "\n",
       "                         center  \n",
       "0   POINT (-114.86269 32.43795)  \n",
       "1   POINT (-114.02618 31.86153)  \n",
       "2   POINT (-112.19987 30.71576)  \n",
       "3   POINT (-110.89036 31.05419)  \n",
       "4   POINT (-110.93602 31.30644)  \n",
       "5   POINT (-110.98851 29.05860)  \n",
       "6   POINT (-109.71310 30.99136)  \n",
       "7   POINT (-111.03039 29.14647)  \n",
       "8   POINT (-110.98592 29.10132)  \n",
       "9   POINT (-110.96958 29.13950)  \n",
       "10  POINT (-111.49466 29.00129)  \n",
       "11  POINT (-110.82789 29.16191)  \n",
       "12  POINT (-110.95279 28.24007)  \n",
       "13  POINT (-110.35092 27.89480)  \n",
       "14  POINT (-109.93116 27.30992)  \n",
       "15  POINT (-109.85760 27.97280)  \n",
       "16  POINT (-110.01580 27.44590)  \n",
       "17  POINT (-109.88817 29.69649)  \n",
       "18  POINT (-109.35368 27.15222)  \n",
       "19  POINT (-109.54852 27.01363)  \n",
       "20  POINT (-109.14932 27.54132)  "
      ]
     },
     "execution_count": 43,
     "metadata": {},
     "output_type": "execute_result"
    }
   ],
   "source": [
    "gdl[\"center\"] = gdl[\"geometry\"].centroid\n",
    "gdl_points = gdl.copy()\n",
    "gdl_points.set_geometry(\"center\", inplace = True)\n",
    "gdl"
   ]
  },
  {
   "cell_type": "code",
   "execution_count": 44,
   "id": "smooth-florence",
   "metadata": {},
   "outputs": [
    {
     "data": {
      "text/plain": [
       "(-115.37998350993857,\n",
       " -108.12282184908463,\n",
       " 25.993875897010465,\n",
       " 32.802964736694264)"
      ]
     },
     "execution_count": 44,
     "metadata": {},
     "output_type": "execute_result"
    },
    {
     "data": {
      "image/png": "[encoded data removed]",
      "text/plain": [
       "<Figure size 1440x864 with 2 Axes>"
      ]
     },
     "metadata": {
      "needs_background": "light"
     },
     "output_type": "display_data"
    }
   ],
   "source": [
    "fig, ax = plt.subplots(1, 1,figsize=(20,12))\n",
    "\n",
    "divider = make_axes_locatable(ax)\n",
    "\n",
    "#cax = divider.append_axes(\"right\", size=\"5%\", pad=0.1)\n",
    "\n",
    "base = gdl.plot(figsize=(20, 20),\n",
    "         edgecolor = \"black\",\n",
    "         column=\"Porcentaje\",\n",
    "         ax=ax,\n",
    "         legend=True,\n",
    "         cmap=\"Spectral\",\n",
    "         vmax=100,\n",
    "         vmin=0,\n",
    "         legend_kwds={'label': \"Porcentaje\",\n",
    "                      'orientation': \"vertical\"})\n",
    "# *************** ESTA PARTE ES PARA AGREGAR LAS LEYENDAS A CADA DISTRITO ***************************\n",
    "texts = []\n",
    "for x, y, label in zip(gdl_points.geometry.x, gdl_points.geometry.y, gdl_points[\"Name\"]):\n",
    "    texts.append(plt.text(x, y, label, fontsize = 8))\n",
    "# ***************************************************************************************************\n",
    "    \n",
    "plt.axis(\"off\")"
   ]
  },
  {
   "cell_type": "code",
   "execution_count": 45,
   "id": "offshore-mentor",
   "metadata": {},
   "outputs": [
    {
     "data": {
      "text/html": [
       "<div>\n",
       "<style scoped>\n",
       "    .dataframe tbody tr th:only-of-type {\n",
       "        vertical-align: middle;\n",
       "    }\n",
       "\n",
       "    .dataframe tbody tr th {\n",
       "        vertical-align: top;\n",
       "    }\n",
       "\n",
       "    .dataframe thead th {\n",
       "        text-align: right;\n",
       "    }\n",
       "</style>\n",
       "<table border=\"1\" class=\"dataframe\">\n",
       "  <thead>\n",
       "    <tr style=\"text-align: right;\">\n",
       "      <th></th>\n",
       "      <th>Name</th>\n",
       "      <th>geometry</th>\n",
       "      <th>Porcentaje</th>\n",
       "      <th>center</th>\n",
       "    </tr>\n",
       "  </thead>\n",
       "  <tbody>\n",
       "    <tr>\n",
       "      <th>0</th>\n",
       "      <td>D01</td>\n",
       "      <td>MULTIPOLYGON Z (((-114.74907 32.47515 0.00000,...</td>\n",
       "      <td>28.571429</td>\n",
       "      <td>POINT (-114.86269 32.43795)</td>\n",
       "    </tr>\n",
       "    <tr>\n",
       "      <th>1</th>\n",
       "      <td>D02</td>\n",
       "      <td>MULTIPOLYGON Z (((-114.79498 32.42485 0.00000,...</td>\n",
       "      <td>36.363636</td>\n",
       "      <td>POINT (-114.02618 31.86153)</td>\n",
       "    </tr>\n",
       "    <tr>\n",
       "      <th>2</th>\n",
       "      <td>D03</td>\n",
       "      <td>MULTIPOLYGON Z (((-113.51349 32.09552 0.00000,...</td>\n",
       "      <td>29.411765</td>\n",
       "      <td>POINT (-112.19987 30.71576)</td>\n",
       "    </tr>\n",
       "    <tr>\n",
       "      <th>3</th>\n",
       "      <td>D04</td>\n",
       "      <td>MULTIPOLYGON Z (((-111.22703 31.38073 0.00000,...</td>\n",
       "      <td>33.333333</td>\n",
       "      <td>POINT (-110.89036 31.05419)</td>\n",
       "    </tr>\n",
       "    <tr>\n",
       "      <th>4</th>\n",
       "      <td>D05</td>\n",
       "      <td>MULTIPOLYGON Z (((-110.95440 31.30058 0.00000,...</td>\n",
       "      <td>13.043478</td>\n",
       "      <td>POINT (-110.93602 31.30644)</td>\n",
       "    </tr>\n",
       "    <tr>\n",
       "      <th>5</th>\n",
       "      <td>D06</td>\n",
       "      <td>MULTIPOLYGON Z (((-111.02231 29.08180 0.00000,...</td>\n",
       "      <td>23.529412</td>\n",
       "      <td>POINT (-110.98851 29.05860)</td>\n",
       "    </tr>\n",
       "    <tr>\n",
       "      <th>6</th>\n",
       "      <td>D07</td>\n",
       "      <td>MULTIPOLYGON Z (((-108.80870 31.33288 0.00000,...</td>\n",
       "      <td>41.176471</td>\n",
       "      <td>POINT (-109.71310 30.99136)</td>\n",
       "    </tr>\n",
       "    <tr>\n",
       "      <th>7</th>\n",
       "      <td>D08</td>\n",
       "      <td>MULTIPOLYGON Z (((-110.99719 29.15680 0.00000,...</td>\n",
       "      <td>13.043478</td>\n",
       "      <td>POINT (-111.03039 29.14647)</td>\n",
       "    </tr>\n",
       "    <tr>\n",
       "      <th>8</th>\n",
       "      <td>D09</td>\n",
       "      <td>MULTIPOLYGON Z (((-110.99238 29.12435 0.00000,...</td>\n",
       "      <td>10.526316</td>\n",
       "      <td>POINT (-110.98592 29.10132)</td>\n",
       "    </tr>\n",
       "    <tr>\n",
       "      <th>9</th>\n",
       "      <td>D10</td>\n",
       "      <td>MULTIPOLYGON Z (((-110.99719 29.15680 0.00000,...</td>\n",
       "      <td>36.842105</td>\n",
       "      <td>POINT (-110.96958 29.13950)</td>\n",
       "    </tr>\n",
       "    <tr>\n",
       "      <th>10</th>\n",
       "      <td>D11</td>\n",
       "      <td>MULTIPOLYGON Z (((-111.53148 29.68994 0.00000,...</td>\n",
       "      <td>17.391304</td>\n",
       "      <td>POINT (-111.49466 29.00129)</td>\n",
       "    </tr>\n",
       "    <tr>\n",
       "      <th>11</th>\n",
       "      <td>D12</td>\n",
       "      <td>MULTIPOLYGON Z (((-110.81969 29.36527 0.00000,...</td>\n",
       "      <td>21.052632</td>\n",
       "      <td>POINT (-110.82789 29.16191)</td>\n",
       "    </tr>\n",
       "    <tr>\n",
       "      <th>12</th>\n",
       "      <td>D13</td>\n",
       "      <td>MULTIPOLYGON Z (((-110.78083 28.54065 0.00000,...</td>\n",
       "      <td>44.444444</td>\n",
       "      <td>POINT (-110.95279 28.24007)</td>\n",
       "    </tr>\n",
       "    <tr>\n",
       "      <th>13</th>\n",
       "      <td>D14</td>\n",
       "      <td>MULTIPOLYGON Z (((-110.59260 28.47868 0.00000,...</td>\n",
       "      <td>20.000000</td>\n",
       "      <td>POINT (-110.35092 27.89480)</td>\n",
       "    </tr>\n",
       "    <tr>\n",
       "      <th>14</th>\n",
       "      <td>D15</td>\n",
       "      <td>MULTIPOLYGON Z (((-109.94274 27.47636 0.00000,...</td>\n",
       "      <td>18.750000</td>\n",
       "      <td>POINT (-109.93116 27.30992)</td>\n",
       "    </tr>\n",
       "    <tr>\n",
       "      <th>15</th>\n",
       "      <td>D16</td>\n",
       "      <td>MULTIPOLYGON Z (((-110.10107 28.33286 0.00000,...</td>\n",
       "      <td>31.250000</td>\n",
       "      <td>POINT (-109.85760 27.97280)</td>\n",
       "    </tr>\n",
       "    <tr>\n",
       "      <th>16</th>\n",
       "      <td>D17</td>\n",
       "      <td>MULTIPOLYGON Z (((-110.01484 27.52410 0.00000,...</td>\n",
       "      <td>29.411765</td>\n",
       "      <td>POINT (-110.01580 27.44590)</td>\n",
       "    </tr>\n",
       "    <tr>\n",
       "      <th>17</th>\n",
       "      <td>D18</td>\n",
       "      <td>MULTIPOLYGON Z (((-111.22017 30.71340 0.00000,...</td>\n",
       "      <td>6.250000</td>\n",
       "      <td>POINT (-109.88817 29.69649)</td>\n",
       "    </tr>\n",
       "    <tr>\n",
       "      <th>18</th>\n",
       "      <td>D19</td>\n",
       "      <td>MULTIPOLYGON Z (((-109.48867 27.27185 0.00000,...</td>\n",
       "      <td>13.333333</td>\n",
       "      <td>POINT (-109.35368 27.15222)</td>\n",
       "    </tr>\n",
       "    <tr>\n",
       "      <th>19</th>\n",
       "      <td>D20</td>\n",
       "      <td>MULTIPOLYGON Z (((-109.98866 27.11855 0.00000,...</td>\n",
       "      <td>38.888889</td>\n",
       "      <td>POINT (-109.54852 27.01363)</td>\n",
       "    </tr>\n",
       "    <tr>\n",
       "      <th>20</th>\n",
       "      <td>D21</td>\n",
       "      <td>MULTIPOLYGON Z (((-109.64676 28.39787 0.00000,...</td>\n",
       "      <td>21.428571</td>\n",
       "      <td>POINT (-109.14932 27.54132)</td>\n",
       "    </tr>\n",
       "  </tbody>\n",
       "</table>\n",
       "</div>"
      ],
      "text/plain": [
       "   Name                                           geometry  Porcentaje  \\\n",
       "0   D01  MULTIPOLYGON Z (((-114.74907 32.47515 0.00000,...   28.571429   \n",
       "1   D02  MULTIPOLYGON Z (((-114.79498 32.42485 0.00000,...   36.363636   \n",
       "2   D03  MULTIPOLYGON Z (((-113.51349 32.09552 0.00000,...   29.411765   \n",
       "3   D04  MULTIPOLYGON Z (((-111.22703 31.38073 0.00000,...   33.333333   \n",
       "4   D05  MULTIPOLYGON Z (((-110.95440 31.30058 0.00000,...   13.043478   \n",
       "5   D06  MULTIPOLYGON Z (((-111.02231 29.08180 0.00000,...   23.529412   \n",
       "6   D07  MULTIPOLYGON Z (((-108.80870 31.33288 0.00000,...   41.176471   \n",
       "7   D08  MULTIPOLYGON Z (((-110.99719 29.15680 0.00000,...   13.043478   \n",
       "8   D09  MULTIPOLYGON Z (((-110.99238 29.12435 0.00000,...   10.526316   \n",
       "9   D10  MULTIPOLYGON Z (((-110.99719 29.15680 0.00000,...   36.842105   \n",
       "10  D11  MULTIPOLYGON Z (((-111.53148 29.68994 0.00000,...   17.391304   \n",
       "11  D12  MULTIPOLYGON Z (((-110.81969 29.36527 0.00000,...   21.052632   \n",
       "12  D13  MULTIPOLYGON Z (((-110.78083 28.54065 0.00000,...   44.444444   \n",
       "13  D14  MULTIPOLYGON Z (((-110.59260 28.47868 0.00000,...   20.000000   \n",
       "14  D15  MULTIPOLYGON Z (((-109.94274 27.47636 0.00000,...   18.750000   \n",
       "15  D16  MULTIPOLYGON Z (((-110.10107 28.33286 0.00000,...   31.250000   \n",
       "16  D17  MULTIPOLYGON Z (((-110.01484 27.52410 0.00000,...   29.411765   \n",
       "17  D18  MULTIPOLYGON Z (((-111.22017 30.71340 0.00000,...    6.250000   \n",
       "18  D19  MULTIPOLYGON Z (((-109.48867 27.27185 0.00000,...   13.333333   \n",
       "19  D20  MULTIPOLYGON Z (((-109.98866 27.11855 0.00000,...   38.888889   \n",
       "20  D21  MULTIPOLYGON Z (((-109.64676 28.39787 0.00000,...   21.428571   \n",
       "\n",
       "                         center  \n",
       "0   POINT (-114.86269 32.43795)  \n",
       "1   POINT (-114.02618 31.86153)  \n",
       "2   POINT (-112.19987 30.71576)  \n",
       "3   POINT (-110.89036 31.05419)  \n",
       "4   POINT (-110.93602 31.30644)  \n",
       "5   POINT (-110.98851 29.05860)  \n",
       "6   POINT (-109.71310 30.99136)  \n",
       "7   POINT (-111.03039 29.14647)  \n",
       "8   POINT (-110.98592 29.10132)  \n",
       "9   POINT (-110.96958 29.13950)  \n",
       "10  POINT (-111.49466 29.00129)  \n",
       "11  POINT (-110.82789 29.16191)  \n",
       "12  POINT (-110.95279 28.24007)  \n",
       "13  POINT (-110.35092 27.89480)  \n",
       "14  POINT (-109.93116 27.30992)  \n",
       "15  POINT (-109.85760 27.97280)  \n",
       "16  POINT (-110.01580 27.44590)  \n",
       "17  POINT (-109.88817 29.69649)  \n",
       "18  POINT (-109.35368 27.15222)  \n",
       "19  POINT (-109.54852 27.01363)  \n",
       "20  POINT (-109.14932 27.54132)  "
      ]
     },
     "execution_count": 45,
     "metadata": {},
     "output_type": "execute_result"
    }
   ],
   "source": [
    "gdl"
   ]
  },
  {
   "cell_type": "code",
   "execution_count": 46,
   "id": "failing-berlin",
   "metadata": {},
   "outputs": [
    {
     "data": {
      "image/png": "[encoded data removed]",
      "text/plain": [
       "<Figure size 1440x720 with 1 Axes>"
      ]
     },
     "metadata": {
      "needs_background": "light"
     },
     "output_type": "display_data"
    }
   ],
   "source": [
    "color = plt.get_cmap(\"Spectral\")\n",
    "colors = [ color(i/100) for i in gdl.Porcentaje.values ]\n",
    "y = dl[\"PORCENTAJE\"]\n",
    "figura = dl.plot.bar(figsize=(20,10),\n",
    "            rot=0,\n",
    "            x=\"CODIGO\",\n",
    "            y=\"PORCENTAJE\",\n",
    "            ylim=(0,100),\n",
    "            color=colors)"
   ]
  },
  {
   "cell_type": "code",
   "execution_count": 47,
   "id": "entertaining-times",
   "metadata": {},
   "outputs": [
    {
     "data": {
      "text/html": [
       "<div>\n",
       "<style scoped>\n",
       "    .dataframe tbody tr th:only-of-type {\n",
       "        vertical-align: middle;\n",
       "    }\n",
       "\n",
       "    .dataframe tbody tr th {\n",
       "        vertical-align: top;\n",
       "    }\n",
       "\n",
       "    .dataframe thead th {\n",
       "        text-align: right;\n",
       "    }\n",
       "</style>\n",
       "<table border=\"1\" class=\"dataframe\">\n",
       "  <thead>\n",
       "    <tr style=\"text-align: right;\">\n",
       "      <th></th>\n",
       "      <th>estimacion</th>\n",
       "      <th>delta</th>\n",
       "      <th>minimo</th>\n",
       "      <th>maximo</th>\n",
       "      <th>muestra</th>\n",
       "    </tr>\n",
       "  </thead>\n",
       "  <tbody>\n",
       "    <tr>\n",
       "      <th>PAN</th>\n",
       "      <td>0.423654</td>\n",
       "      <td>0.021466</td>\n",
       "      <td>0.402188</td>\n",
       "      <td>0.445120</td>\n",
       "      <td>92</td>\n",
       "    </tr>\n",
       "    <tr>\n",
       "      <th>COALICION</th>\n",
       "      <td>0.453003</td>\n",
       "      <td>0.020896</td>\n",
       "      <td>0.432107</td>\n",
       "      <td>0.473899</td>\n",
       "      <td>92</td>\n",
       "    </tr>\n",
       "  </tbody>\n",
       "</table>\n",
       "</div>"
      ],
      "text/plain": [
       "           estimacion     delta    minimo    maximo  muestra\n",
       "PAN          0.423654  0.021466  0.402188  0.445120       92\n",
       "COALICION    0.453003  0.020896  0.432107  0.473899       92"
      ]
     },
     "execution_count": 47,
     "metadata": {},
     "output_type": "execute_result"
    }
   ],
   "source": [
    "df_result = pd.DataFrame()\n",
    "df_result = df_result.append(intervalo_PAN, ignore_index=True)\n",
    "df_result = df_result.append(intervalo_COALICION, ignore_index=True)\n",
    "df_result.index = ['PAN','COALICION']\n",
    "df_result"
   ]
  },
  {
   "cell_type": "code",
   "execution_count": 48,
   "id": "lonely-restriction",
   "metadata": {},
   "outputs": [
    {
     "data": {
      "image/png": "[encoded data removed]",
      "text/plain": [
       "<Figure size 1080x720 with 1 Axes>"
      ]
     },
     "metadata": {
      "needs_background": "light"
     },
     "output_type": "display_data"
    }
   ],
   "source": [
    "fig, ax = plt.subplots(figsize=(15,10))\n",
    "\n",
    "ax.errorbar(x=historial_PAN.muestra, y=historial_PAN[\"estimacion\"],yerr=historial_PAN[\"delta\"], label=\"PAN\")\n",
    "ax.errorbar(x=historial_COALICION.muestra, y=historial_COALICION[\"estimacion\"],yerr=historial_COALICION[\"delta\"], label=\"COALICION\")\n",
    "ax.legend(numpoints=1)\n",
    "plt.show()"
   ]
  },
  {
   "cell_type": "code",
   "execution_count": 49,
   "id": "elect-revelation",
   "metadata": {},
   "outputs": [
    {
     "data": {
      "image/png": "[encoded data removed]",
      "text/plain": [
       "<Figure size 1080x720 with 1 Axes>"
      ]
     },
     "metadata": {
      "needs_background": "light"
     },
     "output_type": "display_data"
    }
   ],
   "source": [
    "fig, ax = plt.subplots(figsize=(15,10))\n",
    "\n",
    "rects1 = ax.bar( x=df_result.index, height=df_result.estimacion.values, color=['blue','orange'])"
   ]
  },
  {
   "cell_type": "code",
   "execution_count": 50,
   "id": "beneficial-design",
   "metadata": {},
   "outputs": [
    {
     "data": {
      "application/vnd.plotly.v1+json": {
       "config": {
        "plotlyServerURL": "https://plot.ly"
       },
       "data": [
        {
         "error_y": {
          "array": [
           0.02146574628319749
          ],
          "type": "data",
          "visible": true
         },
         "name": "PAN",
         "type": "scatter",
         "x": [
          92
         ],
         "y": [
          0.42365393136761065
         ]
        },
        {
         "error_y": {
          "array": [
           0.020895694411980685
          ],
          "type": "data",
          "visible": true
         },
         "name": "COALICION",
         "type": "scatter",
         "x": [
          92
         ],
         "y": [
          0.4530031544658699
         ]
        }
       ],
       "layout": {
        "template": {
         "data": {
          "bar": [
           {
            "error_x": {
             "color": "#2a3f5f"
            },
            "error_y": {
             "color": "#2a3f5f"
            },
            "marker": {
             "line": {
              "color": "#E5ECF6",
              "width": 0.5
             }
            },
            "type": "bar"
           }
          ],
          "barpolar": [
           {
            "marker": {
             "line": {
              "color": "#E5ECF6",
              "width": 0.5
             }
            },
            "type": "barpolar"
           }
          ],
          "carpet": [
           {
            "aaxis": {
             "endlinecolor": "#2a3f5f",
             "gridcolor": "white",
             "linecolor": "white",
             "minorgridcolor": "white",
             "startlinecolor": "#2a3f5f"
            },
            "baxis": {
             "endlinecolor": "#2a3f5f",
             "gridcolor": "white",
             "linecolor": "white",
             "minorgridcolor": "white",
             "startlinecolor": "#2a3f5f"
            },
            "type": "carpet"
           }
          ],
          "choropleth": [
           {
            "colorbar": {
             "outlinewidth": 0,
             "ticks": ""
            },
            "type": "choropleth"
           }
          ],
          "contour": [
           {
            "colorbar": {
             "outlinewidth": 0,
             "ticks": ""
            },
            "colorscale": [
             [
              0,
              "#0d0887"
             ],
             [
              0.1111111111111111,
              "#46039f"
             ],
             [
              0.2222222222222222,
              "#7201a8"
             ],
             [
              0.3333333333333333,
              "#9c179e"
             ],
             [
              0.4444444444444444,
              "#bd3786"
             ],
             [
              0.5555555555555556,
              "#d8576b"
             ],
             [
              0.6666666666666666,
              "#ed7953"
             ],
             [
              0.7777777777777778,
              "#fb9f3a"
             ],
             [
              0.8888888888888888,
              "#fdca26"
             ],
             [
              1,
              "#f0f921"
             ]
            ],
            "type": "contour"
           }
          ],
          "contourcarpet": [
           {
            "colorbar": {
             "outlinewidth": 0,
             "ticks": ""
            },
            "type": "contourcarpet"
           }
          ],
          "heatmap": [
           {
            "colorbar": {
             "outlinewidth": 0,
             "ticks": ""
            },
            "colorscale": [
             [
              0,
              "#0d0887"
             ],
             [
              0.1111111111111111,
              "#46039f"
             ],
             [
              0.2222222222222222,
              "#7201a8"
             ],
             [
              0.3333333333333333,
              "#9c179e"
             ],
             [
              0.4444444444444444,
              "#bd3786"
             ],
             [
              0.5555555555555556,
              "#d8576b"
             ],
             [
              0.6666666666666666,
              "#ed7953"
             ],
             [
              0.7777777777777778,
              "#fb9f3a"
             ],
             [
              0.8888888888888888,
              "#fdca26"
             ],
             [
              1,
              "#f0f921"
             ]
            ],
            "type": "heatmap"
           }
          ],
          "heatmapgl": [
           {
            "colorbar": {
             "outlinewidth": 0,
             "ticks": ""
            },
            "colorscale": [
             [
              0,
              "#0d0887"
             ],
             [
              0.1111111111111111,
              "#46039f"
             ],
             [
              0.2222222222222222,
              "#7201a8"
             ],
             [
              0.3333333333333333,
              "#9c179e"
             ],
             [
              0.4444444444444444,
              "#bd3786"
             ],
             [
              0.5555555555555556,
              "#d8576b"
             ],
             [
              0.6666666666666666,
              "#ed7953"
             ],
             [
              0.7777777777777778,
              "#fb9f3a"
             ],
             [
              0.8888888888888888,
              "#fdca26"
             ],
             [
              1,
              "#f0f921"
             ]
            ],
            "type": "heatmapgl"
           }
          ],
          "histogram": [
           {
            "marker": {
             "colorbar": {
              "outlinewidth": 0,
              "ticks": ""
             }
            },
            "type": "histogram"
           }
          ],
          "histogram2d": [
           {
            "colorbar": {
             "outlinewidth": 0,
             "ticks": ""
            },
            "colorscale": [
             [
              0,
              "#0d0887"
             ],
             [
              0.1111111111111111,
              "#46039f"
             ],
             [
              0.2222222222222222,
              "#7201a8"
             ],
             [
              0.3333333333333333,
              "#9c179e"
             ],
             [
              0.4444444444444444,
              "#bd3786"
             ],
             [
              0.5555555555555556,
              "#d8576b"
             ],
             [
              0.6666666666666666,
              "#ed7953"
             ],
             [
              0.7777777777777778,
              "#fb9f3a"
             ],
             [
              0.8888888888888888,
              "#fdca26"
             ],
             [
              1,
              "#f0f921"
             ]
            ],
            "type": "histogram2d"
           }
          ],
          "histogram2dcontour": [
           {
            "colorbar": {
             "outlinewidth": 0,
             "ticks": ""
            },
            "colorscale": [
             [
              0,
              "#0d0887"
             ],
             [
              0.1111111111111111,
              "#46039f"
             ],
             [
              0.2222222222222222,
              "#7201a8"
             ],
             [
              0.3333333333333333,
              "#9c179e"
             ],
             [
              0.4444444444444444,
              "#bd3786"
             ],
             [
              0.5555555555555556,
              "#d8576b"
             ],
             [
              0.6666666666666666,
              "#ed7953"
             ],
             [
              0.7777777777777778,
              "#fb9f3a"
             ],
             [
              0.8888888888888888,
              "#fdca26"
             ],
             [
              1,
              "#f0f921"
             ]
            ],
            "type": "histogram2dcontour"
           }
          ],
          "mesh3d": [
           {
            "colorbar": {
             "outlinewidth": 0,
             "ticks": ""
            },
            "type": "mesh3d"
           }
          ],
          "parcoords": [
           {
            "line": {
             "colorbar": {
              "outlinewidth": 0,
              "ticks": ""
             }
            },
            "type": "parcoords"
           }
          ],
          "pie": [
           {
            "automargin": true,
            "type": "pie"
           }
          ],
          "scatter": [
           {
            "marker": {
             "colorbar": {
              "outlinewidth": 0,
              "ticks": ""
             }
            },
            "type": "scatter"
           }
          ],
          "scatter3d": [
           {
            "line": {
             "colorbar": {
              "outlinewidth": 0,
              "ticks": ""
             }
            },
            "marker": {
             "colorbar": {
              "outlinewidth": 0,
              "ticks": ""
             }
            },
            "type": "scatter3d"
           }
          ],
          "scattercarpet": [
           {
            "marker": {
             "colorbar": {
              "outlinewidth": 0,
              "ticks": ""
             }
            },
            "type": "scattercarpet"
           }
          ],
          "scattergeo": [
           {
            "marker": {
             "colorbar": {
              "outlinewidth": 0,
              "ticks": ""
             }
            },
            "type": "scattergeo"
           }
          ],
          "scattergl": [
           {
            "marker": {
             "colorbar": {
              "outlinewidth": 0,
              "ticks": ""
             }
            },
            "type": "scattergl"
           }
          ],
          "scattermapbox": [
           {
            "marker": {
             "colorbar": {
              "outlinewidth": 0,
              "ticks": ""
             }
            },
            "type": "scattermapbox"
           }
          ],
          "scatterpolar": [
           {
            "marker": {
             "colorbar": {
              "outlinewidth": 0,
              "ticks": ""
             }
            },
            "type": "scatterpolar"
           }
          ],
          "scatterpolargl": [
           {
            "marker": {
             "colorbar": {
              "outlinewidth": 0,
              "ticks": ""
             }
            },
            "type": "scatterpolargl"
           }
          ],
          "scatterternary": [
           {
            "marker": {
             "colorbar": {
              "outlinewidth": 0,
              "ticks": ""
             }
            },
            "type": "scatterternary"
           }
          ],
          "surface": [
           {
            "colorbar": {
             "outlinewidth": 0,
             "ticks": ""
            },
            "colorscale": [
             [
              0,
              "#0d0887"
             ],
             [
              0.1111111111111111,
              "#46039f"
             ],
             [
              0.2222222222222222,
              "#7201a8"
             ],
             [
              0.3333333333333333,
              "#9c179e"
             ],
             [
              0.4444444444444444,
              "#bd3786"
             ],
             [
              0.5555555555555556,
              "#d8576b"
             ],
             [
              0.6666666666666666,
              "#ed7953"
             ],
             [
              0.7777777777777778,
              "#fb9f3a"
             ],
             [
              0.8888888888888888,
              "#fdca26"
             ],
             [
              1,
              "#f0f921"
             ]
            ],
            "type": "surface"
           }
          ],
          "table": [
           {
            "cells": {
             "fill": {
              "color": "#EBF0F8"
             },
             "line": {
              "color": "white"
             }
            },
            "header": {
             "fill": {
              "color": "#C8D4E3"
             },
             "line": {
              "color": "white"
             }
            },
            "type": "table"
           }
          ]
         },
         "layout": {
          "annotationdefaults": {
           "arrowcolor": "#2a3f5f",
           "arrowhead": 0,
           "arrowwidth": 1
          },
          "autotypenumbers": "strict",
          "coloraxis": {
           "colorbar": {
            "outlinewidth": 0,
            "ticks": ""
           }
          },
          "colorscale": {
           "diverging": [
            [
             0,
             "#8e0152"
            ],
            [
             0.1,
             "#c51b7d"
            ],
            [
             0.2,
             "#de77ae"
            ],
            [
             0.3,
             "#f1b6da"
            ],
            [
             0.4,
             "#fde0ef"
            ],
            [
             0.5,
             "#f7f7f7"
            ],
            [
             0.6,
             "#e6f5d0"
            ],
            [
             0.7,
             "#b8e186"
            ],
            [
             0.8,
             "#7fbc41"
            ],
            [
             0.9,
             "#4d9221"
            ],
            [
             1,
             "#276419"
            ]
           ],
           "sequential": [
            [
             0,
             "#0d0887"
            ],
            [
             0.1111111111111111,
             "#46039f"
            ],
            [
             0.2222222222222222,
             "#7201a8"
            ],
            [
             0.3333333333333333,
             "#9c179e"
            ],
            [
             0.4444444444444444,
             "#bd3786"
            ],
            [
             0.5555555555555556,
             "#d8576b"
            ],
            [
             0.6666666666666666,
             "#ed7953"
            ],
            [
             0.7777777777777778,
             "#fb9f3a"
            ],
            [
             0.8888888888888888,
             "#fdca26"
            ],
            [
             1,
             "#f0f921"
            ]
           ],
           "sequentialminus": [
            [
             0,
             "#0d0887"
            ],
            [
             0.1111111111111111,
             "#46039f"
            ],
            [
             0.2222222222222222,
             "#7201a8"
            ],
            [
             0.3333333333333333,
             "#9c179e"
            ],
            [
             0.4444444444444444,
             "#bd3786"
            ],
            [
             0.5555555555555556,
             "#d8576b"
            ],
            [
             0.6666666666666666,
             "#ed7953"
            ],
            [
             0.7777777777777778,
             "#fb9f3a"
            ],
            [
             0.8888888888888888,
             "#fdca26"
            ],
            [
             1,
             "#f0f921"
            ]
           ]
          },
          "colorway": [
           "#636efa",
           "#EF553B",
           "#00cc96",
           "#ab63fa",
           "#FFA15A",
           "#19d3f3",
           "#FF6692",
           "#B6E880",
           "#FF97FF",
           "#FECB52"
          ],
          "font": {
           "color": "#2a3f5f"
          },
          "geo": {
           "bgcolor": "white",
           "lakecolor": "white",
           "landcolor": "#E5ECF6",
           "showlakes": true,
           "showland": true,
           "subunitcolor": "white"
          },
          "hoverlabel": {
           "align": "left"
          },
          "hovermode": "closest",
          "mapbox": {
           "style": "light"
          },
          "paper_bgcolor": "white",
          "plot_bgcolor": "#E5ECF6",
          "polar": {
           "angularaxis": {
            "gridcolor": "white",
            "linecolor": "white",
            "ticks": ""
           },
           "bgcolor": "#E5ECF6",
           "radialaxis": {
            "gridcolor": "white",
            "linecolor": "white",
            "ticks": ""
           }
          },
          "scene": {
           "xaxis": {
            "backgroundcolor": "#E5ECF6",
            "gridcolor": "white",
            "gridwidth": 2,
            "linecolor": "white",
            "showbackground": true,
            "ticks": "",
            "zerolinecolor": "white"
           },
           "yaxis": {
            "backgroundcolor": "#E5ECF6",
            "gridcolor": "white",
            "gridwidth": 2,
            "linecolor": "white",
            "showbackground": true,
            "ticks": "",
            "zerolinecolor": "white"
           },
           "zaxis": {
            "backgroundcolor": "#E5ECF6",
            "gridcolor": "white",
            "gridwidth": 2,
            "linecolor": "white",
            "showbackground": true,
            "ticks": "",
            "zerolinecolor": "white"
           }
          },
          "shapedefaults": {
           "line": {
            "color": "#2a3f5f"
           }
          },
          "ternary": {
           "aaxis": {
            "gridcolor": "white",
            "linecolor": "white",
            "ticks": ""
           },
           "baxis": {
            "gridcolor": "white",
            "linecolor": "white",
            "ticks": ""
           },
           "bgcolor": "#E5ECF6",
           "caxis": {
            "gridcolor": "white",
            "linecolor": "white",
            "ticks": ""
           }
          },
          "title": {
           "x": 0.05
          },
          "xaxis": {
           "automargin": true,
           "gridcolor": "white",
           "linecolor": "white",
           "ticks": "",
           "title": {
            "standoff": 15
           },
           "zerolinecolor": "white",
           "zerolinewidth": 2
          },
          "yaxis": {
           "automargin": true,
           "gridcolor": "white",
           "linecolor": "white",
           "ticks": "",
           "title": {
            "standoff": 15
           },
           "zerolinecolor": "white",
           "zerolinewidth": 2
          }
         }
        }
       }
      },
      "text/html": [
       "<div>                            <div id=\"b097ae03-7013-4fd7-a3ab-f3cff5bd03b6\" class=\"plotly-graph-div\" style=\"height:525px; width:100%;\"></div>            <script type=\"text/javascript\">                require([\"plotly\"], function(Plotly) {                    window.PLOTLYENV=window.PLOTLYENV || {};                                    if (document.getElementById(\"b097ae03-7013-4fd7-a3ab-f3cff5bd03b6\")) {                    Plotly.newPlot(                        \"b097ae03-7013-4fd7-a3ab-f3cff5bd03b6\",                        [{\"error_y\": {\"array\": [0.02146574628319749], \"type\": \"data\", \"visible\": true}, \"name\": \"PAN\", \"type\": \"scatter\", \"x\": [92], \"y\": [0.42365393136761065]}, {\"error_y\": {\"array\": [0.020895694411980685], \"type\": \"data\", \"visible\": true}, \"name\": \"COALICION\", \"type\": \"scatter\", \"x\": [92], \"y\": [0.4530031544658699]}],                        {\"template\": {\"data\": {\"bar\": [{\"error_x\": {\"color\": \"#2a3f5f\"}, \"error_y\": {\"color\": \"#2a3f5f\"}, \"marker\": {\"line\": {\"color\": \"#E5ECF6\", \"width\": 0.5}}, \"type\": \"bar\"}], \"barpolar\": [{\"marker\": {\"line\": {\"color\": \"#E5ECF6\", \"width\": 0.5}}, \"type\": \"barpolar\"}], \"carpet\": [{\"aaxis\": {\"endlinecolor\": \"#2a3f5f\", \"gridcolor\": \"white\", \"linecolor\": \"white\", \"minorgridcolor\": \"white\", \"startlinecolor\": \"#2a3f5f\"}, \"baxis\": {\"endlinecolor\": \"#2a3f5f\", \"gridcolor\": \"white\", \"linecolor\": \"white\", \"minorgridcolor\": \"white\", \"startlinecolor\": \"#2a3f5f\"}, \"type\": \"carpet\"}], \"choropleth\": [{\"colorbar\": {\"outlinewidth\": 0, \"ticks\": \"\"}, \"type\": \"choropleth\"}], \"contour\": [{\"colorbar\": {\"outlinewidth\": 0, \"ticks\": \"\"}, \"colorscale\": [[0.0, \"#0d0887\"], [0.1111111111111111, \"#46039f\"], [0.2222222222222222, \"#7201a8\"], [0.3333333333333333, \"#9c179e\"], [0.4444444444444444, \"#bd3786\"], [0.5555555555555556, \"#d8576b\"], [0.6666666666666666, \"#ed7953\"], [0.7777777777777778, \"#fb9f3a\"], [0.8888888888888888, \"#fdca26\"], [1.0, \"#f0f921\"]], \"type\": \"contour\"}], \"contourcarpet\": [{\"colorbar\": {\"outlinewidth\": 0, \"ticks\": \"\"}, \"type\": \"contourcarpet\"}], \"heatmap\": [{\"colorbar\": {\"outlinewidth\": 0, \"ticks\": \"\"}, \"colorscale\": [[0.0, \"#0d0887\"], [0.1111111111111111, \"#46039f\"], [0.2222222222222222, \"#7201a8\"], [0.3333333333333333, \"#9c179e\"], [0.4444444444444444, \"#bd3786\"], [0.5555555555555556, \"#d8576b\"], [0.6666666666666666, \"#ed7953\"], [0.7777777777777778, \"#fb9f3a\"], [0.8888888888888888, \"#fdca26\"], [1.0, \"#f0f921\"]], \"type\": \"heatmap\"}], \"heatmapgl\": [{\"colorbar\": {\"outlinewidth\": 0, \"ticks\": \"\"}, \"colorscale\": [[0.0, \"#0d0887\"], [0.1111111111111111, \"#46039f\"], [0.2222222222222222, \"#7201a8\"], [0.3333333333333333, \"#9c179e\"], [0.4444444444444444, \"#bd3786\"], [0.5555555555555556, \"#d8576b\"], [0.6666666666666666, \"#ed7953\"], [0.7777777777777778, \"#fb9f3a\"], [0.8888888888888888, \"#fdca26\"], [1.0, \"#f0f921\"]], \"type\": \"heatmapgl\"}], \"histogram\": [{\"marker\": {\"colorbar\": {\"outlinewidth\": 0, \"ticks\": \"\"}}, \"type\": \"histogram\"}], \"histogram2d\": [{\"colorbar\": {\"outlinewidth\": 0, \"ticks\": \"\"}, \"colorscale\": [[0.0, \"#0d0887\"], [0.1111111111111111, \"#46039f\"], [0.2222222222222222, \"#7201a8\"], [0.3333333333333333, \"#9c179e\"], [0.4444444444444444, \"#bd3786\"], [0.5555555555555556, \"#d8576b\"], [0.6666666666666666, \"#ed7953\"], [0.7777777777777778, \"#fb9f3a\"], [0.8888888888888888, \"#fdca26\"], [1.0, \"#f0f921\"]], \"type\": \"histogram2d\"}], \"histogram2dcontour\": [{\"colorbar\": {\"outlinewidth\": 0, \"ticks\": \"\"}, \"colorscale\": [[0.0, \"#0d0887\"], [0.1111111111111111, \"#46039f\"], [0.2222222222222222, \"#7201a8\"], [0.3333333333333333, \"#9c179e\"], [0.4444444444444444, \"#bd3786\"], [0.5555555555555556, \"#d8576b\"], [0.6666666666666666, \"#ed7953\"], [0.7777777777777778, \"#fb9f3a\"], [0.8888888888888888, \"#fdca26\"], [1.0, \"#f0f921\"]], \"type\": \"histogram2dcontour\"}], \"mesh3d\": [{\"colorbar\": {\"outlinewidth\": 0, \"ticks\": \"\"}, \"type\": \"mesh3d\"}], \"parcoords\": [{\"line\": {\"colorbar\": {\"outlinewidth\": 0, \"ticks\": \"\"}}, \"type\": \"parcoords\"}], \"pie\": [{\"automargin\": true, \"type\": \"pie\"}], \"scatter\": [{\"marker\": {\"colorbar\": {\"outlinewidth\": 0, \"ticks\": \"\"}}, \"type\": \"scatter\"}], \"scatter3d\": [{\"line\": {\"colorbar\": {\"outlinewidth\": 0, \"ticks\": \"\"}}, \"marker\": {\"colorbar\": {\"outlinewidth\": 0, \"ticks\": \"\"}}, \"type\": \"scatter3d\"}], \"scattercarpet\": [{\"marker\": {\"colorbar\": {\"outlinewidth\": 0, \"ticks\": \"\"}}, \"type\": \"scattercarpet\"}], \"scattergeo\": [{\"marker\": {\"colorbar\": {\"outlinewidth\": 0, \"ticks\": \"\"}}, \"type\": \"scattergeo\"}], \"scattergl\": [{\"marker\": {\"colorbar\": {\"outlinewidth\": 0, \"ticks\": \"\"}}, \"type\": \"scattergl\"}], \"scattermapbox\": [{\"marker\": {\"colorbar\": {\"outlinewidth\": 0, \"ticks\": \"\"}}, \"type\": \"scattermapbox\"}], \"scatterpolar\": [{\"marker\": {\"colorbar\": {\"outlinewidth\": 0, \"ticks\": \"\"}}, \"type\": \"scatterpolar\"}], \"scatterpolargl\": [{\"marker\": {\"colorbar\": {\"outlinewidth\": 0, \"ticks\": \"\"}}, \"type\": \"scatterpolargl\"}], \"scatterternary\": [{\"marker\": {\"colorbar\": {\"outlinewidth\": 0, \"ticks\": \"\"}}, \"type\": \"scatterternary\"}], \"surface\": [{\"colorbar\": {\"outlinewidth\": 0, \"ticks\": \"\"}, \"colorscale\": [[0.0, \"#0d0887\"], [0.1111111111111111, \"#46039f\"], [0.2222222222222222, \"#7201a8\"], [0.3333333333333333, \"#9c179e\"], [0.4444444444444444, \"#bd3786\"], [0.5555555555555556, \"#d8576b\"], [0.6666666666666666, \"#ed7953\"], [0.7777777777777778, \"#fb9f3a\"], [0.8888888888888888, \"#fdca26\"], [1.0, \"#f0f921\"]], \"type\": \"surface\"}], \"table\": [{\"cells\": {\"fill\": {\"color\": \"#EBF0F8\"}, \"line\": {\"color\": \"white\"}}, \"header\": {\"fill\": {\"color\": \"#C8D4E3\"}, \"line\": {\"color\": \"white\"}}, \"type\": \"table\"}]}, \"layout\": {\"annotationdefaults\": {\"arrowcolor\": \"#2a3f5f\", \"arrowhead\": 0, \"arrowwidth\": 1}, \"autotypenumbers\": \"strict\", \"coloraxis\": {\"colorbar\": {\"outlinewidth\": 0, \"ticks\": \"\"}}, \"colorscale\": {\"diverging\": [[0, \"#8e0152\"], [0.1, \"#c51b7d\"], [0.2, \"#de77ae\"], [0.3, \"#f1b6da\"], [0.4, \"#fde0ef\"], [0.5, \"#f7f7f7\"], [0.6, \"#e6f5d0\"], [0.7, \"#b8e186\"], [0.8, \"#7fbc41\"], [0.9, \"#4d9221\"], [1, \"#276419\"]], \"sequential\": [[0.0, \"#0d0887\"], [0.1111111111111111, \"#46039f\"], [0.2222222222222222, \"#7201a8\"], [0.3333333333333333, \"#9c179e\"], [0.4444444444444444, \"#bd3786\"], [0.5555555555555556, \"#d8576b\"], [0.6666666666666666, \"#ed7953\"], [0.7777777777777778, \"#fb9f3a\"], [0.8888888888888888, \"#fdca26\"], [1.0, \"#f0f921\"]], \"sequentialminus\": [[0.0, \"#0d0887\"], [0.1111111111111111, \"#46039f\"], [0.2222222222222222, \"#7201a8\"], [0.3333333333333333, \"#9c179e\"], [0.4444444444444444, \"#bd3786\"], [0.5555555555555556, \"#d8576b\"], [0.6666666666666666, \"#ed7953\"], [0.7777777777777778, \"#fb9f3a\"], [0.8888888888888888, \"#fdca26\"], [1.0, \"#f0f921\"]]}, \"colorway\": [\"#636efa\", \"#EF553B\", \"#00cc96\", \"#ab63fa\", \"#FFA15A\", \"#19d3f3\", \"#FF6692\", \"#B6E880\", \"#FF97FF\", \"#FECB52\"], \"font\": {\"color\": \"#2a3f5f\"}, \"geo\": {\"bgcolor\": \"white\", \"lakecolor\": \"white\", \"landcolor\": \"#E5ECF6\", \"showlakes\": true, \"showland\": true, \"subunitcolor\": \"white\"}, \"hoverlabel\": {\"align\": \"left\"}, \"hovermode\": \"closest\", \"mapbox\": {\"style\": \"light\"}, \"paper_bgcolor\": \"white\", \"plot_bgcolor\": \"#E5ECF6\", \"polar\": {\"angularaxis\": {\"gridcolor\": \"white\", \"linecolor\": \"white\", \"ticks\": \"\"}, \"bgcolor\": \"#E5ECF6\", \"radialaxis\": {\"gridcolor\": \"white\", \"linecolor\": \"white\", \"ticks\": \"\"}}, \"scene\": {\"xaxis\": {\"backgroundcolor\": \"#E5ECF6\", \"gridcolor\": \"white\", \"gridwidth\": 2, \"linecolor\": \"white\", \"showbackground\": true, \"ticks\": \"\", \"zerolinecolor\": \"white\"}, \"yaxis\": {\"backgroundcolor\": \"#E5ECF6\", \"gridcolor\": \"white\", \"gridwidth\": 2, \"linecolor\": \"white\", \"showbackground\": true, \"ticks\": \"\", \"zerolinecolor\": \"white\"}, \"zaxis\": {\"backgroundcolor\": \"#E5ECF6\", \"gridcolor\": \"white\", \"gridwidth\": 2, \"linecolor\": \"white\", \"showbackground\": true, \"ticks\": \"\", \"zerolinecolor\": \"white\"}}, \"shapedefaults\": {\"line\": {\"color\": \"#2a3f5f\"}}, \"ternary\": {\"aaxis\": {\"gridcolor\": \"white\", \"linecolor\": \"white\", \"ticks\": \"\"}, \"baxis\": {\"gridcolor\": \"white\", \"linecolor\": \"white\", \"ticks\": \"\"}, \"bgcolor\": \"#E5ECF6\", \"caxis\": {\"gridcolor\": \"white\", \"linecolor\": \"white\", \"ticks\": \"\"}}, \"title\": {\"x\": 0.05}, \"xaxis\": {\"automargin\": true, \"gridcolor\": \"white\", \"linecolor\": \"white\", \"ticks\": \"\", \"title\": {\"standoff\": 15}, \"zerolinecolor\": \"white\", \"zerolinewidth\": 2}, \"yaxis\": {\"automargin\": true, \"gridcolor\": \"white\", \"linecolor\": \"white\", \"ticks\": \"\", \"title\": {\"standoff\": 15}, \"zerolinecolor\": \"white\", \"zerolinewidth\": 2}}}},                        {\"responsive\": true}                    ).then(function(){\n",
       "                            \n",
       "var gd = document.getElementById('b097ae03-7013-4fd7-a3ab-f3cff5bd03b6');\n",
       "var x = new MutationObserver(function (mutations, observer) {{\n",
       "        var display = window.getComputedStyle(gd).display;\n",
       "        if (!display || display === 'none') {{\n",
       "            console.log([gd, 'removed!']);\n",
       "            Plotly.purge(gd);\n",
       "            observer.disconnect();\n",
       "        }}\n",
       "}});\n",
       "\n",
       "// Listen for the removal of the full notebook cells\n",
       "var notebookContainer = gd.closest('#notebook-container');\n",
       "if (notebookContainer) {{\n",
       "    x.observe(notebookContainer, {childList: true});\n",
       "}}\n",
       "\n",
       "// Listen for the clearing of the current output cell\n",
       "var outputEl = gd.closest('.output');\n",
       "if (outputEl) {{\n",
       "    x.observe(outputEl, {childList: true});\n",
       "}}\n",
       "\n",
       "                        })                };                });            </script>        </div>"
      ]
     },
     "metadata": {},
     "output_type": "display_data"
    }
   ],
   "source": [
    "import plotly.graph_objects as go\n",
    "\n",
    "fig_plotly = go.Figure()\n",
    "\n",
    "fig_plotly.add_trace(go.Scatter(\n",
    "        name='PAN',\n",
    "        x=historial_PAN.muestra,\n",
    "        y=historial_PAN[\"estimacion\"],\n",
    "        error_y=dict(\n",
    "            type='data',\n",
    "            array=historial_PAN[\"delta\"],\n",
    "            visible=True\n",
    "        )\n",
    "    ))\n",
    "fig_plotly.add_trace(go.Scatter(\n",
    "        name='COALICION',\n",
    "        x=historial_COALICION.muestra,\n",
    "        y=historial_COALICION[\"estimacion\"],\n",
    "        error_y=dict(\n",
    "            type='data',\n",
    "            array=historial_COALICION[\"delta\"],\n",
    "            visible=True\n",
    "        )\n",
    "    ))\n",
    "\n",
    "fig_plotly.show()"
   ]
  },
  {
   "cell_type": "code",
   "execution_count": null,
   "id": "nervous-numbers",
   "metadata": {},
   "outputs": [],
   "source": []
  },
  {
   "cell_type": "code",
   "execution_count": null,
   "id": "smooth-lemon",
   "metadata": {},
   "outputs": [],
   "source": []
  },
  {
   "cell_type": "code",
   "execution_count": null,
   "id": "downtown-variable",
   "metadata": {},
   "outputs": [],
   "source": [
    "\n"
   ]
  }
 ],
 "metadata": {
  "kernelspec": {
   "display_name": "Python 3",
   "language": "python",
   "name": "python3"
  },
  "language_info": {
   "codemirror_mode": {
    "name": "ipython",
    "version": 3
   },
   "file_extension": ".py",
   "mimetype": "text/x-python",
   "name": "python",
   "nbconvert_exporter": "python",
   "pygments_lexer": "ipython3",
   "version": "3.9.1"
  },
  "widgets": {
   "application/vnd.jupyter.widget-state+json": {
    "state": {},
    "version_major": 2,
    "version_minor": 0
   }
  }
 },
 "nbformat": 4,
 "nbformat_minor": 5
}
